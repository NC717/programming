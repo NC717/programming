{
 "cells": [
  {
   "cell_type": "markdown",
   "metadata": {},
   "source": [
    "## Named Tuples\n",
    "\n",
    "2016.2.18\n",
    "\n",
    "create a tuple with names for clearity (compared with tuples) and also has the immutable feature.\n",
    "\n",
    "https://www.youtube.com/watch?v=GfxJYp9_nJA"
   ]
  },
  {
   "cell_type": "code",
   "execution_count": 1,
   "metadata": {
    "collapsed": false
   },
   "outputs": [
    {
     "name": "stdout",
     "output_type": "stream",
     "text": [
      "55\n"
     ]
    }
   ],
   "source": [
    "from collections import namedtuple\n",
    "\n",
    "# create the name tuple by assigning the field name\n",
    "Color = namedtuple( \"Color\", [ \"red\", \"green\", \"blue\" ] )\n",
    "color = Color( 55, 55, 55 )\n",
    "\n",
    "# access the element using .field name\n",
    "print( color.red )"
   ]
  },
  {
   "cell_type": "markdown",
   "metadata": {},
   "source": [
    "## DefaultDict\n",
    "\n",
    "Whenever you need a dictionary, and each value of the dictionary has to start with the default value, use defaultdict.\n",
    "\n",
    "A defaultdict will never raise a KeyError. Any key that does not exist gets the value returned by the default factory.\n",
    "\n",
    "https://www.accelebrate.com/blog/using-defaultdict-python/"
   ]
  },
  {
   "cell_type": "code",
   "execution_count": 2,
   "metadata": {
    "collapsed": true
   },
   "outputs": [],
   "source": [
    "from collections import defaultdict"
   ]
  },
  {
   "cell_type": "code",
   "execution_count": 3,
   "metadata": {
    "collapsed": false
   },
   "outputs": [
    {
     "name": "stdout",
     "output_type": "stream",
     "text": [
      "Chunky Monkey\n",
      "Vanilla\n"
     ]
    }
   ],
   "source": [
    "# example 1 \n",
    "\n",
    "ice_cream = defaultdict( lambda : 'Vanilla' )\n",
    "ice_cream['Sarah'] = 'Chunky Monkey'\n",
    "ice_cream['Abdul'] = 'Butter Pecan'\n",
    "print ice_cream['Sarah']\n",
    "print ice_cream['Joe'] # Joe does not exist in the dictionary, return default value"
   ]
  },
  {
   "cell_type": "code",
   "execution_count": 4,
   "metadata": {
    "collapsed": false
   },
   "outputs": [
    {
     "name": "stdout",
     "output_type": "stream",
     "text": [
      "('NY', 'Albany, Syracuse, Buffalo, Rochester')\n",
      "('CA', 'Sacramento, Palo Alto')\n",
      "('GA', 'Atlanta')\n",
      "('TX', 'Austin, Houston, Dallas')\n"
     ]
    }
   ],
   "source": [
    "# example 2\n",
    "\n",
    "city_list = [ ('TX','Austin'), ('TX','Houston'), ('NY','Albany'), ('NY', 'Syracuse'), \n",
    "              ('NY', 'Buffalo'), ('NY', 'Rochester'), ('TX', 'Dallas'), ('CA','Sacramento'), \n",
    "              ('CA', 'Palo Alto'), ('GA', 'Atlanta') ]\n",
    "\n",
    "cities_by_state = defaultdict(list)\n",
    "\n",
    "for state, city in city_list :\n",
    "    cities_by_state[state].append(city)\n",
    "\n",
    "for state, cities in cities_by_state.items() :\n",
    "    print( state, \", \".join(cities) )"
   ]
  }
 ],
 "metadata": {
  "kernelspec": {
   "display_name": "Python 2",
   "language": "python",
   "name": "python2"
  },
  "language_info": {
   "codemirror_mode": {
    "name": "ipython",
    "version": 2
   },
   "file_extension": ".py",
   "mimetype": "text/x-python",
   "name": "python",
   "nbconvert_exporter": "python",
   "pygments_lexer": "ipython2",
   "version": "2.7.10"
  }
 },
 "nbformat": 4,
 "nbformat_minor": 0
}
