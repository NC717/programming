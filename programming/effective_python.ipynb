{
 "cells": [
  {
   "cell_type": "markdown",
   "metadata": {},
   "source": [
    "# Effective Python\n",
    "\n",
    "https://www.youtube.com/watch?v=WjJUPxKB164"
   ]
  },
  {
   "cell_type": "markdown",
   "metadata": {},
   "source": [
    "You have a function that takes a message and a value and prints them out after organizing them."
   ]
  },
  {
   "cell_type": "code",
   "execution_count": 7,
   "metadata": {
    "collapsed": true
   },
   "outputs": [],
   "source": [
    "def log1( message, values ):\n",
    "    # any empty sequence is evaluated as False\n",
    "    if not values:\n",
    "        print(message)\n",
    "    else:\n",
    "        out = ', '.join( str(x) for x in values )\n",
    "        print( '%s: %s' % ( message, out ) )"
   ]
  },
  {
   "cell_type": "code",
   "execution_count": 8,
   "metadata": {
    "collapsed": false
   },
   "outputs": [
    {
     "name": "stdout",
     "output_type": "stream",
     "text": [
      "My numbers are: 1, 2\n",
      "Hi there\n"
     ]
    }
   ],
   "source": [
    "log1( 'My numbers are', [ 1, 2 ] )\n",
    "log1( 'Hi there', [] )"
   ]
  },
  {
   "cell_type": "markdown",
   "metadata": {},
   "source": [
    "Instead of having to use a empty bracket when there's no value, fix it by adding a * sign so that you only need to pass in the values when you need them."
   ]
  },
  {
   "cell_type": "code",
   "execution_count": 9,
   "metadata": {
    "collapsed": true
   },
   "outputs": [],
   "source": [
    "def log2( message, *values ):\n",
    "    if not values:\n",
    "        print(message)\n",
    "    else:\n",
    "        out = ', '.join( str(x) for x in values )\n",
    "        print( '%s: %s' % ( message, out ) )"
   ]
  },
  {
   "cell_type": "code",
   "execution_count": 10,
   "metadata": {
    "collapsed": false
   },
   "outputs": [
    {
     "name": "stdout",
     "output_type": "stream",
     "text": [
      "My numbers are: 1, 2\n",
      "Hi there\n"
     ]
    }
   ],
   "source": [
    "log2( 'My numbers are', 1, 2 )\n",
    "log2('Hi there')"
   ]
  },
  {
   "cell_type": "markdown",
   "metadata": {},
   "source": [
    "And suppose you already have a list, you can use the * sign when doing the function call."
   ]
  },
  {
   "cell_type": "code",
   "execution_count": 11,
   "metadata": {
    "collapsed": false
   },
   "outputs": [
    {
     "name": "stdout",
     "output_type": "stream",
     "text": [
      "My numbers are: 7, 33, 99\n"
     ]
    }
   ],
   "source": [
    "favorites = [ 7, 33, 99 ]\n",
    "log2( 'My numbers are', *favorites )"
   ]
  },
  {
   "cell_type": "markdown",
   "metadata": {},
   "source": [
    "**Notes:** This is good for removing noise and makes your code more readable."
   ]
  },
  {
   "cell_type": "markdown",
   "metadata": {},
   "source": [
    "Generators instead of lists."
   ]
  }
 ],
 "metadata": {
  "kernelspec": {
   "display_name": "Python 2",
   "language": "python",
   "name": "python2"
  },
  "language_info": {
   "codemirror_mode": {
    "name": "ipython",
    "version": 2
   },
   "file_extension": ".py",
   "mimetype": "text/x-python",
   "name": "python",
   "nbconvert_exporter": "python",
   "pygments_lexer": "ipython2",
   "version": "2.7.10"
  }
 },
 "nbformat": 4,
 "nbformat_minor": 0
}
