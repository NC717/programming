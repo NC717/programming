{
 "cells": [
  {
   "cell_type": "markdown",
   "metadata": {},
   "source": [
    "# Idiomatic Python\n",
    "\n",
    "2016.2.19\n",
    "\n",
    "1. Tricks with list and dictionaries.\n",
    "2. For else statement for removing unnecessary flag variables.\n",
    "2. Decorators for clear function wrapping. (http://stackoverflow.com/questions/739654/how-can-i-make-a-chain-of-function-decorators-in-python?rq=1)\n",
    "\n",
    "https://www.youtube.com/watch?v=OSGv2VnC0go\n",
    "\n",
    "Whenever you're manipulating indices directly in python, you're probably doing it wrong.\n",
    "\n",
    "**Looping over a range of numbers**\n",
    "\n",
    "In python2, use `xrange` instead of `range` for looping over a range of numbers. In python3 `xrange` has changed to `range`.\n",
    "\n",
    "`xrange` instead of creating the list of numbers, will produce an iterator over the range, producing one value at a time. More memory efficient."
   ]
  },
  {
   "cell_type": "code",
   "execution_count": 1,
   "metadata": {
    "collapsed": false
   },
   "outputs": [
    {
     "name": "stdout",
     "output_type": "stream",
     "text": [
      "0\n",
      "1\n",
      "2\n"
     ]
    }
   ],
   "source": [
    "for i in xrange(3) :\n",
    "    print i"
   ]
  },
  {
   "cell_type": "markdown",
   "metadata": {},
   "source": [
    "**Looping over a collection**\n",
    "\n",
    "Use in instead of indexes."
   ]
  },
  {
   "cell_type": "code",
   "execution_count": 2,
   "metadata": {
    "collapsed": false
   },
   "outputs": [
    {
     "name": "stdout",
     "output_type": "stream",
     "text": [
      "red\n",
      "green\n",
      "blue\n"
     ]
    }
   ],
   "source": [
    "colors = [ \"red\", \"green\", \"blue\" ]\n",
    "for color in colors :\n",
    "    print color"
   ]
  },
  {
   "cell_type": "markdown",
   "metadata": {},
   "source": [
    "**Loop Backwards**\n",
    "\n",
    "Use `reversed` instead of indexes."
   ]
  },
  {
   "cell_type": "code",
   "execution_count": 3,
   "metadata": {
    "collapsed": false
   },
   "outputs": [
    {
     "name": "stdout",
     "output_type": "stream",
     "text": [
      "blue\n",
      "green\n",
      "red\n"
     ]
    }
   ],
   "source": [
    "for color in reversed(colors) :\n",
    "    print color"
   ]
  },
  {
   "cell_type": "markdown",
   "metadata": {},
   "source": [
    "**Loop over indices and the collection**\n",
    "\n",
    "Use `enumerate`."
   ]
  },
  {
   "cell_type": "code",
   "execution_count": 4,
   "metadata": {
    "collapsed": false
   },
   "outputs": [
    {
     "name": "stdout",
     "output_type": "stream",
     "text": [
      "0 red\n",
      "1 green\n",
      "2 blue\n"
     ]
    }
   ],
   "source": [
    "for i, color in enumerate(colors) :\n",
    "    print i, color"
   ]
  },
  {
   "cell_type": "markdown",
   "metadata": {},
   "source": [
    "**Looping over two indices**\n",
    "\n",
    "Use `izip` instead of `zip`. `zip` will create another tuple pointing to the original two list, which will be memory-inefficient when the original list is large. Though for small list, `zip` will be a little bit faster."
   ]
  },
  {
   "cell_type": "code",
   "execution_count": 5,
   "metadata": {
    "collapsed": false
   },
   "outputs": [
    {
     "name": "stdout",
     "output_type": "stream",
     "text": [
      "raymond red\n",
      "rachel green\n",
      "matthew blue\n"
     ]
    }
   ],
   "source": [
    "from itertools import izip\n",
    "\n",
    "names = [ \"raymond\", \"rachel\", \"matthew\" ]\n",
    "colors = [ \"red\", \"green\", \"blue\" ]\n",
    "\n",
    "for name, color in izip( names, colors ) :\n",
    "    print name, color"
   ]
  },
  {
   "cell_type": "markdown",
   "metadata": {},
   "source": [
    "**Looping in sorted order**\n",
    "\n",
    "Use `sorted` and the key argument."
   ]
  },
  {
   "cell_type": "code",
   "execution_count": 6,
   "metadata": {
    "collapsed": false
   },
   "outputs": [
    {
     "name": "stdout",
     "output_type": "stream",
     "text": [
      "blue\n",
      "green\n",
      "red\n"
     ]
    }
   ],
   "source": [
    "for color in sorted(colors) :\n",
    "    print color"
   ]
  },
  {
   "cell_type": "code",
   "execution_count": 7,
   "metadata": {
    "collapsed": false
   },
   "outputs": [
    {
     "name": "stdout",
     "output_type": "stream",
     "text": [
      "red\n",
      "green\n",
      "blue\n"
     ]
    }
   ],
   "source": [
    "for color in sorted( colors, reverse = True ) :\n",
    "    print color"
   ]
  },
  {
   "cell_type": "code",
   "execution_count": 8,
   "metadata": {
    "collapsed": false
   },
   "outputs": [
    {
     "name": "stdout",
     "output_type": "stream",
     "text": [
      "red\n",
      "blue\n",
      "green\n"
     ]
    }
   ],
   "source": [
    "# custom sort order\n",
    "for color in sorted( colors, key = len ) :\n",
    "    print color"
   ]
  },
  {
   "cell_type": "markdown",
   "metadata": {},
   "source": [
    "**Looping over keys in dictionary**"
   ]
  },
  {
   "cell_type": "code",
   "execution_count": 9,
   "metadata": {
    "collapsed": false
   },
   "outputs": [
    {
     "name": "stdout",
     "output_type": "stream",
     "text": [
      "matthew\n",
      "rachel\n",
      "raymond\n"
     ]
    }
   ],
   "source": [
    "d = { \"raymond\" : \"blue\", \"rachel\" : \"green\", \"matthew\" : \"red\" }\n",
    "\n",
    "for k in d :\n",
    "    print k"
   ]
  },
  {
   "cell_type": "markdown",
   "metadata": {},
   "source": [
    "If you're mutating the dictinary while you're looping over the dictionary, ask for the keys. This will create a copy of the keys, so that you can act on it."
   ]
  },
  {
   "cell_type": "code",
   "execution_count": 10,
   "metadata": {
    "collapsed": false
   },
   "outputs": [
    {
     "data": {
      "text/plain": [
       "{'matthew': 'red'}"
      ]
     },
     "execution_count": 10,
     "metadata": {},
     "output_type": "execute_result"
    }
   ],
   "source": [
    "for k in d.keys() :\n",
    "    if k.startswith(\"r\") :\n",
    "        del d[k]\n",
    "d"
   ]
  },
  {
   "cell_type": "markdown",
   "metadata": {},
   "source": [
    "Loop over key and value, use `item` for python3. Which is equivalent to `iteritems` in python2."
   ]
  },
  {
   "cell_type": "code",
   "execution_count": 11,
   "metadata": {
    "collapsed": false
   },
   "outputs": [
    {
     "name": "stdout",
     "output_type": "stream",
     "text": [
      "matthew red\n",
      "rachel green\n",
      "raymond blue\n"
     ]
    }
   ],
   "source": [
    "d = { \"raymond\" : \"blue\", \"rachel\" : \"green\", \"matthew\" : \"red\" }\n",
    "\n",
    "for k, v in d.iteritems() :\n",
    "    print k, v"
   ]
  },
  {
   "cell_type": "markdown",
   "metadata": {},
   "source": [
    "**Construct dictionary from pairs of list**"
   ]
  },
  {
   "cell_type": "code",
   "execution_count": 12,
   "metadata": {
    "collapsed": false
   },
   "outputs": [
    {
     "data": {
      "text/plain": [
       "{'matthew': 'blue', 'rachel': 'green', 'raymond': 'red'}"
      ]
     },
     "execution_count": 12,
     "metadata": {},
     "output_type": "execute_result"
    }
   ],
   "source": [
    "dict( izip( names, colors ) )"
   ]
  },
  {
   "cell_type": "markdown",
   "metadata": {},
   "source": [
    "**Counting with dictionaries**\n",
    "\n",
    "Basic way."
   ]
  },
  {
   "cell_type": "code",
   "execution_count": 13,
   "metadata": {
    "collapsed": false
   },
   "outputs": [
    {
     "data": {
      "text/plain": [
       "{'blue': 1, 'green': 2, 'red': 3}"
      ]
     },
     "execution_count": 13,
     "metadata": {},
     "output_type": "execute_result"
    }
   ],
   "source": [
    "colors = [ \"red\", \"green\", \"red\", \"blue\", \"green\", \"red\" ]\n",
    "\n",
    "d = {}\n",
    "for color in colors :\n",
    "    if color not in d :\n",
    "        d[color] = 0\n",
    "    d[color] += 1\n",
    "d"
   ]
  },
  {
   "cell_type": "markdown",
   "metadata": {},
   "source": [
    "`.get` specify the second argument ( if k in D, else d ). If it is missing return 0."
   ]
  },
  {
   "cell_type": "code",
   "execution_count": 14,
   "metadata": {
    "collapsed": false
   },
   "outputs": [
    {
     "data": {
      "text/plain": [
       "{'blue': 1, 'green': 2, 'red': 3}"
      ]
     },
     "execution_count": 14,
     "metadata": {},
     "output_type": "execute_result"
    }
   ],
   "source": [
    "d = {}\n",
    "for color in colors :\n",
    "    d[color] = d.get( color, 0 ) + 1\n",
    "d"
   ]
  },
  {
   "cell_type": "markdown",
   "metadata": {},
   "source": [
    "Default dict."
   ]
  },
  {
   "cell_type": "code",
   "execution_count": 15,
   "metadata": {
    "collapsed": false
   },
   "outputs": [
    {
     "data": {
      "text/plain": [
       "defaultdict(int, {'blue': 1, 'green': 2, 'red': 3})"
      ]
     },
     "execution_count": 15,
     "metadata": {},
     "output_type": "execute_result"
    }
   ],
   "source": [
    "from collections import defaultdict\n",
    "\n",
    "d = defaultdict(int)\n",
    "for color in colors :\n",
    "    d[color] += 1\n",
    "d"
   ]
  },
  {
   "cell_type": "markdown",
   "metadata": {},
   "source": [
    "**Grouping with dictionaries**\n",
    "\n",
    "Group by the length of the characters, where each key is the length of the string and the value is the list of words that are that length."
   ]
  },
  {
   "cell_type": "code",
   "execution_count": 16,
   "metadata": {
    "collapsed": false
   },
   "outputs": [
    {
     "data": {
      "text/plain": [
       "{5: ['roger', 'betty'],\n",
       " 6: ['rachel', 'judith'],\n",
       " 7: ['raymond', 'matthew', 'melissa', 'charlie']}"
      ]
     },
     "execution_count": 16,
     "metadata": {},
     "output_type": "execute_result"
    }
   ],
   "source": [
    "names = [ \"raymond\", \"rachel\", \"matthew\", \"roger\", \n",
    "          \"betty\", \"melissa\", \"judith\", \"charlie\" ]\n",
    "\n",
    "d = {}\n",
    "for name in names :\n",
    "    key = len(name)\n",
    "    if key not in d :\n",
    "        d[key] = []\n",
    "    d[key].append(name)\n",
    "d"
   ]
  },
  {
   "cell_type": "code",
   "execution_count": 17,
   "metadata": {
    "collapsed": false
   },
   "outputs": [
    {
     "data": {
      "text/plain": [
       "defaultdict(list,\n",
       "            {5: ['roger', 'betty'],\n",
       "             6: ['rachel', 'judith'],\n",
       "             7: ['raymond', 'matthew', 'melissa', 'charlie']})"
      ]
     },
     "execution_count": 17,
     "metadata": {},
     "output_type": "execute_result"
    }
   ],
   "source": [
    "d = defaultdict(list)\n",
    "for name in names :\n",
    "    key = len(name)\n",
    "    d[key].append(name)\n",
    "d"
   ]
  },
  {
   "cell_type": "markdown",
   "metadata": {},
   "source": [
    "## For else\n",
    "\n",
    "For else let's you remove extraneous flag variables.\n",
    "\n",
    "http://psung.blogspot.tw/2007/12/for-else-in-python.html\n",
    "\n",
    "Examples with and without `for ... else ...`"
   ]
  },
  {
   "cell_type": "code",
   "execution_count": 18,
   "metadata": {
    "collapsed": false
   },
   "outputs": [],
   "source": [
    "def contains_even_number1(l):\n",
    "    \"\"\"Prints whether or not the list l contains an even number.\"\"\"\n",
    "    has_even_number = False\n",
    "    for elt in l:\n",
    "        if elt % 2 == 0:\n",
    "            has_even_number = True\n",
    "            break\n",
    "    if has_even_number:\n",
    "        print \"list contains an even number\"\n",
    "    else:\n",
    "        print \"list does not contain an even number\"\n",
    "    \n",
    "def contains_even_number2(l):\n",
    "    \"\"\"Prints whether or not the list l contains an even number.\"\"\"\n",
    "    for elt in l:\n",
    "        if elt % 2 == 0:\n",
    "            print \"list contains an even number\"\n",
    "            break\n",
    "    else:\n",
    "        print \"list does not contain an even number\""
   ]
  },
  {
   "cell_type": "code",
   "execution_count": 19,
   "metadata": {
    "collapsed": false
   },
   "outputs": [
    {
     "name": "stdout",
     "output_type": "stream",
     "text": [
      "list contains an even number\n",
      "list contains an even number\n"
     ]
    }
   ],
   "source": [
    "list1 = [ 3, 5, 8 ]\n",
    "contains_even_number1(list1)\n",
    "contains_even_number2(list1)"
   ]
  },
  {
   "cell_type": "markdown",
   "metadata": {},
   "source": [
    "## Decorators\n",
    "\n",
    "http://thecodeship.com/patterns/guide-to-python-function-decorators/\n",
    "\n",
    "[Quick summary](https://www.youtube.com/watch?v=kr0mpwqttM0&feature=cards&src_vid=swU3c34d2NQ&annotation_id=98878b78-dceb-4942-8d49-bcbed34e5263): First Class Functions allow us to treat functions like any other objects. e.g. We can pass functions as arguments to other functions ( like map ); we can return functions and we can assign functions to variables.\n",
    "\n",
    "decorators dynamically alters the functionality of a function, method or class without having to directly use subclasses.\n",
    "\n",
    "Some things you should know about functions!!!"
   ]
  },
  {
   "cell_type": "code",
   "execution_count": 20,
   "metadata": {
    "collapsed": false
   },
   "outputs": [
    {
     "name": "stdout",
     "output_type": "stream",
     "text": [
      "hello John\n"
     ]
    }
   ],
   "source": [
    "# we can assign functions to variables\n",
    "def greet(name) :\n",
    "    return \"hello \" + name\n",
    "\n",
    "greet_someone = greet\n",
    "print greet_someone(\"John\")"
   ]
  },
  {
   "cell_type": "code",
   "execution_count": 21,
   "metadata": {
    "collapsed": false
   },
   "outputs": [
    {
     "name": "stdout",
     "output_type": "stream",
     "text": [
      "Hello John\n"
     ]
    }
   ],
   "source": [
    "# we can define functions inside other functions\n",
    "def greet(name) :\n",
    "    def get_message() :\n",
    "        return \"Hello \"\n",
    "\n",
    "    result = get_message() + name\n",
    "    return result\n",
    "\n",
    "print greet(\"John\")"
   ]
  },
  {
   "cell_type": "code",
   "execution_count": 22,
   "metadata": {
    "collapsed": false
   },
   "outputs": [
    {
     "name": "stdout",
     "output_type": "stream",
     "text": [
      "Hello John\n"
     ]
    }
   ],
   "source": [
    "# functions can be passed as parameters to other functions\n",
    "def greet(name):\n",
    "    return \"Hello \" + name \n",
    "\n",
    "def call_func(func):\n",
    "    other_name = \"John\"\n",
    "    return func(other_name)  \n",
    "\n",
    "print call_func(greet)"
   ]
  },
  {
   "cell_type": "code",
   "execution_count": 23,
   "metadata": {
    "collapsed": false
   },
   "outputs": [
    {
     "name": "stdout",
     "output_type": "stream",
     "text": [
      "Hello John\n"
     ]
    }
   ],
   "source": [
    "# functions can return other functions \n",
    "def compose_greet_func():\n",
    "    def get_message():\n",
    "        return \"Hello John\"\n",
    "\n",
    "    return get_message\n",
    "\n",
    "greet = compose_greet_func()\n",
    "print greet()"
   ]
  },
  {
   "cell_type": "code",
   "execution_count": 24,
   "metadata": {
    "collapsed": false
   },
   "outputs": [
    {
     "name": "stdout",
     "output_type": "stream",
     "text": [
      "Hello John\n"
     ]
    }
   ],
   "source": [
    "# scoping, access the inner functions.\n",
    "# note that python only allows read access to the outer scope and not assignment\n",
    "def compose_greet_func(name):\n",
    "    def get_message():\n",
    "        return \"Hello \" + name\n",
    "\n",
    "    return get_message\n",
    "\n",
    "greet = compose_greet_func(\"John\")\n",
    "print greet()\n"
   ]
  },
  {
   "cell_type": "markdown",
   "metadata": {},
   "source": [
    "Function decorators are simply wrappers to existing functions.\n",
    "\n",
    "In the example below, the `p_decorate` function that takes another function as an argument and generates a new function which augments the work of the original function, and returning the generated function so we can use it anywhere else."
   ]
  },
  {
   "cell_type": "code",
   "execution_count": 25,
   "metadata": {
    "collapsed": false
   },
   "outputs": [
    {
     "name": "stdout",
     "output_type": "stream",
     "text": [
      "<p>lorem ipsum, John dolor sit amet</p>\n"
     ]
    }
   ],
   "source": [
    "def get_text(name):\n",
    "    return \"lorem ipsum, {0} dolor sit amet\".format(name)\n",
    "\n",
    "def p_decorate(func):\n",
    "    def func_wrapper(name):\n",
    "        return \"<p>{0}</p>\".format( func(name) )\n",
    "    return func_wrapper\n",
    "\n",
    "my_get_text = p_decorate(get_text)\n",
    "\n",
    "print my_get_text(\"John\")"
   ]
  },
  {
   "cell_type": "markdown",
   "metadata": {},
   "source": [
    "In python, there's a shortcut for that, which is to mention the name of the decorating function before the function to be decorated. The name of the decorator should start with an @ symbol.\n",
    "\n",
    "So instead of calling `p_decorate(get_text)`. It becomes:"
   ]
  },
  {
   "cell_type": "code",
   "execution_count": 26,
   "metadata": {
    "collapsed": false
   },
   "outputs": [
    {
     "name": "stdout",
     "output_type": "stream",
     "text": [
      "<p>lorem ipsum, John dolor sit amet</p>\n"
     ]
    }
   ],
   "source": [
    "@p_decorate\n",
    "def get_text(name):\n",
    "    return \"lorem ipsum, {0} dolor sit amet\".format(name)\n",
    "\n",
    "print get_text(\"John\")"
   ]
  },
  {
   "cell_type": "markdown",
   "metadata": {},
   "source": [
    "Using multiple decorators. Note the ordering matters."
   ]
  },
  {
   "cell_type": "code",
   "execution_count": 27,
   "metadata": {
    "collapsed": true
   },
   "outputs": [],
   "source": [
    "def p_decorate(func):\n",
    "    def func_wrapper(name):\n",
    "        return \"<p>{0}</p>\".format(func(name))\n",
    "    return func_wrapper\n",
    "\n",
    "def strong_decorate(func):\n",
    "    def func_wrapper(name):\n",
    "        return \"<strong>{0}</strong>\".format(func(name))\n",
    "    return func_wrapper\n",
    "\n",
    "def div_decorate(func):\n",
    "    def func_wrapper(name):\n",
    "        return \"<div>{0}</div>\".format(func(name))\n",
    "    return func_wrapper"
   ]
  },
  {
   "cell_type": "code",
   "execution_count": 28,
   "metadata": {
    "collapsed": false
   },
   "outputs": [
    {
     "name": "stdout",
     "output_type": "stream",
     "text": [
      "<div><p><strong><p>lorem ipsum, John dolor sit amet</p></strong></p></div>\n"
     ]
    }
   ],
   "source": [
    "# original way \n",
    "get_text = div_decorate(p_decorate(strong_decorate(get_text)))\n",
    "print get_text(\"John\")"
   ]
  },
  {
   "cell_type": "code",
   "execution_count": 29,
   "metadata": {
    "collapsed": false
   },
   "outputs": [
    {
     "name": "stdout",
     "output_type": "stream",
     "text": [
      "<div><p><strong>lorem ipsum, John dolor sit amet</strong></p></div>\n"
     ]
    }
   ],
   "source": [
    "# decorator way\n",
    "@div_decorate\n",
    "@p_decorate\n",
    "@strong_decorate\n",
    "def get_text(name):\n",
    "    return \"lorem ipsum, {0} dolor sit amet\".format(name)\n",
    "\n",
    "print get_text(\"John\")"
   ]
  },
  {
   "cell_type": "markdown",
   "metadata": {},
   "source": [
    "You can also use it with methods."
   ]
  },
  {
   "cell_type": "code",
   "execution_count": 30,
   "metadata": {
    "collapsed": false
   },
   "outputs": [
    {
     "name": "stdout",
     "output_type": "stream",
     "text": [
      "<p>John Doe</p>\n"
     ]
    }
   ],
   "source": [
    "def p_decorate(func):\n",
    "    def func_wrapper(self):\n",
    "        return \"<p>{0}</p>\".format(func(self))\n",
    "    return func_wrapper\n",
    "\n",
    "class Person(object):\n",
    "    def __init__(self):\n",
    "        self.name = \"John\"\n",
    "        self.family = \"Doe\"\n",
    "\n",
    "    @p_decorate\n",
    "    def get_fullname(self):\n",
    "        return self.name + \" \" + self.family\n",
    "\n",
    "my_person = Person()\n",
    "print my_person.get_fullname()"
   ]
  }
 ],
 "metadata": {
  "kernelspec": {
   "display_name": "Python 2",
   "language": "python",
   "name": "python2"
  },
  "language_info": {
   "codemirror_mode": {
    "name": "ipython",
    "version": 3
   },
   "file_extension": ".py",
   "mimetype": "text/x-python",
   "name": "python",
   "nbconvert_exporter": "python",
   "pygments_lexer": "ipython3",
   "version": "3.5.1"
  }
 },
 "nbformat": 4,
 "nbformat_minor": 0
}
