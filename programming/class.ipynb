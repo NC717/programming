{
 "cells": [
  {
   "cell_type": "markdown",
   "metadata": {},
   "source": [
    "# Python Classes\n",
    "\n",
    "2016.2.22\n",
    "\n",
    "- @classmethod to add additional constructor to the class.\n",
    "- @staticmethod to attach functions to classes.\n",
    "\n",
    "https://www.youtube.com/watch?v=HTLu2DFOdTg"
   ]
  },
  {
   "cell_type": "markdown",
   "metadata": {},
   "source": [
    "**Include a Module DocString for your module**"
   ]
  },
  {
   "cell_type": "code",
   "execution_count": null,
   "metadata": {
    "collapsed": true
   },
   "outputs": [],
   "source": [
    "class Circle(object):\n",
    "    \"\"\"An advanced circle analytic toolkit\"\"\"  "
   ]
  },
  {
   "cell_type": "markdown",
   "metadata": {},
   "source": [
    "**Initialize instance variables**\n",
    "\n",
    "- Init isn't a constructor. It's job is to initialize the instance variables. Init takes an existing instance 'self' and populates it with instance variables.\n",
    "- Use modules for code reuse, use math.pi instead of 3.14.\n",
    "- Class variables for shared data among all instances. "
   ]
  },
  {
   "cell_type": "code",
   "execution_count": 9,
   "metadata": {
    "collapsed": false
   },
   "outputs": [
    {
     "name": "stdout",
     "output_type": "stream",
     "text": [
      "\n"
     ]
    }
   ],
   "source": [
    "import math\n",
    "\n",
    "class Circle(object): \n",
    "    'An advanced circle analytic toolkit'\n",
    "    \n",
    "    version = '0.1' # class variable\n",
    "    \n",
    "    def __init__( self, radius ):\n",
    "        self.radius = radius\n",
    "        \n",
    "    def area(self):\n",
    "        'Perform quadrature on a shape of uniform radius'\n",
    "        return math.pi * self.radius ** 2.0\n",
    "    \n",
    "    def perimeter(self):\n",
    "        return 2.0 * math.pi * self.radius"
   ]
  },
  {
   "cell_type": "markdown",
   "metadata": {},
   "source": [
    "Create tutorial for your class."
   ]
  },
  {
   "cell_type": "code",
   "execution_count": 3,
   "metadata": {
    "collapsed": false
   },
   "outputs": [
    {
     "name": "stdout",
     "output_type": "stream",
     "text": [
      "Circuituous version 0.1\n",
      "A circle of radius 10\n",
      "has an area of 314.159265359\n"
     ]
    }
   ],
   "source": [
    "print 'Circuituous version', Circle.version\n",
    "c = Circle(10)\n",
    "print 'A circle of radius', c.radius\n",
    "print 'has an area of', c.area()"
   ]
  },
  {
   "cell_type": "code",
   "execution_count": 7,
   "metadata": {
    "collapsed": false
   },
   "outputs": [
    {
     "name": "stdout",
     "output_type": "stream",
     "text": [
      "Using Circuituous version 0.1\n",
      "The average area of 10 random circles\n",
      "is 1.0\n"
     ]
    }
   ],
   "source": [
    "from random import random, seed\n",
    "\n",
    "seed(8675309)                      # for reproduceable results\n",
    "print 'Using Circuituous version', Circle.version\n",
    "n = 10\n",
    "circles = [ Circle(random()) for i in xrange(n) ] # use xrange for memory effecient if you're only looping\n",
    "print 'The average area of', n, 'random circles'\n",
    "avg = sum( [ c.area() for c in circles ] ) / n\n",
    "print 'is %.1f' % avg"
   ]
  },
  {
   "cell_type": "markdown",
   "metadata": {},
   "source": [
    "In python, there're no public, private. It's common to leave instances exposed."
   ]
  },
  {
   "cell_type": "code",
   "execution_count": 10,
   "metadata": {
    "collapsed": false
   },
   "outputs": [
    {
     "name": "stdout",
     "output_type": "stream",
     "text": [
      "A circle with a radius of  0.1\n",
      "has a perimeter of 0.628318530718\n",
      "and a cold area of 0.0314159265359\n",
      "and a warm area of 0.0380132711084\n",
      "\n",
      "A circle with a radius of  0.7\n",
      "has a perimeter of 4.39822971503\n",
      "and a cold area of 1.53938040026\n",
      "and a warm area of 1.86265028431\n",
      "\n",
      "A circle with a radius of  0.8\n",
      "has a perimeter of 5.02654824574\n",
      "and a cold area of 2.0106192983\n",
      "and a warm area of 2.43284935094\n",
      "\n"
     ]
    }
   ],
   "source": [
    "cuts = [0.1, 0.7, 0.8]\n",
    "circles = [Circle(r) for r in cuts]\n",
    "for c in circles:\n",
    "    print 'A circle with a radius of ', c.radius\n",
    "    print 'has a perimeter of', c.perimeter()\n",
    "    print 'and a cold area of', c.area()\n",
    "    c.radius *= 1.1\n",
    "    print 'and a warm area of', c.area()\n",
    "    print"
   ]
  },
  {
   "cell_type": "markdown",
   "metadata": {},
   "source": [
    "**Change functionality through subclassing**\n",
    "\n",
    "If the parent gets called in the subclass method then it is called **extending**.  \n",
    "If the parent does not get called in the subclass method then it is called **overriding**."
   ]
  },
  {
   "cell_type": "code",
   "execution_count": 11,
   "metadata": {
    "collapsed": false
   },
   "outputs": [
    {
     "name": "stdout",
     "output_type": "stream",
     "text": [
      "A tire of radius 22\n",
      "has an inner area of 1520.53084434\n",
      "and an odometer corrected perimeter of 172.787595947\n",
      "\n"
     ]
    }
   ],
   "source": [
    "class Tire(Circle):\n",
    "    'Tires are circles with a corrected perimeter'\n",
    "    \n",
    "    def perimeter(self):\n",
    "        'Circumference corrected for the rubber'\n",
    "        return Circle.perimeter(self) * 1.25\n",
    "    \n",
    "t = Tire(22)\n",
    "print 'A tire of radius', t.radius\n",
    "print 'has an inner area of', t.area()\n",
    "print 'and an odometer corrected perimeter of',\n",
    "print t.perimeter()\n",
    "print"
   ]
  },
  {
   "cell_type": "markdown",
   "metadata": {},
   "source": [
    "**Class methods create alternative constructors**\n",
    "\n",
    "use @classmethod decorator"
   ]
  },
  {
   "cell_type": "code",
   "execution_count": 13,
   "metadata": {
    "collapsed": false
   },
   "outputs": [
    {
     "name": "stdout",
     "output_type": "stream",
     "text": [
      "{'mathew': None, 'rachel': None, 'raymond': None}\n"
     ]
    }
   ],
   "source": [
    "# Examples are different ways construct a dictionary \n",
    "\n",
    "print dict.fromkeys(['raymond', 'rachel', 'mathew'])"
   ]
  },
  {
   "cell_type": "code",
   "execution_count": 15,
   "metadata": {
    "collapsed": true
   },
   "outputs": [],
   "source": [
    "import math\n",
    "\n",
    "class Circle(object): \n",
    "    'An advanced circle analytic toolkit'\n",
    "    version = \"0.3\"\n",
    "        \n",
    "    def __init__(self, radius):\n",
    "        self.radius = radius\n",
    "        \n",
    "    def area(self):\n",
    "        return math.pi * self.radius ** 2.0\n",
    "    \n",
    "    def perimeter(self):\n",
    "        return 2.0 * math.pi * self.radius\n",
    "    \n",
    "    @classmethod  # alternative constructor\n",
    "    def from_bbd(cls, bbd): # cls is an object that holds class itself\n",
    "        'Construct a circle from a bounding box diagonal'\n",
    "        radius = bbd / 2.0 / math.sqrt(2.0)\n",
    "        return Circle(radius)"
   ]
  },
  {
   "cell_type": "markdown",
   "metadata": {},
   "source": [
    "so now instead of having to do this:\n",
    "\n",
    "```\n",
    "bbd = 25.1\n",
    "c = Circle(bbd_to_radius(bbd))\n",
    "```"
   ]
  },
  {
   "cell_type": "code",
   "execution_count": 16,
   "metadata": {
    "collapsed": false
   },
   "outputs": [
    {
     "name": "stdout",
     "output_type": "stream",
     "text": [
      "A circle with a ddb of 25.1\n",
      "has a radius of 8.87419010389\n",
      "and and area of 247.404348461\n",
      "\n"
     ]
    }
   ],
   "source": [
    "c = Circle.from_bbd(25.1)\n",
    "print 'A circle with a ddb of 25.1'\n",
    "print 'has a radius of', c.radius\n",
    "print 'and and area of', c.area()\n",
    "print"
   ]
  },
  {
   "cell_type": "code",
   "execution_count": 17,
   "metadata": {
    "collapsed": false
   },
   "outputs": [
    {
     "name": "stdout",
     "output_type": "stream",
     "text": [
      "A tire of radius 15.9099025767\n",
      "has an inner area of 795.21564044\n",
      "and an odometer corrected perimeter of 99.9648661086\n",
      "\n"
     ]
    }
   ],
   "source": [
    "class Tire(Circle):\n",
    "    'Tires are circles with a corrected perimeter'\n",
    "    \n",
    "    def perimeter(self):\n",
    "        'Circumference corrected for the rubber'\n",
    "        return Circle.perimeter(self) * 1.25\n",
    "    \n",
    "t = Tire.from_bbd(45)\n",
    "print 'A tire of radius', t.radius\n",
    "print 'has an inner area of', t.area()\n",
    "print 'and an odometer corrected perimeter of',\n",
    "print t.perimeter()\n",
    "print"
   ]
  },
  {
   "cell_type": "markdown",
   "metadata": {},
   "source": [
    "Alternative constructors need to anticipate subclassing. \n",
    "We need to change the return type of class method from_bbd from Circle to cls.  \n",
    "Alternative constructors have a parameter cls and be sure to use that parameter because it will support the subclassing. "
   ]
  },
  {
   "cell_type": "code",
   "execution_count": 18,
   "metadata": {
    "collapsed": true
   },
   "outputs": [],
   "source": [
    "import math\n",
    "\n",
    "class Circle(object): \n",
    "    'An advanced circle analytic toolkit'\n",
    "    version = `0.3`\n",
    "        \n",
    "    def __init__(self, radius):\n",
    "        self.radius = radius\n",
    "        \n",
    "    def area(self):\n",
    "        return math.pi * self.radius ** 2.0\n",
    "    \n",
    "    def perimeter(self):\n",
    "        return 2.0 * math.pi * self.radius\n",
    "    \n",
    "    @classmethod                     # alternative constructor\n",
    "    def from_bbd(cls, bbd):\n",
    "        'Construct a circle from a bounding box diagonal'\n",
    "        radius = bbd / 2.0 / math.sqrt(2.0)\n",
    "        return cls(radius)"
   ]
  },
  {
   "cell_type": "code",
   "execution_count": 19,
   "metadata": {
    "collapsed": false
   },
   "outputs": [
    {
     "name": "stdout",
     "output_type": "stream",
     "text": [
      "A tire of radius 15.9099025767\n",
      "has an inner area of 795.21564044\n",
      "and an odometer corrected perimeter of 124.956082636\n",
      "\n"
     ]
    }
   ],
   "source": [
    "class Tire(Circle):\n",
    "    'Tires are circles with a corrected perimeter'\n",
    "    \n",
    "    def perimeter(self):\n",
    "        'Circumference corrected for the rubber'\n",
    "        return Circle.perimeter(self) * 1.25\n",
    "    \n",
    "t = Tire.from_bbd(45)\n",
    "print 'A tire of radius', t.radius\n",
    "print 'has an inner area of', t.area()\n",
    "print 'and an odometer corrected perimeter of',\n",
    "print t.perimeter()\n",
    "print"
   ]
  },
  {
   "cell_type": "markdown",
   "metadata": {},
   "source": [
    "**Move function to a static method**\n",
    "\n",
    "The purpose of static method is to attach functions to classes.  \n",
    "You do it to improve the findability of the function and to make sure that people are using the function in the appropriate context."
   ]
  },
  {
   "cell_type": "code",
   "execution_count": 22,
   "metadata": {
    "collapsed": false
   },
   "outputs": [],
   "source": [
    "import math\n",
    "\n",
    "class Circle(object): \n",
    "    'An advanced circle analytic toolkit'\n",
    "    version = '0.4'\n",
    "        \n",
    "    def __init__(self, radius):\n",
    "        self.radius = radius\n",
    "        \n",
    "    @staticmethod\n",
    "    def angle_to_grade(angle):\n",
    "        'Convert angle in degrees to a percentage grade'\n",
    "        return math.tan(math.radians(angle)) * 100.0    \n",
    "    \n",
    "    def area(self):\n",
    "        return math.pi * self.radius ** 2.0\n",
    "    \n",
    "    def perimeter(self):\n",
    "        return 2.0 * math.pi * self.radius\n",
    "    \n",
    "    @classmethod\n",
    "    def from_bbd(cls, bbd):\n",
    "        'Construct a circle from a bounding box diagonal'\n",
    "        radius = bbd / 2.0 / math.sqrt(2.0)\n",
    "        return cls(radius)"
   ]
  },
  {
   "cell_type": "markdown",
   "metadata": {},
   "source": [
    "For later\n",
    "\n",
    "- @property"
   ]
  }
 ],
 "metadata": {
  "kernelspec": {
   "display_name": "Python 2",
   "language": "python",
   "name": "python2"
  },
  "language_info": {
   "codemirror_mode": {
    "name": "ipython",
    "version": 2
   },
   "file_extension": ".py",
   "mimetype": "text/x-python",
   "name": "python",
   "nbconvert_exporter": "python",
   "pygments_lexer": "ipython2",
   "version": "2.7.10"
  }
 },
 "nbformat": 4,
 "nbformat_minor": 0
}
