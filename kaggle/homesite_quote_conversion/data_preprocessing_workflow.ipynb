{
 "cells": [
  {
   "cell_type": "markdown",
   "metadata": {
    "collapsed": true
   },
   "source": [
    "## Example Workflow of Data Preprocessing\n",
    "\n",
    "Nice preprocessing workflow, reimplemented from [here](https://github.com/Far0n/kaggle-homesite)."
   ]
  },
  {
   "cell_type": "code",
   "execution_count": 1,
   "metadata": {
    "collapsed": true
   },
   "outputs": [],
   "source": [
    "import numpy as np\n",
    "import pandas as pd"
   ]
  },
  {
   "cell_type": "code",
   "execution_count": 2,
   "metadata": {
    "collapsed": false
   },
   "outputs": [
    {
     "data": {
      "text/plain": [
       "(434589, 297)"
      ]
     },
     "execution_count": 2,
     "metadata": {},
     "output_type": "execute_result"
    }
   ],
   "source": [
    "train = pd.read_csv('data/train.csv')\n",
    "test  = pd.read_csv('data/test.csv')\n",
    "\n",
    "# extract the output column\n",
    "y_train = train['QuoteConversion_Flag']\n",
    "\n",
    "# remove the id column from both training and testing \n",
    "train = train.drop( ['QuoteNumber', 'QuoteConversion_Flag'], axis = 1 )\n",
    "test  = test.drop( 'QuoteNumber', axis = 1 )\n",
    "\n",
    "# store the number of the training data, so we \n",
    "# can know where to split the training / testing set after they're\n",
    "# being concatenated for preprocessing\n",
    "ntrain = train.shape[0]\n",
    "\n",
    "# combine the training and testing\n",
    "train_test = pd.concat( ( train, test ), axis = 0, ignore_index = True )\n",
    "train_test.shape"
   ]
  },
  {
   "cell_type": "code",
   "execution_count": 3,
   "metadata": {
    "collapsed": true
   },
   "outputs": [],
   "source": [
    "# dates \n",
    "train_test['Date'] = pd.to_datetime( train_test['Original_Quote_Date'] )\n",
    "train_test['Day']     = train_test['Date'].dt.day\n",
    "train_test['Year']    = train_test['Date'].dt.year\n",
    "train_test['Month']   = train_test['Date'].dt.month\n",
    "train_test['Weekday'] = train_test['Date'].dt.dayofweek\n",
    "train_test = train_test.drop( ['Date', 'Original_Quote_Date'], axis = 1 )"
   ]
  },
  {
   "cell_type": "code",
   "execution_count": 4,
   "metadata": {
    "collapsed": true
   },
   "outputs": [],
   "source": [
    "# some other preprocessing, includinig exclude the commas in numbers and convert it back to int\n",
    "# fill in empty cells and NA values as -1\n",
    "train_test['Field10'] = train_test['Field10'].apply( lambda x: x.replace( ',', '' ) ).astype(np.int)\n",
    "train_test['PropertyField37'] = train_test['PropertyField37'].apply( lambda x: -1 if x == ' ' else x )\n",
    "train_test['GeographicField63'] = train_test['GeographicField63'].apply( lambda x: -1 if x == ' ' else x )\n",
    "train_test = train_test.fillna(-1)"
   ]
  },
  {
   "cell_type": "code",
   "execution_count": 5,
   "metadata": {
    "collapsed": false
   },
   "outputs": [],
   "source": [
    "# dropped because of too many distinct levels\n",
    "high_levels = [ \"PersonalField16\", \"PersonalField17\", \"PersonalField18\", \"PersonalField19\" ]\n",
    "train_test.drop( high_levels, axis = 1, inplace = True )"
   ]
  },
  {
   "cell_type": "code",
   "execution_count": 6,
   "metadata": {
    "collapsed": false
   },
   "outputs": [],
   "source": [
    "# Counting each row's NA values ( in other cases, count outliers ) makes intuitive sense,\n",
    "# since if an applicant has left many fields blank (or uncodable), \n",
    "# then he or she is probably less serious about taking / accepting the quote.\n",
    "# Side note : specify axis = 1 in .apply applys function along columns, equivalent to saying that\n",
    "# this will sum up the values of each rows\n",
    "train_test['NaNCount'] = train_test.apply( lambda x: np.sum( x == -1 ), axis = 1 )"
   ]
  },
  {
   "cell_type": "code",
   "execution_count": 7,
   "metadata": {
    "collapsed": true
   },
   "outputs": [],
   "source": [
    "# split the whole dataset back into training and testing\n",
    "train = train_test.iloc[ :ntrain, : ].copy()\n",
    "test  = train_test.iloc[ ntrain:, : ].copy()"
   ]
  },
  {
   "cell_type": "code",
   "execution_count": 8,
   "metadata": {
    "collapsed": false
   },
   "outputs": [
    {
     "data": {
      "text/html": [
       "<div>\n",
       "<table border=\"1\" class=\"dataframe\">\n",
       "  <thead>\n",
       "    <tr style=\"text-align: right;\">\n",
       "      <th></th>\n",
       "      <th>Field6</th>\n",
       "      <th>Field7</th>\n",
       "      <th>Field8</th>\n",
       "      <th>Field9</th>\n",
       "      <th>Field10</th>\n",
       "      <th>Field11</th>\n",
       "      <th>Field12</th>\n",
       "      <th>CoverageField1A</th>\n",
       "      <th>CoverageField1B</th>\n",
       "      <th>CoverageField2A</th>\n",
       "      <th>...</th>\n",
       "      <th>GeographicField61B</th>\n",
       "      <th>GeographicField62A</th>\n",
       "      <th>GeographicField62B</th>\n",
       "      <th>GeographicField63</th>\n",
       "      <th>GeographicField64</th>\n",
       "      <th>Day</th>\n",
       "      <th>Year</th>\n",
       "      <th>Month</th>\n",
       "      <th>Weekday</th>\n",
       "      <th>NaNCount</th>\n",
       "    </tr>\n",
       "  </thead>\n",
       "  <tbody>\n",
       "    <tr>\n",
       "      <th>0</th>\n",
       "      <td>B</td>\n",
       "      <td>23</td>\n",
       "      <td>0.9403</td>\n",
       "      <td>0.0006</td>\n",
       "      <td>965</td>\n",
       "      <td>1.0200</td>\n",
       "      <td>N</td>\n",
       "      <td>17</td>\n",
       "      <td>23</td>\n",
       "      <td>17</td>\n",
       "      <td>...</td>\n",
       "      <td>18</td>\n",
       "      <td>-1</td>\n",
       "      <td>10</td>\n",
       "      <td>N</td>\n",
       "      <td>CA</td>\n",
       "      <td>16</td>\n",
       "      <td>2013</td>\n",
       "      <td>8</td>\n",
       "      <td>4</td>\n",
       "      <td>15</td>\n",
       "    </tr>\n",
       "    <tr>\n",
       "      <th>1</th>\n",
       "      <td>F</td>\n",
       "      <td>7</td>\n",
       "      <td>1.0006</td>\n",
       "      <td>0.0040</td>\n",
       "      <td>548</td>\n",
       "      <td>1.2433</td>\n",
       "      <td>N</td>\n",
       "      <td>6</td>\n",
       "      <td>8</td>\n",
       "      <td>6</td>\n",
       "      <td>...</td>\n",
       "      <td>17</td>\n",
       "      <td>-1</td>\n",
       "      <td>20</td>\n",
       "      <td>N</td>\n",
       "      <td>NJ</td>\n",
       "      <td>22</td>\n",
       "      <td>2014</td>\n",
       "      <td>4</td>\n",
       "      <td>1</td>\n",
       "      <td>15</td>\n",
       "    </tr>\n",
       "    <tr>\n",
       "      <th>2</th>\n",
       "      <td>F</td>\n",
       "      <td>7</td>\n",
       "      <td>1.0006</td>\n",
       "      <td>0.0040</td>\n",
       "      <td>548</td>\n",
       "      <td>1.2433</td>\n",
       "      <td>N</td>\n",
       "      <td>7</td>\n",
       "      <td>12</td>\n",
       "      <td>7</td>\n",
       "      <td>...</td>\n",
       "      <td>11</td>\n",
       "      <td>-1</td>\n",
       "      <td>8</td>\n",
       "      <td>N</td>\n",
       "      <td>NJ</td>\n",
       "      <td>25</td>\n",
       "      <td>2014</td>\n",
       "      <td>8</td>\n",
       "      <td>0</td>\n",
       "      <td>15</td>\n",
       "    </tr>\n",
       "    <tr>\n",
       "      <th>3</th>\n",
       "      <td>J</td>\n",
       "      <td>10</td>\n",
       "      <td>0.9769</td>\n",
       "      <td>0.0004</td>\n",
       "      <td>1165</td>\n",
       "      <td>1.2665</td>\n",
       "      <td>N</td>\n",
       "      <td>3</td>\n",
       "      <td>2</td>\n",
       "      <td>3</td>\n",
       "      <td>...</td>\n",
       "      <td>9</td>\n",
       "      <td>-1</td>\n",
       "      <td>21</td>\n",
       "      <td>N</td>\n",
       "      <td>TX</td>\n",
       "      <td>15</td>\n",
       "      <td>2013</td>\n",
       "      <td>4</td>\n",
       "      <td>0</td>\n",
       "      <td>17</td>\n",
       "    </tr>\n",
       "    <tr>\n",
       "      <th>4</th>\n",
       "      <td>E</td>\n",
       "      <td>23</td>\n",
       "      <td>0.9472</td>\n",
       "      <td>0.0006</td>\n",
       "      <td>1487</td>\n",
       "      <td>1.3045</td>\n",
       "      <td>N</td>\n",
       "      <td>8</td>\n",
       "      <td>13</td>\n",
       "      <td>8</td>\n",
       "      <td>...</td>\n",
       "      <td>11</td>\n",
       "      <td>-1</td>\n",
       "      <td>12</td>\n",
       "      <td>N</td>\n",
       "      <td>IL</td>\n",
       "      <td>25</td>\n",
       "      <td>2014</td>\n",
       "      <td>1</td>\n",
       "      <td>5</td>\n",
       "      <td>12</td>\n",
       "    </tr>\n",
       "    <tr>\n",
       "      <th>5</th>\n",
       "      <td>E</td>\n",
       "      <td>14</td>\n",
       "      <td>0.9472</td>\n",
       "      <td>0.0006</td>\n",
       "      <td>1487</td>\n",
       "      <td>1.3045</td>\n",
       "      <td>N</td>\n",
       "      <td>13</td>\n",
       "      <td>20</td>\n",
       "      <td>13</td>\n",
       "      <td>...</td>\n",
       "      <td>25</td>\n",
       "      <td>-1</td>\n",
       "      <td>14</td>\n",
       "      <td>N</td>\n",
       "      <td>IL</td>\n",
       "      <td>18</td>\n",
       "      <td>2014</td>\n",
       "      <td>1</td>\n",
       "      <td>5</td>\n",
       "      <td>14</td>\n",
       "    </tr>\n",
       "  </tbody>\n",
       "</table>\n",
       "<p>6 rows × 297 columns</p>\n",
       "</div>"
      ],
      "text/plain": [
       "  Field6  Field7  Field8  Field9  Field10  Field11 Field12  CoverageField1A  \\\n",
       "0      B      23  0.9403  0.0006      965   1.0200       N               17   \n",
       "1      F       7  1.0006  0.0040      548   1.2433       N                6   \n",
       "2      F       7  1.0006  0.0040      548   1.2433       N                7   \n",
       "3      J      10  0.9769  0.0004     1165   1.2665       N                3   \n",
       "4      E      23  0.9472  0.0006     1487   1.3045       N                8   \n",
       "5      E      14  0.9472  0.0006     1487   1.3045       N               13   \n",
       "\n",
       "   CoverageField1B  CoverageField2A   ...     GeographicField61B  \\\n",
       "0               23               17   ...                     18   \n",
       "1                8                6   ...                     17   \n",
       "2               12                7   ...                     11   \n",
       "3                2                3   ...                      9   \n",
       "4               13                8   ...                     11   \n",
       "5               20               13   ...                     25   \n",
       "\n",
       "   GeographicField62A  GeographicField62B  GeographicField63  \\\n",
       "0                  -1                  10                  N   \n",
       "1                  -1                  20                  N   \n",
       "2                  -1                   8                  N   \n",
       "3                  -1                  21                  N   \n",
       "4                  -1                  12                  N   \n",
       "5                  -1                  14                  N   \n",
       "\n",
       "   GeographicField64  Day  Year  Month  Weekday NaNCount  \n",
       "0                 CA   16  2013      8        4       15  \n",
       "1                 NJ   22  2014      4        1       15  \n",
       "2                 NJ   25  2014      8        0       15  \n",
       "3                 TX   15  2013      4        0       17  \n",
       "4                 IL   25  2014      1        5       12  \n",
       "5                 IL   18  2014      1        5       14  \n",
       "\n",
       "[6 rows x 297 columns]"
      ]
     },
     "execution_count": 8,
     "metadata": {},
     "output_type": "execute_result"
    }
   ],
   "source": [
    "train.head(6)"
   ]
  }
 ],
 "metadata": {
  "kernelspec": {
   "display_name": "Python 3",
   "language": "python",
   "name": "python3"
  },
  "language_info": {
   "codemirror_mode": {
    "name": "ipython",
    "version": 3
   },
   "file_extension": ".py",
   "mimetype": "text/x-python",
   "name": "python",
   "nbconvert_exporter": "python",
   "pygments_lexer": "ipython3",
   "version": "3.5.1"
  }
 },
 "nbformat": 4,
 "nbformat_minor": 0
}
