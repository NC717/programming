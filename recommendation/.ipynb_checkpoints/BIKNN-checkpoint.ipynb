{
 "cells": [
  {
   "cell_type": "markdown",
   "metadata": {},
   "source": [
    "# Recommendation System : Boosting the K-Nearest-Neighborhood based incremental collaborative filtering"
   ]
  },
  {
   "cell_type": "code",
   "execution_count": 9,
   "metadata": {
    "collapsed": true
   },
   "outputs": [],
   "source": [
    "from scipy.stats import norm\n",
    "import pandas as pd\n",
    "import numpy as np"
   ]
  },
  {
   "cell_type": "code",
   "execution_count": 2,
   "metadata": {
    "collapsed": true
   },
   "outputs": [],
   "source": [
    "data = pd.read_csv( 'test_data.txt', sep = ',', header = None )"
   ]
  },
  {
   "cell_type": "code",
   "execution_count": 3,
   "metadata": {
    "collapsed": false
   },
   "outputs": [
    {
     "data": {
      "text/html": [
       "<div>\n",
       "<table border=\"1\" class=\"dataframe\">\n",
       "  <thead>\n",
       "    <tr style=\"text-align: right;\">\n",
       "      <th></th>\n",
       "      <th>0</th>\n",
       "      <th>1</th>\n",
       "      <th>2</th>\n",
       "    </tr>\n",
       "  </thead>\n",
       "  <tbody>\n",
       "    <tr>\n",
       "      <th>0</th>\n",
       "      <td>1</td>\n",
       "      <td>1</td>\n",
       "      <td>1</td>\n",
       "    </tr>\n",
       "    <tr>\n",
       "      <th>1</th>\n",
       "      <td>1</td>\n",
       "      <td>2</td>\n",
       "      <td>2</td>\n",
       "    </tr>\n",
       "    <tr>\n",
       "      <th>2</th>\n",
       "      <td>1</td>\n",
       "      <td>3</td>\n",
       "      <td>5</td>\n",
       "    </tr>\n",
       "    <tr>\n",
       "      <th>3</th>\n",
       "      <td>2</td>\n",
       "      <td>1</td>\n",
       "      <td>2</td>\n",
       "    </tr>\n",
       "  </tbody>\n",
       "</table>\n",
       "</div>"
      ],
      "text/plain": [
       "   0  1  2\n",
       "0  1  1  1\n",
       "1  1  2  2\n",
       "2  1  3  5\n",
       "3  2  1  2"
      ]
     },
     "execution_count": 3,
     "metadata": {},
     "output_type": "execute_result"
    }
   ],
   "source": [
    "data.head(4)"
   ]
  },
  {
   "cell_type": "code",
   "execution_count": 11,
   "metadata": {
    "collapsed": false
   },
   "outputs": [],
   "source": [
    "def fit( data ):\n",
    "    data.columns = [ 'user_id', 'item_id', 'stars' ]\n",
    "    item_id_dict = { v : k for k, v in enumerate( data['item_id'].unique() ) }\n",
    "    size = len(item_id_dict.keys())\n",
    "    F = np.zeros( [ size, size ], dtype = np.int )\n",
    "    G = np.zeros( [ size, size ], dtype = np.int )\n",
    "    sup = np.zeros( [ size, size ], dtype = np.int )\n",
    "    sim = np.zeros( [ size, size ] )\n",
    "    supports = []\n",
    "    for item1, i1 in item_id_dict.iteritems():\n",
    "        for item2, i2 in item_id_dict.iteritems():\n",
    "            if i1 < i2:\n",
    "                similarity, numerator, denominator, support = \\\n",
    "                calculate_similarity( item1, item2 )\n",
    "                sup[i1][i2], sup[i2][i1] = support, support\n",
    "                sim[i1][i2], sim[i2][i1] = similarity, similarity\n",
    "                F[i1][i2], F[i2][i1] = numerator, numerator\n",
    "                G[i1][i2], G[i2][i1] = denominator, denominator\n",
    "                supports.append(support)\n",
    "            elif i1 == i2:\n",
    "                F[i1][i2], F[i2][i1] = 1, 1\n",
    "                G[i1][i2], G[i2][i1] = 1, 1\n",
    "                sup[i1][i2], sup[i2][i1] = 1, 1\n",
    "                sim[i1][i2], sim[i2][i1] = 1, 1\n",
    "    \n",
    "    supports = np.array(supports)\n",
    "    mean = float( np.sum(supports) ) / supports.shape[0]\n",
    "    std  = np.sqrt( float( np.sum( supports ** 2 ) ) / supports.shape[0] - mean ** 2 )\n",
    "    w_ = np.zeros( [ size, size ] )\n",
    "    sim_w_ = np.zeros( [ size, size ] )\n",
    "\n",
    "    for _, i1 in item_id_dict.iteritems():\n",
    "        for _, i2 in item_id_dict.iteritems():\n",
    "            if i1 < i2:\n",
    "                weight = norm( mean, std ).cdf( sup[i1][i2] )\n",
    "                w_[i1][i2], w_[i2][i1] = weight, weight\n",
    "\n",
    "            elif i1 == i2:\n",
    "                w_[i1][i2], w_[i2][i1] = 1, 1\n",
    "\n",
    "    sim_w_ = sim * w_\n",
    "    return sup, sim, F, G"
   ]
  },
  {
   "cell_type": "code",
   "execution_count": 5,
   "metadata": {
    "collapsed": false
   },
   "outputs": [],
   "source": [
    "def calculate_similarity( item1, item2 ):\n",
    "    item1_users  = data[ data['item_id'] == item1 ]['user_id'].unique()\n",
    "    item2_users  = data[ data['item_id'] == item2 ]['user_id'].unique()\n",
    "    common_users = set(item1_users).intersection(item2_users)\n",
    "    support = len(common_users)\n",
    "    if support == 0:\n",
    "        return 0, 0, 0, 0\n",
    "    item1_stars = get_item_stars( item_id = item1, set_of_users = common_users )\n",
    "    item2_stars = get_item_stars( item_id = item2, set_of_users = common_users )\n",
    "    numerator   = item1_stars.dot(item2_stars)\n",
    "    denominator = np.sum( item1_stars ** 2 ) + np.sum( item2_stars ** 2 )\n",
    "    similarity  = float(numerator) / denominator\n",
    "    return similarity, numerator, denominator, support\n",
    "\n",
    "def get_item_stars( item_id, set_of_users ):\n",
    "    condition = ( ( data['item_id'] == item_id ) & \n",
    "                  ( data['user_id'].isin(set_of_users) ) )\n",
    "    reviews = data[condition]\n",
    "    reviews = reviews[ reviews['user_id'].duplicated() == False ]['stars'].values\n",
    "    return reviews \n",
    "\n",
    "# item1 = item_id_dict.items()[0][0]\n",
    "# item2 = item_id_dict.items()[1][0]\n",
    "# calculate_similarity( item1, item2 )"
   ]
  },
  {
   "cell_type": "code",
   "execution_count": 12,
   "metadata": {
    "collapsed": false
   },
   "outputs": [
    {
     "data": {
      "text/plain": [
       "array([[1, 2, 2],\n",
       "       [2, 1, 3],\n",
       "       [2, 3, 1]])"
      ]
     },
     "execution_count": 12,
     "metadata": {},
     "output_type": "execute_result"
    }
   ],
   "source": [
    "sup, sim, F, G = fit( data )\n",
    "sup"
   ]
  },
  {
   "cell_type": "code",
   "execution_count": 14,
   "metadata": {
    "collapsed": false
   },
   "outputs": [
    {
     "ename": "AttributeError",
     "evalue": "'BIKNN' object has no attribute 'keys'",
     "output_type": "error",
     "traceback": [
      "\u001b[0;31m---------------------------------------------------------------------------\u001b[0m",
      "\u001b[0;31mAttributeError\u001b[0m                            Traceback (most recent call last)",
      "\u001b[0;32m<ipython-input-14-6350c8ccd39a>\u001b[0m in \u001b[0;36m<module>\u001b[0;34m()\u001b[0m\n\u001b[1;32m      1\u001b[0m \u001b[0;32mfrom\u001b[0m \u001b[0mBIKNN\u001b[0m \u001b[0;32mimport\u001b[0m \u001b[0mBIKNN\u001b[0m\u001b[0;34m\u001b[0m\u001b[0m\n\u001b[1;32m      2\u001b[0m \u001b[0mmodel1\u001b[0m \u001b[0;34m=\u001b[0m \u001b[0mBIKNN\u001b[0m\u001b[0;34m(\u001b[0m\u001b[0;34m)\u001b[0m\u001b[0;34m\u001b[0m\u001b[0m\n\u001b[0;32m----> 3\u001b[0;31m \u001b[0mmodel1\u001b[0m\u001b[0;34m.\u001b[0m\u001b[0mfit\u001b[0m\u001b[0;34m(\u001b[0m\u001b[0mdata\u001b[0m\u001b[0;34m)\u001b[0m\u001b[0;34m\u001b[0m\u001b[0m\n\u001b[0m",
      "\u001b[0;32m/Users/ethen/programming/recommendation/BIKNN.py\u001b[0m in \u001b[0;36mfit\u001b[0;34m(self, data)\u001b[0m\n\u001b[1;32m     20\u001b[0m \t\t\t\t\t\t\t   for k, v in enumerate( data['item_id'].unique() ) }\n\u001b[1;32m     21\u001b[0m                 \u001b[0mself\u001b[0m\u001b[0;34m.\u001b[0m\u001b[0mkeys_\u001b[0m \u001b[0;34m=\u001b[0m \u001b[0mself\u001b[0m\u001b[0;34m.\u001b[0m\u001b[0mitem_id_dict\u001b[0m\u001b[0;34m.\u001b[0m\u001b[0mkeys\u001b[0m\u001b[0;34m(\u001b[0m\u001b[0;34m)\u001b[0m\u001b[0;34m\u001b[0m\u001b[0m\n\u001b[0;32m---> 22\u001b[0;31m                 \u001b[0msize\u001b[0m \u001b[0;34m=\u001b[0m \u001b[0mlen\u001b[0m\u001b[0;34m(\u001b[0m\u001b[0mself\u001b[0m\u001b[0;34m.\u001b[0m\u001b[0mkeys_\u001b[0m\u001b[0;34m)\u001b[0m\u001b[0;34m\u001b[0m\u001b[0m\n\u001b[0m\u001b[1;32m     23\u001b[0m                 \u001b[0mself\u001b[0m\u001b[0;34m.\u001b[0m\u001b[0mF_\u001b[0m \u001b[0;34m=\u001b[0m \u001b[0mnp\u001b[0m\u001b[0;34m.\u001b[0m\u001b[0mzeros\u001b[0m\u001b[0;34m(\u001b[0m \u001b[0;34m[\u001b[0m \u001b[0msize\u001b[0m\u001b[0;34m,\u001b[0m \u001b[0msize\u001b[0m \u001b[0;34m]\u001b[0m\u001b[0;34m,\u001b[0m \u001b[0mdtype\u001b[0m \u001b[0;34m=\u001b[0m \u001b[0mnp\u001b[0m\u001b[0;34m.\u001b[0m\u001b[0mint\u001b[0m \u001b[0;34m)\u001b[0m\u001b[0;34m\u001b[0m\u001b[0m\n\u001b[1;32m     24\u001b[0m                 \u001b[0mself\u001b[0m\u001b[0;34m.\u001b[0m\u001b[0mG_\u001b[0m \u001b[0;34m=\u001b[0m \u001b[0mnp\u001b[0m\u001b[0;34m.\u001b[0m\u001b[0mzeros\u001b[0m\u001b[0;34m(\u001b[0m \u001b[0;34m[\u001b[0m \u001b[0msize\u001b[0m\u001b[0;34m,\u001b[0m \u001b[0msize\u001b[0m \u001b[0;34m]\u001b[0m\u001b[0;34m,\u001b[0m \u001b[0mdtype\u001b[0m \u001b[0;34m=\u001b[0m \u001b[0mnp\u001b[0m\u001b[0;34m.\u001b[0m\u001b[0mint\u001b[0m \u001b[0;34m)\u001b[0m\u001b[0;34m\u001b[0m\u001b[0m\n",
      "\u001b[0;31mAttributeError\u001b[0m: 'BIKNN' object has no attribute 'keys'"
     ]
    }
   ],
   "source": [
    "from BIKNN import BIKNN\n",
    "model1 = BIKNN()\n",
    "model1.fit(data)"
   ]
  },
  {
   "cell_type": "code",
   "execution_count": null,
   "metadata": {
    "collapsed": false
   },
   "outputs": [],
   "source": [
    "model1.sup"
   ]
  }
 ],
 "metadata": {
  "kernelspec": {
   "display_name": "Python 2",
   "language": "python",
   "name": "python2"
  },
  "language_info": {
   "codemirror_mode": {
    "name": "ipython",
    "version": 2
   },
   "file_extension": ".py",
   "mimetype": "text/x-python",
   "name": "python",
   "nbconvert_exporter": "python",
   "pygments_lexer": "ipython2",
   "version": "2.7.10"
  }
 },
 "nbformat": 4,
 "nbformat_minor": 0
}
