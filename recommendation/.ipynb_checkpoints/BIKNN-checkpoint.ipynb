{
 "cells": [
  {
   "cell_type": "markdown",
   "metadata": {},
   "source": [
    "# Recommendation System : Boosting the K-Nearest-Neighborhood based incremental collaborative filtering"
   ]
  },
  {
   "cell_type": "code",
   "execution_count": 1,
   "metadata": {
    "collapsed": true
   },
   "outputs": [],
   "source": [
    "from operator import itemgetter\n",
    "from scipy.stats import norm\n",
    "import pandas as pd\n",
    "import numpy as np"
   ]
  },
  {
   "cell_type": "code",
   "execution_count": 2,
   "metadata": {
    "collapsed": false
   },
   "outputs": [
    {
     "data": {
      "text/html": [
       "<div>\n",
       "<table border=\"1\" class=\"dataframe\">\n",
       "  <thead>\n",
       "    <tr style=\"text-align: right;\">\n",
       "      <th></th>\n",
       "      <th>0</th>\n",
       "      <th>1</th>\n",
       "      <th>2</th>\n",
       "    </tr>\n",
       "  </thead>\n",
       "  <tbody>\n",
       "    <tr>\n",
       "      <th>0</th>\n",
       "      <td>1</td>\n",
       "      <td>1</td>\n",
       "      <td>1</td>\n",
       "    </tr>\n",
       "    <tr>\n",
       "      <th>1</th>\n",
       "      <td>1</td>\n",
       "      <td>2</td>\n",
       "      <td>2</td>\n",
       "    </tr>\n",
       "    <tr>\n",
       "      <th>2</th>\n",
       "      <td>1</td>\n",
       "      <td>3</td>\n",
       "      <td>5</td>\n",
       "    </tr>\n",
       "    <tr>\n",
       "      <th>3</th>\n",
       "      <td>2</td>\n",
       "      <td>1</td>\n",
       "      <td>2</td>\n",
       "    </tr>\n",
       "  </tbody>\n",
       "</table>\n",
       "</div>"
      ],
      "text/plain": [
       "   0  1  2\n",
       "0  1  1  1\n",
       "1  1  2  2\n",
       "2  1  3  5\n",
       "3  2  1  2"
      ]
     },
     "execution_count": 2,
     "metadata": {},
     "output_type": "execute_result"
    }
   ],
   "source": [
    "data = pd.read_csv( 'test_data.txt', sep = ',', header = None )\n",
    "data.head(4)"
   ]
  },
  {
   "cell_type": "code",
   "execution_count": 3,
   "metadata": {
    "collapsed": false
   },
   "outputs": [
    {
     "data": {
      "text/plain": [
       "<BIKNN.BIKNN at 0x11028be90>"
      ]
     },
     "execution_count": 3,
     "metadata": {},
     "output_type": "execute_result"
    }
   ],
   "source": [
    "from BIKNN import BIKNN\n",
    "model1 = BIKNN()\n",
    "model1.fit(data)"
   ]
  },
  {
   "cell_type": "code",
   "execution_count": 4,
   "metadata": {
    "collapsed": false
   },
   "outputs": [
    {
     "data": {
      "text/plain": [
       "array([[ 1.        ,  0.09590002,  0.06762181],\n",
       "       [ 0.09590002,  1.        ,  0.28254745],\n",
       "       [ 0.06762181,  0.28254745,  1.        ]])"
      ]
     },
     "execution_count": 4,
     "metadata": {},
     "output_type": "execute_result"
    }
   ],
   "source": [
    "model1.sim_w_"
   ]
  },
  {
   "cell_type": "code",
   "execution_count": 18,
   "metadata": {
    "collapsed": false
   },
   "outputs": [],
   "source": [
    "item_id = 1\n",
    "user_id = 6\n",
    "B1 = 10\n",
    "B2 = 10\n",
    "k = 2"
   ]
  },
  {
   "cell_type": "code",
   "execution_count": 24,
   "metadata": {
    "collapsed": false
   },
   "outputs": [],
   "source": [
    "def get( item1, item2 ):\n",
    "    \"\"\"returns the similarity score given two item ids\"\"\"\n",
    "    sim = model1.sim_w_[ model1.item_id_dict[item1] ][ model1.item_id_dict[item2] ]\n",
    "    return sim\n",
    "# get(1,2)\n",
    " \n",
    "def predict_rating( item_id, user_id ): \n",
    "\n",
    "    item, user = data[ data['item_id'] == item_id ], data[ data['user_id'] == user_id ]\n",
    "    item_count, user_count = item['ratings'].count(), user['ratings'].count()\n",
    "    item_ratings, user_ratings = item['ratings'].values, user['ratings'].values\n",
    "    global_avg = data['ratings'].mean()\n",
    " \n",
    "    item_bias = float( np.sum( item_ratings - global_avg ) ) / ( B1 + item_count )\n",
    "    user_bias = float( np.sum( user_ratings - global_avg - item_bias ) ) / ( B2 + user_count )\n",
    "\n",
    "    baseline  = global_avg + item_bias + user_bias\n",
    "    \n",
    "    numerator   = 0.\n",
    "    denominator = 0.\n",
    "    nearest = knearest_amongst_user_rated( item_id, user_id )\n",
    "    \n",
    "    for nearest_id, sim in nearest:\n",
    "        nearest_rating = user[ user['item_id'] == nearest_id ]['ratings'].values[0]\n",
    "        nearest_item_count = data[ data['item_id'] == nearest_id ]['ratings'].count()\n",
    "        nearest_item_bias  = ( nearest_rating - global_avg ) / ( B1 + nearest_item_count )\n",
    "        numerator += ( sim * ( nearest_rating - global_avg - user_bias - nearest_item_bias ) )\n",
    "        denominator += sim\n",
    "\n",
    "    if denominator > 0.:\n",
    "        score = baseline + ( numerator / denominator )\n",
    "    else:\n",
    "        score = baseline\n",
    "    return score\n",
    "\n",
    "def knearest_amongst_user_rated( item_id, user_id ):\n",
    "    user_rated = data[ data['user_id'] == user_id ]['item_id'].unique()\n",
    "    similars = []\n",
    "    for other_item_id in user_rated:\n",
    "        if other_item_id != item_id:\n",
    "            similarity = get( other_item_id, item_id )\n",
    "            similars.append( ( other_item_id, similarity ) )\n",
    "\n",
    "    similars_sorted = sorted( similars, key = itemgetter(1), reverse = True )\n",
    "    return similars_sorted[0:k] \n"
   ]
  },
  {
   "cell_type": "code",
   "execution_count": 46,
   "metadata": {
    "collapsed": false
   },
   "outputs": [
    {
     "data": {
      "text/html": [
       "<div>\n",
       "<table border=\"1\" class=\"dataframe\">\n",
       "  <thead>\n",
       "    <tr style=\"text-align: right;\">\n",
       "      <th></th>\n",
       "      <th>user_id</th>\n",
       "      <th>item_id</th>\n",
       "      <th>ratings</th>\n",
       "    </tr>\n",
       "  </thead>\n",
       "  <tbody>\n",
       "    <tr>\n",
       "      <th>0</th>\n",
       "      <td>6</td>\n",
       "      <td>1</td>\n",
       "      <td>5</td>\n",
       "    </tr>\n",
       "    <tr>\n",
       "      <th>1</th>\n",
       "      <td>5</td>\n",
       "      <td>2</td>\n",
       "      <td>2</td>\n",
       "    </tr>\n",
       "  </tbody>\n",
       "</table>\n",
       "</div>"
      ],
      "text/plain": [
       "   user_id  item_id  ratings\n",
       "0        6        1        5\n",
       "1        5        2        2"
      ]
     },
     "execution_count": 46,
     "metadata": {},
     "output_type": "execute_result"
    }
   ],
   "source": [
    "dict1 = { \n",
    "    'user_id' : [6, 5],\n",
    "    'item_id' : [1, 2],\n",
    "    'ratings' : [5, 2]\n",
    "}\n",
    "test1 = pd.DataFrame( dict1, columns = [ 'user_id', 'item_id', 'ratings' ] )\n",
    "test1"
   ]
  },
  {
   "cell_type": "code",
   "execution_count": 74,
   "metadata": {
    "collapsed": false
   },
   "outputs": [
    {
     "data": {
      "text/html": [
       "<div>\n",
       "<table border=\"1\" class=\"dataframe\">\n",
       "  <thead>\n",
       "    <tr style=\"text-align: right;\">\n",
       "      <th></th>\n",
       "      <th>user_id</th>\n",
       "      <th>item_id</th>\n",
       "      <th>ratings</th>\n",
       "    </tr>\n",
       "  </thead>\n",
       "  <tbody>\n",
       "    <tr>\n",
       "      <th>1</th>\n",
       "      <td>5</td>\n",
       "      <td>2</td>\n",
       "      <td>2</td>\n",
       "    </tr>\n",
       "  </tbody>\n",
       "</table>\n",
       "</div>"
      ],
      "text/plain": [
       "   user_id  item_id  ratings\n",
       "1        5        2        2"
      ]
     },
     "execution_count": 74,
     "metadata": {},
     "output_type": "execute_result"
    }
   ],
   "source": [
    "test1.iloc[ 1:2 ]"
   ]
  },
  {
   "cell_type": "code",
   "execution_count": 79,
   "metadata": {
    "collapsed": false
   },
   "outputs": [],
   "source": [
    "def get_common_users( data, item1, item2 ):\n",
    "    item1_users  = data[ data['item_id'] == item1 ]['user_id'].unique()\n",
    "    item2_users  = data[ data['item_id'] == item2 ]['user_id'].unique()\n",
    "    common_users = set(item1_users).intersection(item2_users)\n",
    "    return common_users\n",
    "\n",
    "def update( data ):\n",
    "    \n",
    "    for index1, user_id1, item1, rating1 in test1.itertuples():\n",
    "        \n",
    "        # predict the rating and store the MAE (mean absolute error) \n",
    "        predicted = predict_rating( item_id = item1, user_id = user_id1 )\n",
    "        print \"MAE: \", abs(predicted - rating1)\n",
    "        \n",
    "        # update the F and G array\n",
    "        other_user = data[ data['user_id'] == user_id1 ]\n",
    "        data = pd.concat( [ data, test1.iloc[ index1:index1 + 1 ] ], ignore_index = True )\n",
    "        print data\n",
    "        \n",
    "        for _, _, item2, rating2 in other_user.itertuples():\n",
    "            print \"F: \", rating1 * rating2\n",
    "            print \"G: \", rating1 ** 2 + rating2 ** 2\n",
    "            \n",
    "            sup1 = model1.sup_[ model1.item_id_dict[item1] ][ model1.item_id_dict[item2] ]\n",
    "            print \"old support: \", sup1\n",
    "           \n",
    "            common_users = get_common_users( data, item1, item2 )\n",
    "            print \"new support: \", len(common_users)"
   ]
  },
  {
   "cell_type": "code",
   "execution_count": 80,
   "metadata": {
    "collapsed": false
   },
   "outputs": [
    {
     "name": "stdout",
     "output_type": "stream",
     "text": [
      "MAE:  1.90981574816\n",
      "    user_id  item_id  ratings\n",
      "0         1        1        1\n",
      "1         1        2        2\n",
      "2         1        3        5\n",
      "3         2        1        2\n",
      "4         2        2        1\n",
      "5         3        3        2\n",
      "6         4        2        4\n",
      "7         4        3        2\n",
      "8         5        1        2\n",
      "9         5        3        3\n",
      "10        6        2        5\n",
      "11        6        3        1\n",
      "12        6        1        5\n",
      "F:  25\n",
      "G:  50\n",
      "old support:  2\n",
      "new support:  3\n",
      "F:  5\n",
      "G:  26\n",
      "old support:  2\n",
      "new support:  3\n",
      "MAE:  0.874313114954\n",
      "    user_id  item_id  ratings\n",
      "0         1        1        1\n",
      "1         1        2        2\n",
      "2         1        3        5\n",
      "3         2        1        2\n",
      "4         2        2        1\n",
      "5         3        3        2\n",
      "6         4        2        4\n",
      "7         4        3        2\n",
      "8         5        1        2\n",
      "9         5        3        3\n",
      "10        6        2        5\n",
      "11        6        3        1\n",
      "12        6        1        5\n",
      "13        5        2        2\n",
      "F:  4\n",
      "G:  8\n",
      "old support:  2\n",
      "new support:  4\n",
      "F:  6\n",
      "G:  13\n",
      "old support:  3\n",
      "new support:  4\n"
     ]
    }
   ],
   "source": [
    "update(data)"
   ]
  },
  {
   "cell_type": "code",
   "execution_count": 13,
   "metadata": {
    "collapsed": false
   },
   "outputs": [
    {
     "data": {
      "text/plain": [
       "2.3333333333333335"
      ]
     },
     "execution_count": 13,
     "metadata": {},
     "output_type": "execute_result"
    }
   ],
   "source": [
    "model1.mean"
   ]
  },
  {
   "cell_type": "code",
   "execution_count": 14,
   "metadata": {
    "collapsed": false
   },
   "outputs": [
    {
     "data": {
      "text/plain": [
       "array([[1, 2, 2],\n",
       "       [2, 1, 3],\n",
       "       [2, 3, 1]])"
      ]
     },
     "execution_count": 14,
     "metadata": {},
     "output_type": "execute_result"
    }
   ],
   "source": [
    "model1.sup_"
   ]
  },
  {
   "cell_type": "code",
   "execution_count": null,
   "metadata": {
    "collapsed": false
   },
   "outputs": [],
   "source": [
    "# for every row of the test set e.g. ( 6, 1, 5 )\n",
    "# obtain all the user's other rating\n",
    "other_user = data[ data['user_id'] == 6 ]\n",
    "other_user"
   ]
  },
  {
   "cell_type": "code",
   "execution_count": null,
   "metadata": {
    "collapsed": false
   },
   "outputs": [],
   "source": [
    "for _, _, item2, rating2 in other_ratings.itertuples():\n",
    "    print item2, rating2"
   ]
  },
  {
   "cell_type": "code",
   "execution_count": null,
   "metadata": {
    "collapsed": false
   },
   "outputs": [],
   "source": [
    "for _, user_id, item_id, rating in test.iloc[ :5, 0:3 ].itertuples():\n",
    "    print user_id, item_id, rating"
   ]
  },
  {
   "cell_type": "code",
   "execution_count": null,
   "metadata": {
    "collapsed": false
   },
   "outputs": [],
   "source": [
    "train = pd.read_csv( 'data/u1.base', sep = '\\t', header = None )\n",
    "train = train.iloc[ :, 0:3 ]\n",
    "test = pd.read_csv( 'data/u1.test', sep = '\\t', header = None )\n",
    "test = train.iloc[ :, 0:3 ]"
   ]
  },
  {
   "cell_type": "code",
   "execution_count": null,
   "metadata": {
    "collapsed": false
   },
   "outputs": [],
   "source": [
    "# movie_lens = BIKNN( K = 500, B1 = 25, B2 = 25 )\n",
    "# movie_lens.fit(train)"
   ]
  },
  {
   "cell_type": "code",
   "execution_count": null,
   "metadata": {
    "collapsed": false
   },
   "outputs": [],
   "source": [
    "# movie_lens.predict_rating( 1, 4 )"
   ]
  }
 ],
 "metadata": {
  "kernelspec": {
   "display_name": "Python 2",
   "language": "python",
   "name": "python2"
  },
  "language_info": {
   "codemirror_mode": {
    "name": "ipython",
    "version": 2
   },
   "file_extension": ".py",
   "mimetype": "text/x-python",
   "name": "python",
   "nbconvert_exporter": "python",
   "pygments_lexer": "ipython2",
   "version": "2.7.10"
  }
 },
 "nbformat": 4,
 "nbformat_minor": 0
}
