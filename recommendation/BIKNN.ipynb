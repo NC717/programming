{
 "cells": [
  {
   "cell_type": "markdown",
   "metadata": {},
   "source": [
    "# Recommendation System : Boosting the K-Nearest-Neighborhood based incremental collaborative filtering"
   ]
  },
  {
   "cell_type": "code",
   "execution_count": 1,
   "metadata": {
    "collapsed": true
   },
   "outputs": [],
   "source": [
    "from operator import itemgetter\n",
    "from scipy.stats import norm\n",
    "import pandas as pd\n",
    "import numpy as np"
   ]
  },
  {
   "cell_type": "code",
   "execution_count": 2,
   "metadata": {
    "collapsed": false
   },
   "outputs": [
    {
     "data": {
      "text/html": [
       "<div>\n",
       "<table border=\"1\" class=\"dataframe\">\n",
       "  <thead>\n",
       "    <tr style=\"text-align: right;\">\n",
       "      <th></th>\n",
       "      <th>0</th>\n",
       "      <th>1</th>\n",
       "      <th>2</th>\n",
       "    </tr>\n",
       "  </thead>\n",
       "  <tbody>\n",
       "    <tr>\n",
       "      <th>0</th>\n",
       "      <td>1</td>\n",
       "      <td>1</td>\n",
       "      <td>1</td>\n",
       "    </tr>\n",
       "    <tr>\n",
       "      <th>1</th>\n",
       "      <td>1</td>\n",
       "      <td>2</td>\n",
       "      <td>2</td>\n",
       "    </tr>\n",
       "    <tr>\n",
       "      <th>2</th>\n",
       "      <td>1</td>\n",
       "      <td>3</td>\n",
       "      <td>5</td>\n",
       "    </tr>\n",
       "    <tr>\n",
       "      <th>3</th>\n",
       "      <td>2</td>\n",
       "      <td>1</td>\n",
       "      <td>2</td>\n",
       "    </tr>\n",
       "  </tbody>\n",
       "</table>\n",
       "</div>"
      ],
      "text/plain": [
       "   0  1  2\n",
       "0  1  1  1\n",
       "1  1  2  2\n",
       "2  1  3  5\n",
       "3  2  1  2"
      ]
     },
     "execution_count": 2,
     "metadata": {},
     "output_type": "execute_result"
    }
   ],
   "source": [
    "data = pd.read_csv( 'test_data.txt', sep = ',', header = None )\n",
    "data.head(4)"
   ]
  },
  {
   "cell_type": "code",
   "execution_count": 3,
   "metadata": {
    "collapsed": false
   },
   "outputs": [
    {
     "data": {
      "text/plain": [
       "<BIKNN.BIKNN at 0x106d71b90>"
      ]
     },
     "execution_count": 3,
     "metadata": {},
     "output_type": "execute_result"
    }
   ],
   "source": [
    "from BIKNN import BIKNN\n",
    "model1 = BIKNN()\n",
    "model1.fit(data)"
   ]
  },
  {
   "cell_type": "code",
   "execution_count": 4,
   "metadata": {
    "collapsed": false
   },
   "outputs": [
    {
     "data": {
      "text/plain": [
       "array([[ 1.        ,  0.09590002,  0.06762181],\n",
       "       [ 0.09590002,  1.        ,  0.28254745],\n",
       "       [ 0.06762181,  0.28254745,  1.        ]])"
      ]
     },
     "execution_count": 4,
     "metadata": {},
     "output_type": "execute_result"
    }
   ],
   "source": [
    "model1.sim_w_"
   ]
  },
  {
   "cell_type": "code",
   "execution_count": 33,
   "metadata": {
    "collapsed": false
   },
   "outputs": [],
   "source": [
    "item_id = 1\n",
    "user_id = 6\n",
    "B1 = 25\n",
    "B2 = 25"
   ]
  },
  {
   "cell_type": "code",
   "execution_count": 34,
   "metadata": {
    "collapsed": false
   },
   "outputs": [],
   "source": [
    "def get( item1, item2 ):\n",
    "    \"\"\"returns the similarity score given two item ids\"\"\"\n",
    "    sim = model1.sim_w_[ model1.item_id_dict[item1] ][ model1.item_id_dict[item2] ]\n",
    "    return sim\n",
    "# get(1,2)\n",
    " \n",
    "def predict_rating( item_id, user_id, k ): \n",
    "\n",
    "    item, user = data[ data['item_id'] == item_id ], data[ data['user_id'] == user_id ]\n",
    "    item_count, user_count = item['ratings'].count(), user['ratings'].count()\n",
    "    item_ratings, user_ratings = item['ratings'].values, user['ratings'].values\n",
    "    global_avg = data['ratings'].mean()\n",
    " \n",
    "    item_bias = float( np.sum( item_ratings - global_avg ) ) / ( B1 + item_count )\n",
    "    user_bias = float( np.sum( user_ratings - global_avg ) ) / ( B2 + user_count )\n",
    "\n",
    "    baseline  = global_avg + item_bias + user_bias\n",
    "    \n",
    "    score_numerator   = []\n",
    "    score_denominator = []\n",
    "    nearest = knearest_amongst_user_rated( item_id, user_id, k = 2 )\n",
    "    \n",
    "    for nearest_id, sim in nearest:\n",
    "        nearest_rating = user[ user['item_id'] == nearest_id ]['ratings'].values[0]\n",
    "        nearest_item_count = data[ data['item_id'] == nearest_id ]['ratings'].count()\n",
    "        nearest_item_bias  = ( nearest_rating - global_avg ) / ( B1 + nearest_item_count )\n",
    "        score_numerator.append( sim * ( nearest_rating - global_avg - user_bias - nearest_item_bias ) )\n",
    "        score_denominator.append(sim)   \n",
    "\n",
    "    score = baseline + sum(score_numerator) / sum(score_denominator)\n",
    "    return score, item_bias, user_bias\n",
    "\n",
    "def knearest_amongst_user_rated( item_id, user_id, k ):\n",
    "    user_rated = data[ data['user_id'] == user_id ]['item_id'].unique()\n",
    "    similars = []\n",
    "    for other_item_id in user_rated:\n",
    "        if other_item_id != item_id:\n",
    "            similarity = get( other_item_id, item_id )\n",
    "            similars.append( ( other_item_id, similarity ) )\n",
    "\n",
    "    similars_sorted = sorted( similars, key = itemgetter(1), reverse = True )\n",
    "    return similars_sorted[0:k] \n"
   ]
  },
  {
   "cell_type": "code",
   "execution_count": 35,
   "metadata": {
    "collapsed": false
   },
   "outputs": [
    {
     "data": {
      "text/plain": [
       "(3.2266982110448534, -0.08928571428571429, 0.037037037037037035)"
      ]
     },
     "execution_count": 35,
     "metadata": {},
     "output_type": "execute_result"
    }
   ],
   "source": [
    "predict_rating( 1, 6, 2 )"
   ]
  },
  {
   "cell_type": "code",
   "execution_count": 12,
   "metadata": {
    "collapsed": false
   },
   "outputs": [],
   "source": [
    "train = pd.read_csv( 'data/u1.base', sep = '\\t', header = None )\n",
    "train = train.iloc[ :, 0:3 ]"
   ]
  },
  {
   "cell_type": "code",
   "execution_count": 13,
   "metadata": {
    "collapsed": false
   },
   "outputs": [
    {
     "data": {
      "text/plain": [
       "<BIKNN.BIKNN at 0x106d71ad0>"
      ]
     },
     "execution_count": 13,
     "metadata": {},
     "output_type": "execute_result"
    }
   ],
   "source": [
    "movie_lens = BIKNN( K = 500, B1 = 25, B2 = 25 )\n",
    "movie_lens.fit(train)"
   ]
  },
  {
   "cell_type": "code",
   "execution_count": 19,
   "metadata": {
    "collapsed": false
   },
   "outputs": [
    {
     "data": {
      "text/plain": [
       "4.4460863202859393"
      ]
     },
     "execution_count": 19,
     "metadata": {},
     "output_type": "execute_result"
    }
   ],
   "source": [
    "movie_lens.predict_rating( 1, 4 )"
   ]
  },
  {
   "cell_type": "code",
   "execution_count": 14,
   "metadata": {
    "collapsed": true
   },
   "outputs": [],
   "source": [
    "test = pd.read_csv( 'data/u1.test', sep = '\\t', header = None )\n",
    "test = train.iloc[ :, 0:3 ]"
   ]
  },
  {
   "cell_type": "code",
   "execution_count": 20,
   "metadata": {
    "collapsed": false
   },
   "outputs": [
    {
     "data": {
      "text/plain": [
       "(80000, 3)"
      ]
     },
     "execution_count": 20,
     "metadata": {},
     "output_type": "execute_result"
    }
   ],
   "source": [
    "test.shape"
   ]
  }
 ],
 "metadata": {
  "kernelspec": {
   "display_name": "Python 2",
   "language": "python",
   "name": "python2"
  },
  "language_info": {
   "codemirror_mode": {
    "name": "ipython",
    "version": 2
   },
   "file_extension": ".py",
   "mimetype": "text/x-python",
   "name": "python",
   "nbconvert_exporter": "python",
   "pygments_lexer": "ipython2",
   "version": "2.7.10"
  }
 },
 "nbformat": 4,
 "nbformat_minor": 0
}
