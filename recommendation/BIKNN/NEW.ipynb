{
 "cells": [
  {
   "cell_type": "code",
   "execution_count": 1,
   "metadata": {
    "collapsed": true
   },
   "outputs": [],
   "source": [
    "import time\n",
    "import pandas as pd\n",
    "import matplotlib.pyplot as plt\n",
    "\n",
    "%matplotlib inline\n",
    "%load_ext autoreload\n",
    "%autoreload 2"
   ]
  },
  {
   "cell_type": "code",
   "execution_count": 2,
   "metadata": {
    "collapsed": false
   },
   "outputs": [
    {
     "name": "stdout",
     "output_type": "stream",
     "text": [
      "(80000, 3)\n",
      "(19968, 3)\n"
     ]
    },
    {
     "data": {
      "text/html": [
       "<div>\n",
       "<table border=\"1\" class=\"dataframe\">\n",
       "  <thead>\n",
       "    <tr style=\"text-align: right;\">\n",
       "      <th></th>\n",
       "      <th>user_ids</th>\n",
       "      <th>item_ids</th>\n",
       "      <th>ratings</th>\n",
       "    </tr>\n",
       "  </thead>\n",
       "  <tbody>\n",
       "    <tr>\n",
       "      <th>0</th>\n",
       "      <td>1</td>\n",
       "      <td>1</td>\n",
       "      <td>5</td>\n",
       "    </tr>\n",
       "    <tr>\n",
       "      <th>1</th>\n",
       "      <td>1</td>\n",
       "      <td>2</td>\n",
       "      <td>3</td>\n",
       "    </tr>\n",
       "    <tr>\n",
       "      <th>2</th>\n",
       "      <td>1</td>\n",
       "      <td>3</td>\n",
       "      <td>4</td>\n",
       "    </tr>\n",
       "    <tr>\n",
       "      <th>3</th>\n",
       "      <td>1</td>\n",
       "      <td>4</td>\n",
       "      <td>3</td>\n",
       "    </tr>\n",
       "    <tr>\n",
       "      <th>4</th>\n",
       "      <td>1</td>\n",
       "      <td>5</td>\n",
       "      <td>3</td>\n",
       "    </tr>\n",
       "  </tbody>\n",
       "</table>\n",
       "</div>"
      ],
      "text/plain": [
       "   user_ids  item_ids  ratings\n",
       "0         1         1        5\n",
       "1         1         2        3\n",
       "2         1         3        4\n",
       "3         1         4        3\n",
       "4         1         5        3"
      ]
     },
     "execution_count": 2,
     "metadata": {},
     "output_type": "execute_result"
    }
   ],
   "source": [
    "# movielens, column order: user id, item id, ratings and timestamp\n",
    "# the fourth column is the timestamp, exclude it\n",
    "train = pd.read_csv( 'data/u1.base', sep = '\\t', header = None )\n",
    "train = train.iloc[ :, 0:3 ]\n",
    "test  = pd.read_csv( 'data/u1.test', sep = '\\t', header = None )\n",
    "test  = test.iloc[ :, 0:3 ]\n",
    "column_names  = [ 'user_ids', 'item_ids', 'ratings' ]\n",
    "train.columns = column_names\n",
    "test.columns  = column_names\n",
    "\n",
    "# make sure all the items and users that are in the testing data\n",
    "# has been seen in training \n",
    "contain_items = test['item_ids'].isin( train['item_ids'].unique() )\n",
    "contain_users = test['user_ids'].isin( train['user_ids'].unique() )\n",
    "test = test[ contain_users & contain_items ]\n",
    "print(train.shape)\n",
    "print(test.shape)\n",
    "train.head()"
   ]
  },
  {
   "cell_type": "code",
   "execution_count": 3,
   "metadata": {
    "collapsed": false
   },
   "outputs": [
    {
     "name": "stdout",
     "output_type": "stream",
     "text": [
      "(80000, 3)\n",
      "(19968, 3)\n"
     ]
    }
   ],
   "source": [
    "# only retain users that are frequently rating \n",
    "# change the quantile for percentage that are retained\n",
    "\"\"\"\n",
    "histogram_counts = train['user_ids'].value_counts()\n",
    "df_value_counts  = pd.DataFrame( histogram_counts > histogram_counts.quantile(0.5) )\n",
    "df_value_counts  = df_value_counts.reset_index()\n",
    "frequent_users   = df_value_counts.loc[ df_value_counts['user_ids'], 'index' ]\n",
    "\n",
    "train = train[ train['user_ids'].isin(frequent_users) ]\n",
    "test  = test[ test['user_ids'].isin(frequent_users) ]\n",
    "\"\"\"\n",
    "print(train.shape)\n",
    "print(test.shape)"
   ]
  },
  {
   "cell_type": "code",
   "execution_count": 19,
   "metadata": {
    "collapsed": true
   },
   "outputs": [],
   "source": [
    "from recommender import BIKNN, GABIKNN"
   ]
  },
  {
   "cell_type": "code",
   "execution_count": 20,
   "metadata": {
    "collapsed": false
   },
   "outputs": [
    {
     "data": {
      "text/plain": [
       "639.8552379608154"
      ]
     },
     "execution_count": 20,
     "metadata": {},
     "output_type": "execute_result"
    }
   ],
   "source": [
    "# this runs a single BIKNN\n",
    "# the fit stage is about 646 seconds, 10.7 minute\n",
    "start1 = time.time()\n",
    "\n",
    "biknn1 = BIKNN( K = 20, B1 = 25, B2 = 25, iterations = 100000 )\n",
    "biknn1.fit( data = train, column_names = [ 'user_ids', 'item_ids', 'ratings' ] )\n",
    "\n",
    "# a boolean value indicating whether you have fitted the model\n",
    "# biknn1.is_fitted\n",
    "\n",
    "end1 = time.time()\n",
    "elapse1 = end1 - start1\n",
    "elapse1"
   ]
  },
  {
   "cell_type": "code",
   "execution_count": 5,
   "metadata": {
    "collapsed": false
   },
   "outputs": [
    {
     "data": {
      "text/plain": [
       "142.879625082016"
      ]
     },
     "execution_count": 5,
     "metadata": {},
     "output_type": "execute_result"
    }
   ],
   "source": [
    "# test around 140 seconds, 2.3 minutes\n",
    "start2 = time.time()\n",
    "\n",
    "pred = biknn1.predict(test)\n",
    "\n",
    "end2 = time.time()\n",
    "elapse2 = end2 - start2\n",
    "elapse2"
   ]
  },
  {
   "cell_type": "code",
   "execution_count": 7,
   "metadata": {
    "collapsed": false
   },
   "outputs": [
    {
     "data": {
      "text/plain": [
       "0.7558124882518507"
      ]
     },
     "execution_count": 7,
     "metadata": {},
     "output_type": "execute_result"
    }
   ],
   "source": [
    "biknn1.evaluate( pred, test['ratings'] )"
   ]
  },
  {
   "cell_type": "code",
   "execution_count": 22,
   "metadata": {
    "collapsed": false
   },
   "outputs": [
    {
     "data": {
      "text/plain": [
       "2206.8340170383453"
      ]
     },
     "execution_count": 22,
     "metadata": {},
     "output_type": "execute_result"
    }
   ],
   "source": [
    "start3 = time.time()\n",
    "\n",
    "ga1 = GABIKNN( \n",
    "    generation = 2,\n",
    "    pop_size = 5,\n",
    "    low = 0, \n",
    "    high = 100, \n",
    "    retain_rate = 0.5, \n",
    "    mutate_rate = 0.2,\n",
    "    BIKNN = biknn1,\n",
    "    verbose = True\n",
    ")\n",
    "ga1.fit(test)\n",
    "\n",
    "end3 = time.time()\n",
    "elapse3 = end3 - start3\n",
    "elapse3"
   ]
  },
  {
   "cell_type": "code",
   "execution_count": 25,
   "metadata": {
    "collapsed": false
   },
   "outputs": [
    {
     "data": {
      "text/plain": [
       "[info(cost=0.6403400368509364, chromo=[42, 65]),\n",
       " info(cost=0.6328918704783106, chromo=[31, 65])]"
      ]
     },
     "execution_count": 25,
     "metadata": {},
     "output_type": "execute_result"
    }
   ],
   "source": [
    "ga1.generation_history"
   ]
  },
  {
   "cell_type": "code",
   "execution_count": 23,
   "metadata": {
    "collapsed": false
   },
   "outputs": [
    {
     "ename": "AttributeError",
     "evalue": "'GABIKNN' object has no attribute 'convergence_plot'",
     "output_type": "error",
     "traceback": [
      "\u001b[0;31m---------------------------------------------------------------------------\u001b[0m",
      "\u001b[0;31mAttributeError\u001b[0m                            Traceback (most recent call last)",
      "\u001b[0;32m<ipython-input-23-d33a68081037>\u001b[0m in \u001b[0;36m<module>\u001b[0;34m()\u001b[0m\n\u001b[0;32m----> 1\u001b[0;31m \u001b[0mga1\u001b[0m\u001b[0;34m.\u001b[0m\u001b[0mconvergence_plot\u001b[0m\u001b[0;34m(\u001b[0m\u001b[0;34m)\u001b[0m\u001b[0;34m\u001b[0m\u001b[0m\n\u001b[0m",
      "\u001b[0;31mAttributeError\u001b[0m: 'GABIKNN' object has no attribute 'convergence_plot'"
     ]
    }
   ],
   "source": [
    "ga1.convergence_plot()"
   ]
  }
 ],
 "metadata": {
  "kernelspec": {
   "display_name": "Python 3",
   "language": "python",
   "name": "python3"
  },
  "language_info": {
   "codemirror_mode": {
    "name": "ipython",
    "version": 3
   },
   "file_extension": ".py",
   "mimetype": "text/x-python",
   "name": "python",
   "nbconvert_exporter": "python",
   "pygments_lexer": "ipython3",
   "version": "3.5.2"
  }
 },
 "nbformat": 4,
 "nbformat_minor": 0
}
