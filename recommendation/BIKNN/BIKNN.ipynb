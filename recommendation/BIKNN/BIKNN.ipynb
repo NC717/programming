{
 "cells": [
  {
   "cell_type": "code",
   "execution_count": 1,
   "metadata": {
    "collapsed": true
   },
   "outputs": [],
   "source": [
    "import pandas as pd\n",
    "from BIKNN import BIKNN"
   ]
  },
  {
   "cell_type": "code",
   "execution_count": 2,
   "metadata": {
    "collapsed": false
   },
   "outputs": [],
   "source": [
    "# train = pd.read_csv( 'data/u1.base', sep = '\\t', header = None )\n",
    "# train = train.iloc[ :, 0:3 ]\n",
    "# test  = pd.read_csv( 'data/u1.test', sep = '\\t', header = None )\n",
    "# test  = train.iloc[ :, 0:3 ]"
   ]
  },
  {
   "cell_type": "code",
   "execution_count": 3,
   "metadata": {
    "collapsed": false
   },
   "outputs": [
    {
     "data": {
      "text/html": [
       "<div>\n",
       "<table border=\"1\" class=\"dataframe\">\n",
       "  <thead>\n",
       "    <tr style=\"text-align: right;\">\n",
       "      <th></th>\n",
       "      <th>0</th>\n",
       "      <th>1</th>\n",
       "      <th>2</th>\n",
       "    </tr>\n",
       "  </thead>\n",
       "  <tbody>\n",
       "    <tr>\n",
       "      <th>0</th>\n",
       "      <td>1</td>\n",
       "      <td>1</td>\n",
       "      <td>1</td>\n",
       "    </tr>\n",
       "    <tr>\n",
       "      <th>1</th>\n",
       "      <td>1</td>\n",
       "      <td>2</td>\n",
       "      <td>2</td>\n",
       "    </tr>\n",
       "    <tr>\n",
       "      <th>2</th>\n",
       "      <td>1</td>\n",
       "      <td>3</td>\n",
       "      <td>5</td>\n",
       "    </tr>\n",
       "    <tr>\n",
       "      <th>3</th>\n",
       "      <td>2</td>\n",
       "      <td>1</td>\n",
       "      <td>2</td>\n",
       "    </tr>\n",
       "  </tbody>\n",
       "</table>\n",
       "</div>"
      ],
      "text/plain": [
       "   0  1  2\n",
       "0  1  1  1\n",
       "1  1  2  2\n",
       "2  1  3  5\n",
       "3  2  1  2"
      ]
     },
     "execution_count": 3,
     "metadata": {},
     "output_type": "execute_result"
    }
   ],
   "source": [
    "data = pd.read_csv( 'test_data.txt', sep = ',', header = None )\n",
    "data.head(4)"
   ]
  },
  {
   "cell_type": "code",
   "execution_count": 4,
   "metadata": {
    "collapsed": false
   },
   "outputs": [],
   "source": [
    "# movie_lens = BIKNN( K = 5, B1 = 10, B2 = 10 )\n",
    "# movie_lens.fit( data = data, columns = [ 'user_id', 'item_id', 'ratings' ] )"
   ]
  },
  {
   "cell_type": "code",
   "execution_count": 5,
   "metadata": {
    "collapsed": false
   },
   "outputs": [
    {
     "data": {
      "text/html": [
       "<div>\n",
       "<table border=\"1\" class=\"dataframe\">\n",
       "  <thead>\n",
       "    <tr style=\"text-align: right;\">\n",
       "      <th></th>\n",
       "      <th>user_id</th>\n",
       "      <th>item_id</th>\n",
       "      <th>ratings</th>\n",
       "    </tr>\n",
       "  </thead>\n",
       "  <tbody>\n",
       "    <tr>\n",
       "      <th>0</th>\n",
       "      <td>6</td>\n",
       "      <td>1</td>\n",
       "      <td>5</td>\n",
       "    </tr>\n",
       "    <tr>\n",
       "      <th>1</th>\n",
       "      <td>5</td>\n",
       "      <td>2</td>\n",
       "      <td>2</td>\n",
       "    </tr>\n",
       "  </tbody>\n",
       "</table>\n",
       "</div>"
      ],
      "text/plain": [
       "   user_id  item_id  ratings\n",
       "0        6        1        5\n",
       "1        5        2        2"
      ]
     },
     "execution_count": 5,
     "metadata": {},
     "output_type": "execute_result"
    }
   ],
   "source": [
    "dict1 = { \n",
    "    'user_id': [6, 5],\n",
    "    'item_id': [1, 2],\n",
    "    'ratings': [5, 2]\n",
    "}\n",
    "test1 = pd.DataFrame( dict1, columns = [ 'user_id', 'item_id', 'ratings' ] )\n",
    "test1"
   ]
  },
  {
   "cell_type": "code",
   "execution_count": 6,
   "metadata": {
    "collapsed": false
   },
   "outputs": [],
   "source": [
    "# mae = movie_lens.update( test1, iterations = 10 )\n",
    "# mae"
   ]
  },
  {
   "cell_type": "code",
   "execution_count": 9,
   "metadata": {
    "collapsed": false
   },
   "outputs": [
    {
     "name": "stdout",
     "output_type": "stream",
     "text": [
      "iteration 1's best generation: generation_info(cost=1.0509664813250679, chromo=[93, 8])\n",
      "iteration 2's best generation: generation_info(cost=1.0509664813250679, chromo=[93, 8])\n",
      "iteration 3's best generation: generation_info(cost=1.0509664813250679, chromo=[93, 8])\n",
      "iteration 4's best generation: generation_info(cost=1.0509664813250679, chromo=[93, 8])\n",
      "iteration 5's best generation: generation_info(cost=1.0509664813250679, chromo=[93, 8])\n",
      "[generation_info(cost=1.0509664813250679, chromo=[93, 8]), generation_info(cost=1.0509664813250679, chromo=[93, 8]), generation_info(cost=1.0509664813250679, chromo=[93, 8]), generation_info(cost=1.0509664813250679, chromo=[93, 8]), generation_info(cost=1.0509664813250679, chromo=[93, 8])]\n"
     ]
    }
   ],
   "source": [
    "from meta import ga\n",
    "\n",
    "ga1 = ga( \n",
    "    pop_size = 15, \n",
    "    chromo_len = 2, \n",
    "    lower_bound = 0, \n",
    "    upper_bound = 100,\n",
    "    retain = 0.5, \n",
    "    mutate = 0.2, \n",
    "    generation = 5,\n",
    "    K = 10,\n",
    "    data = data,\n",
    "    columns = [ 'user_id', 'item_id', 'ratings' ],\n",
    "    test = test1,\n",
    "    iterations = 1000\n",
    ")\n",
    "print(ga1)"
   ]
  },
  {
   "cell_type": "code",
   "execution_count": 13,
   "metadata": {
    "collapsed": false
   },
   "outputs": [
    {
     "data": {
      "image/png": "[encoded data removed]",
      "text/plain": [
       "<matplotlib.figure.Figure at 0x119ac6cc0>"
      ]
     },
     "metadata": {},
     "output_type": "display_data"
    }
   ],
   "source": [
    "%matplotlib inline\n",
    "import matplotlib.pyplot as plt\n",
    "\n",
    "costs = [ ga.cost for ga in ga1 ]\n",
    "plt.plot( range( 1, len(ga1) + 1 ), costs )\n",
    "plt.title( 'Cost Convergence Plot' )\n",
    "plt.xlabel('Iteration')\n",
    "plt.ylabel('Cost')\n",
    "plt.ylim( 0, costs[0] + 0.5 )\n",
    "plt.show()"
   ]
  }
 ],
 "metadata": {
  "kernelspec": {
   "display_name": "Python 3",
   "language": "python",
   "name": "python3"
  },
  "language_info": {
   "codemirror_mode": {
    "name": "ipython",
    "version": 3
   },
   "file_extension": ".py",
   "mimetype": "text/x-python",
   "name": "python",
   "nbconvert_exporter": "python",
   "pygments_lexer": "ipython3",
   "version": "3.5.1"
  }
 },
 "nbformat": 4,
 "nbformat_minor": 0
}
