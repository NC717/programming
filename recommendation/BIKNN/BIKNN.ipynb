{
 "cells": [
  {
   "cell_type": "code",
   "execution_count": 21,
   "metadata": {
    "collapsed": true
   },
   "outputs": [],
   "source": [
    "%matplotlib inline\n",
    "import pandas as pd\n",
    "from meta import ga\n",
    "from BIKNN import BIKNN\n",
    "import matplotlib.pyplot as plt\n",
    "from sklearn.cross_validation import train_test_split"
   ]
  },
  {
   "cell_type": "markdown",
   "metadata": {},
   "source": [
    "# BIKNN on Small Dataset"
   ]
  },
  {
   "cell_type": "code",
   "execution_count": 3,
   "metadata": {
    "collapsed": false
   },
   "outputs": [
    {
     "data": {
      "text/html": [
       "<div>\n",
       "<table border=\"1\" class=\"dataframe\">\n",
       "  <thead>\n",
       "    <tr style=\"text-align: right;\">\n",
       "      <th></th>\n",
       "      <th>userID</th>\n",
       "      <th>placeID</th>\n",
       "      <th>rating</th>\n",
       "    </tr>\n",
       "  </thead>\n",
       "  <tbody>\n",
       "    <tr>\n",
       "      <th>0</th>\n",
       "      <td>1</td>\n",
       "      <td>32</td>\n",
       "      <td>2</td>\n",
       "    </tr>\n",
       "    <tr>\n",
       "      <th>1</th>\n",
       "      <td>1</td>\n",
       "      <td>33</td>\n",
       "      <td>1</td>\n",
       "    </tr>\n",
       "    <tr>\n",
       "      <th>2</th>\n",
       "      <td>1</td>\n",
       "      <td>76</td>\n",
       "      <td>2</td>\n",
       "    </tr>\n",
       "    <tr>\n",
       "      <th>3</th>\n",
       "      <td>1</td>\n",
       "      <td>82</td>\n",
       "      <td>1</td>\n",
       "    </tr>\n",
       "    <tr>\n",
       "      <th>4</th>\n",
       "      <td>1</td>\n",
       "      <td>86</td>\n",
       "      <td>1</td>\n",
       "    </tr>\n",
       "  </tbody>\n",
       "</table>\n",
       "</div>"
      ],
      "text/plain": [
       "   userID  placeID  rating\n",
       "0       1       32       2\n",
       "1       1       33       1\n",
       "2       1       76       2\n",
       "3       1       82       1\n",
       "4       1       86       1"
      ]
     },
     "execution_count": 3,
     "metadata": {},
     "output_type": "execute_result"
    }
   ],
   "source": [
    "final_ratings = pd.read_csv('data/final_rating.csv')\n",
    "final_ratings.head()"
   ]
  },
  {
   "cell_type": "code",
   "execution_count": 7,
   "metadata": {
    "collapsed": false
   },
   "outputs": [
    {
     "data": {
      "text/html": [
       "<div>\n",
       "<table border=\"1\" class=\"dataframe\">\n",
       "  <thead>\n",
       "    <tr style=\"text-align: right;\">\n",
       "      <th></th>\n",
       "      <th>userID</th>\n",
       "      <th>placeID</th>\n",
       "      <th>rating</th>\n",
       "    </tr>\n",
       "  </thead>\n",
       "  <tbody>\n",
       "    <tr>\n",
       "      <th>901</th>\n",
       "      <td>109</td>\n",
       "      <td>79</td>\n",
       "      <td>2</td>\n",
       "    </tr>\n",
       "    <tr>\n",
       "      <th>72</th>\n",
       "      <td>8</td>\n",
       "      <td>41</td>\n",
       "      <td>1</td>\n",
       "    </tr>\n",
       "    <tr>\n",
       "      <th>728</th>\n",
       "      <td>90</td>\n",
       "      <td>107</td>\n",
       "      <td>2</td>\n",
       "    </tr>\n",
       "    <tr>\n",
       "      <th>327</th>\n",
       "      <td>39</td>\n",
       "      <td>16</td>\n",
       "      <td>1</td>\n",
       "    </tr>\n",
       "    <tr>\n",
       "      <th>131</th>\n",
       "      <td>15</td>\n",
       "      <td>49</td>\n",
       "      <td>1</td>\n",
       "    </tr>\n",
       "  </tbody>\n",
       "</table>\n",
       "</div>"
      ],
      "text/plain": [
       "     userID  placeID  rating\n",
       "901     109       79       2\n",
       "72        8       41       1\n",
       "728      90      107       2\n",
       "327      39       16       1\n",
       "131      15       49       1"
      ]
     },
     "execution_count": 7,
     "metadata": {},
     "output_type": "execute_result"
    }
   ],
   "source": [
    "# X_train and X_test is your training and testing data\n",
    "X_train, X_test = train_test_split( \n",
    "    final_ratings, \n",
    "    test_size = 0.2, \n",
    "    stratify = final_ratings['userID'].values,\n",
    "    random_state = 1234 # this is the seed for reproducible train/test split\n",
    ")\n",
    "X_train.head()"
   ]
  },
  {
   "cell_type": "code",
   "execution_count": 8,
   "metadata": {
    "collapsed": false
   },
   "outputs": [
    {
     "name": "stdout",
     "output_type": "stream",
     "text": [
      "0.581195183863\n"
     ]
    }
   ],
   "source": [
    "# this runs a single BIKNN\n",
    "biknn_model = BIKNN( K = 20, B1 = 25, B2 = 25 )\n",
    "biknn_model.fit( data = X_train, columns = [ 'user_id', 'item_id', 'ratings' ] )\n",
    "mae = biknn_model.update( X_test, iterations = 1000 )\n",
    "print(mae)"
   ]
  },
  {
   "cell_type": "code",
   "execution_count": 22,
   "metadata": {
    "collapsed": false
   },
   "outputs": [
    {
     "name": "stdout",
     "output_type": "stream",
     "text": [
      "iteration 1's best generation: generation_info(cost=0.53970114529945057, chromo=[40, 6])\n",
      "iteration 2's best generation: generation_info(cost=0.5384025073136548, chromo=[91, 6])\n",
      "iteration 3's best generation: generation_info(cost=0.5384025073136548, chromo=[91, 6])\n",
      "iteration 4's best generation: generation_info(cost=0.5384025073136548, chromo=[91, 6])\n",
      "iteration 5's best generation: generation_info(cost=0.52723344693409568, chromo=[91, 4])\n",
      "[generation_info(cost=0.53970114529945057, chromo=[40, 6]), generation_info(cost=0.5384025073136548, chromo=[91, 6]), generation_info(cost=0.5384025073136548, chromo=[91, 6]), generation_info(cost=0.5384025073136548, chromo=[91, 6]), generation_info(cost=0.52723344693409568, chromo=[91, 4])]\n"
     ]
    }
   ],
   "source": [
    "# genetic algorithm BIKNN\n",
    "ga1 = ga( \n",
    "    pop_size = 15, \n",
    "    chromo_len = 2, \n",
    "    lower_bound = 0, \n",
    "    upper_bound = 100,\n",
    "    retain = 0.5, \n",
    "    mutate = 0.2, \n",
    "    generation = 5,\n",
    "    K = 20,\n",
    "    data = X_train,\n",
    "    columns = [ 'user_id', 'item_id', 'ratings' ],\n",
    "    test = X_test,\n",
    "    iterations = 1000\n",
    ")\n",
    "print(ga1)"
   ]
  },
  {
   "cell_type": "code",
   "execution_count": 33,
   "metadata": {
    "collapsed": false
   },
   "outputs": [
    {
     "data": {
      "image/png": "[encoded data removed]",
      "text/plain": [
       "<matplotlib.figure.Figure at 0x11c71e780>"
      ]
     },
     "metadata": {},
     "output_type": "display_data"
    }
   ],
   "source": [
    "costs = [ ga.cost for ga in ga1 ]\n",
    "plt.plot( range( 1, len(ga1) + 1 ), costs, '-o' )\n",
    "plt.title( 'Cost Convergence Plot' )\n",
    "plt.xlabel('Iteration')\n",
    "plt.ylabel('Cost')\n",
    "plt.ylim( 0, costs[0] + 0.5 )\n",
    "plt.tight_layout()\n",
    "plt.show()"
   ]
  },
  {
   "cell_type": "markdown",
   "metadata": {},
   "source": [
    "# BIKNN on Big Dataset"
   ]
  },
  {
   "cell_type": "code",
   "execution_count": 44,
   "metadata": {
    "collapsed": false
   },
   "outputs": [
    {
     "name": "stdout",
     "output_type": "stream",
     "text": [
      "(80000, 3)\n"
     ]
    }
   ],
   "source": [
    "# the full dataset\n",
    "# column order: user id, item id and ratings\n",
    "train = pd.read_csv( 'data/u1.base', sep = '\\t', header = None )\n",
    "train = train.iloc[ :, 0:3 ]\n",
    "test  = pd.read_csv( 'data/u1.test', sep = '\\t', header = None )\n",
    "test  = train.iloc[ :, 0:3 ]\n",
    "column_names = [ 'user_id', 'item_id', 'ratings' ]\n",
    "train.columns = column_names\n",
    "test.columns  = column_names\n",
    "train.head()\n",
    "print(train.shape)"
   ]
  },
  {
   "cell_type": "code",
   "execution_count": 45,
   "metadata": {
    "collapsed": false
   },
   "outputs": [
    {
     "name": "stdout",
     "output_type": "stream",
     "text": [
      "(66810, 3)\n",
      "(66810, 3)\n"
     ]
    }
   ],
   "source": [
    "# only retain users that are frequently rating \n",
    "# change the quantile for percentage that are retained\n",
    "histogram_counts = train['user_id'].value_counts()\n",
    "df_value_counts = pd.DataFrame( histogram_counts > histogram_counts.quantile(0.5) )\n",
    "df_value_counts.reset_index( inplace = True )\n",
    "frequent_users = df_value_counts.loc[ df_value_counts['user_id'] == True, 'index' ]\n",
    "\n",
    "train = train[ train['user_id'].isin(frequent_users) ]\n",
    "test  = test[  test['user_id'].isin(frequent_users) ]\n",
    "print(train.shape)\n",
    "print(test.shape)"
   ]
  },
  {
   "cell_type": "code",
   "execution_count": 46,
   "metadata": {
    "collapsed": false
   },
   "outputs": [
    {
     "name": "stdout",
     "output_type": "stream",
     "text": [
      "ignore this code chunk\n"
     ]
    }
   ],
   "source": [
    "\"\"\"\n",
    "data = pd.read_csv( 'test_data.txt', sep = ',', header = None )\n",
    "data.head(4)\n",
    "dict1 = { \n",
    "    'user_id': [6, 5],\n",
    "    'item_id': [1, 2],\n",
    "    'ratings': [5, 2]\n",
    "}\n",
    "test1 = pd.DataFrame( dict1, columns = [ 'user_id', 'item_id', 'ratings' ] )\n",
    "test1\n",
    "\"\"\"\n",
    "print('ignore this code chunk')"
   ]
  }
 ],
 "metadata": {
  "kernelspec": {
   "display_name": "Python 3",
   "language": "python",
   "name": "python3"
  },
  "language_info": {
   "codemirror_mode": {
    "name": "ipython",
    "version": 3
   },
   "file_extension": ".py",
   "mimetype": "text/x-python",
   "name": "python",
   "nbconvert_exporter": "python",
   "pygments_lexer": "ipython3",
   "version": "3.5.1"
  }
 },
 "nbformat": 4,
 "nbformat_minor": 0
}
