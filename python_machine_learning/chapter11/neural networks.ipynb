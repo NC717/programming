{
 "cells": [
  {
   "cell_type": "markdown",
   "metadata": {},
   "source": [
    "$$ output = \\begin{cases} 1 \\text{, if } wx + b > 0  \\\\ \n",
    "    0 \\text{, if}\\ wx + b \\leq 0 \\end{cases} $$"
   ]
  },
  {
   "cell_type": "markdown",
   "metadata": {},
   "source": [
    "# Neural Networks\n",
    "\n",
    "The goal in training a neural network is to find the set of weights and biases that minimize the cost function.\n",
    "\n",
    "\n",
    "**Side Note on standard error output:** \n",
    "\n",
    "In particular, `stdout` should be used for normal program output ( this is where prints usually goes to ), whereas `stderr` should be reserved only for error messages (abnormal program execution)."
   ]
  },
  {
   "cell_type": "code",
   "execution_count": 1,
   "metadata": {
    "collapsed": false
   },
   "outputs": [
    {
     "name": "stderr",
     "output_type": "stream",
     "text": [
      "test"
     ]
    }
   ],
   "source": [
    "from scipy.special import expit # equivalent to the sigmoid function\n",
    "import numpy as np\n",
    "import sys\n",
    "sys.stderr.write('test')\n",
    "sys.stderr.flush()"
   ]
  },
  {
   "cell_type": "code",
   "execution_count": 2,
   "metadata": {
    "collapsed": false
   },
   "outputs": [],
   "source": [
    "import random\n",
    "from sklearn import datasets\n",
    "from sklearn.preprocessing import StandardScaler\n",
    "from sklearn.cross_validation import train_test_split\n",
    "\n",
    "iris = datasets.load_iris()\n",
    "X = iris.data[ :, [ 2, 3 ] ]\n",
    "y = iris.target\n",
    "X_train, X_test, y_train, y_test = train_test_split( X, y, test_size = 0.3, random_state = 0 )\n",
    "\n",
    "sc = StandardScaler()\n",
    "X_train_sd = sc.fit_transform(X_train)\n",
    "X_test_sd  = sc.transform(X_test)"
   ]
  },
  {
   "cell_type": "code",
   "execution_count": 3,
   "metadata": {
    "collapsed": false
   },
   "outputs": [],
   "source": [
    "def _encode_labels( y, n_output ):\n",
    "    onehot = np.zeros( [ y.shape[0], n_output ] )\n",
    "    for idx, val in enumerate(y):\n",
    "        onehot[idx, val] = 1.0\n",
    "    return onehot"
   ]
  },
  {
   "cell_type": "code",
   "execution_count": 7,
   "metadata": {
    "collapsed": false
   },
   "outputs": [],
   "source": [
    "X_data, y_data = X.copy(), y.copy()\n",
    "y_enc = _encode_labels( y_train, n_output )\n",
    "\n",
    "w1 = np.random.uniform( -1.0, 1.0, size = n_hidden * (n_features + 1) )\n",
    "w1 = w1.reshape(n_hidden, n_features + 1)"
   ]
  },
  {
   "cell_type": "code",
   "execution_count": 39,
   "metadata": {
    "collapsed": false
   },
   "outputs": [
    {
     "name": "stderr",
     "output_type": "stream",
     "text": [
      "Epoch: 10/10"
     ]
    },
    {
     "data": {
      "text/plain": [
       "<neuralnet.NeuralNetMLP at 0x10f2fec50>"
      ]
     },
     "execution_count": 39,
     "metadata": {},
     "output_type": "execute_result"
    }
   ],
   "source": [
    "import neuralnet as nn\n",
    "reload(nn)\n",
    "\n",
    "# parameters\n",
    "n_output = 3\n",
    "n_hidden = 2\n",
    "n_features = X_train.shape[1]\n",
    "\n",
    "nn1 = nn.NeuralNetMLP( n_output = n_output, \n",
    "                       n_features = n_features, \n",
    "                       n_hidden = n_hidden, \n",
    "                       l2 = 0.1, \n",
    "                       l1 = 0.0, \n",
    "                       epochs = 10, \n",
    "                       eta = 0.001,\n",
    "                       alpha = 0.001,\n",
    "                       decrease_const = 0.00001,\n",
    "                       minibatches = 5, \n",
    "                       shuffle = False,\n",
    "                       random_state = 1 )\n",
    "\n",
    "nn1.fit( X_train, y_train, print_progress = True )"
   ]
  },
  {
   "cell_type": "code",
   "execution_count": 27,
   "metadata": {
    "collapsed": false
   },
   "outputs": [],
   "source": [
    "idx = np.array_split( range(y_data.shape[0]), 10)[1]\n",
    "X = X_data[idx]\n",
    "\n",
    "a1 = np.hstack( ( np.ones([ X.shape[0], 1]), X ) )\n",
    "z2 = nn1.w1.dot( a1.T )\n",
    "a2 = expit(z2)\n",
    "a2 = np.vstack( ( np.ones([ 1, a2.shape[1]]), a2 ) )\n",
    "z3 = nn1.w2.dot(a2)\n",
    "a3 = expit(z3).T # activation for the output"
   ]
  },
  {
   "cell_type": "code",
   "execution_count": 57,
   "metadata": {
    "collapsed": false
   },
   "outputs": [
    {
     "data": {
      "text/plain": [
       "array([[ 0.30597158,  0.51159518,  0.4179317 ],\n",
       "       [ 0.30661256,  0.51417982,  0.40969228],\n",
       "       [ 0.30419264,  0.51286642,  0.41593958],\n",
       "       [ 0.30323999,  0.50904606,  0.42819349],\n",
       "       [ 0.30389115,  0.51154972,  0.42012562],\n",
       "       [ 0.30122446,  0.50898303,  0.43039906],\n",
       "       [ 0.30597158,  0.51159518,  0.4179317 ],\n",
       "       [ 0.3029821 ,  0.51883005,  0.39964838],\n",
       "       [ 0.30727954,  0.50936565,  0.42323181],\n",
       "       [ 0.30058767,  0.50657384,  0.43822028],\n",
       "       [ 0.30152352,  0.51025381,  0.42632397],\n",
       "       [ 0.30562426,  0.51036513,  0.42191081],\n",
       "       [ 0.30180825,  0.51156948,  0.42214004],\n",
       "       [ 0.30207759,  0.51293047,  0.41784845],\n",
       "       [ 0.30152352,  0.51025381,  0.42632397]])"
      ]
     },
     "execution_count": 57,
     "metadata": {},
     "output_type": "execute_result"
    }
   ],
   "source": [
    "a3"
   ]
  },
  {
   "cell_type": "code",
   "execution_count": 56,
   "metadata": {
    "collapsed": false
   },
   "outputs": [
    {
     "data": {
      "text/plain": [
       "array([1, 1, 1, 1, 1, 1, 1, 1, 1, 1, 1, 1, 1, 1, 1])"
      ]
     },
     "execution_count": 56,
     "metadata": {},
     "output_type": "execute_result"
    }
   ],
   "source": [
    "np.argmax( a3, axis = 1 )"
   ]
  },
  {
   "cell_type": "code",
   "execution_count": 51,
   "metadata": {
    "collapsed": false
   },
   "outputs": [
    {
     "data": {
      "text/plain": [
       "array([[-0.44548958,  0.66995764,  3.31586115],\n",
       "       [-0.1389285 ,  0.1040963 ,  0.79740744],\n",
       "       [ 0.90660048, -0.73018712, -6.25275145]])"
      ]
     },
     "execution_count": 51,
     "metadata": {},
     "output_type": "execute_result"
    }
   ],
   "source": [
    "nn1._add_bias_unit(z2, how='row').dot(sigma3) * "
   ]
  },
  {
   "cell_type": "code",
   "execution_count": 50,
   "metadata": {
    "collapsed": false
   },
   "outputs": [],
   "source": [
    "sigma3 = a3 - y_enc[idx, : ]"
   ]
  }
 ],
 "metadata": {
  "kernelspec": {
   "display_name": "Python 2",
   "language": "python",
   "name": "python2"
  },
  "language_info": {
   "codemirror_mode": {
    "name": "ipython",
    "version": 2
   },
   "file_extension": ".py",
   "mimetype": "text/x-python",
   "name": "python",
   "nbconvert_exporter": "python",
   "pygments_lexer": "ipython2",
   "version": "2.7.10"
  }
 },
 "nbformat": 4,
 "nbformat_minor": 0
}
