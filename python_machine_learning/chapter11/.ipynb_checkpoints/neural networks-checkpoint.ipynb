{
 "cells": [
  {
   "cell_type": "markdown",
   "metadata": {},
   "source": [
    "# Neural Networks\n",
    "\n",
    "The goal in training a neural network is to find the set of weights and biases that minimize the cost function.\n",
    "\n",
    "A more intuitive version of backpropagation: http://mattmazur.com/2015/03/17/a-step-by-step-backpropagation-example/.\n",
    "\n",
    "**Side Note on standard error output:** \n",
    "\n",
    "In particular, `stdout` should be used for normal program output ( this is where prints usually goes to ), whereas `stderr` should be reserved only for error messages (abnormal program execution)."
   ]
  },
  {
   "cell_type": "code",
   "execution_count": 1,
   "metadata": {
    "collapsed": false
   },
   "outputs": [
    {
     "name": "stderr",
     "output_type": "stream",
     "text": [
      "test"
     ]
    }
   ],
   "source": [
    "from scipy.special import expit # equivalent to the sigmoid function\n",
    "import numpy as np\n",
    "import sys\n",
    "sys.stderr.write('test')\n",
    "sys.stderr.flush() # .flush out the error message in .write"
   ]
  },
  {
   "cell_type": "code",
   "execution_count": 2,
   "metadata": {
    "collapsed": false
   },
   "outputs": [],
   "source": [
    "import random\n",
    "from sklearn import datasets\n",
    "from sklearn.preprocessing import StandardScaler\n",
    "from sklearn.cross_validation import train_test_split\n",
    "\n",
    "iris = datasets.load_iris()\n",
    "X = iris.data[ :, [ 2, 3 ] ]\n",
    "y = iris.target\n",
    "X_train, X_test, y_train, y_test = train_test_split( X, y, test_size = 0.3, random_state = 0 )\n",
    "\n",
    "sc = StandardScaler()\n",
    "X_train_sd = sc.fit_transform(X_train)\n",
    "X_test_sd  = sc.transform(X_test)"
   ]
  },
  {
   "cell_type": "code",
   "execution_count": 3,
   "metadata": {
    "collapsed": false
   },
   "outputs": [],
   "source": [
    "def _encode_labels( y, n_output ):\n",
    "    onehot = np.zeros( [ y.shape[0], n_output ] )\n",
    "    for idx, val in enumerate(y):\n",
    "        onehot[idx, val] = 1.0\n",
    "    return onehot"
   ]
  },
  {
   "cell_type": "code",
   "execution_count": 48,
   "metadata": {
    "collapsed": false
   },
   "outputs": [
    {
     "data": {
      "text/plain": [
       "<module 'neuralnet' from 'neuralnet.py'>"
      ]
     },
     "execution_count": 48,
     "metadata": {},
     "output_type": "execute_result"
    }
   ],
   "source": [
    "import neuralnet as nn\n",
    "reload(nn)"
   ]
  },
  {
   "cell_type": "code",
   "execution_count": 59,
   "metadata": {
    "collapsed": false
   },
   "outputs": [
    {
     "name": "stderr",
     "output_type": "stream",
     "text": [
      "Epoch: 10/10"
     ]
    },
    {
     "data": {
      "text/plain": [
       "<neuralnet.NeuralNetMLP at 0x10f3fd050>"
      ]
     },
     "execution_count": 59,
     "metadata": {},
     "output_type": "execute_result"
    }
   ],
   "source": [
    "# parameters\n",
    "n_output = 3\n",
    "n_hidden = 2\n",
    "n_features = X_train.shape[1]\n",
    "\n",
    "nn1 = nn.NeuralNetMLP( n_output = n_output, \n",
    "                       n_features = n_features, \n",
    "                       n_hidden = n_hidden, \n",
    "                       l2 = 0.1, \n",
    "                       l1 = 0.0, \n",
    "                       epochs = 10, \n",
    "                       eta = 0.001,\n",
    "                       alpha = 0.001,\n",
    "                       decrease_const = 0.00001,\n",
    "                       minibatches = 5, \n",
    "                       shuffle = False,\n",
    "                       random_state = 1 )\n",
    "\n",
    "nn1.fit( X_train, y_train, print_progress = True )"
   ]
  },
  {
   "cell_type": "code",
   "execution_count": 60,
   "metadata": {
    "collapsed": false
   },
   "outputs": [
    {
     "data": {
      "text/plain": [
       "array([2, 2, 2, 2, 2, 2, 2, 2, 2, 2, 2, 2, 2, 2, 2, 2, 1, 2, 2, 2, 2, 2, 2,\n",
       "       1, 1, 2, 2, 1, 1, 2, 1, 2, 1, 1, 2, 2, 2, 1, 2, 2, 2, 2, 1, 1, 2, 2,\n",
       "       1, 2, 1, 2, 2, 1, 1, 2, 1, 1, 1, 2, 2, 2, 1, 1, 1, 2, 2, 1, 1, 2, 1,\n",
       "       2, 2, 2, 2, 1, 2, 1, 2, 1, 1, 2, 1, 2, 2, 2, 2, 2, 2, 2, 2, 1, 2, 2,\n",
       "       2, 1, 2, 2, 2, 2, 1, 1, 1, 2, 2, 2, 1])"
      ]
     },
     "execution_count": 60,
     "metadata": {},
     "output_type": "execute_result"
    }
   ],
   "source": [
    "nn1.predict( X_train )"
   ]
  },
  {
   "cell_type": "code",
   "execution_count": 15,
   "metadata": {
    "collapsed": false
   },
   "outputs": [],
   "source": [
    "X_data, y_data = X.copy(), y.copy()\n",
    "y_enc = _encode_labels( y_train, n_output )\n",
    "\n",
    "w1 = np.random.uniform( -1.0, 1.0, size = n_hidden * (n_features + 1) )\n",
    "w1 = w1.reshape(n_hidden, n_features + 1)"
   ]
  },
  {
   "cell_type": "code",
   "execution_count": 16,
   "metadata": {
    "collapsed": false
   },
   "outputs": [],
   "source": [
    "idx = np.array_split( range(y_data.shape[0]), 10 )[1]\n",
    "X = X_data[idx]\n",
    "\n",
    "a1 = np.hstack( ( np.ones([ X.shape[0], 1]), X ) )\n",
    "z2 = nn1.w1.dot( a1.T )\n",
    "a2 = expit(z2)\n",
    "a2 = np.vstack( ( np.ones([ 1, a2.shape[1]]), a2 ) )\n",
    "z3 = nn1.w2.dot(a2)\n",
    "a3 = expit(z3).T # activation for the output"
   ]
  }
 ],
 "metadata": {
  "kernelspec": {
   "display_name": "Python 2",
   "language": "python",
   "name": "python2"
  },
  "language_info": {
   "codemirror_mode": {
    "name": "ipython",
    "version": 2
   },
   "file_extension": ".py",
   "mimetype": "text/x-python",
   "name": "python",
   "nbconvert_exporter": "python",
   "pygments_lexer": "ipython2",
   "version": "2.7.10"
  }
 },
 "nbformat": 4,
 "nbformat_minor": 0
}
