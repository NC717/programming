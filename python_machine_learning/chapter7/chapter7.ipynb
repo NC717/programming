{
 "cells": [
  {
   "cell_type": "markdown",
   "metadata": {},
   "source": [
    "# Ensemble Learning\n",
    "\n",
    "The intuition is to combine different classifiers into a meta-classifier that has a better performance than any individual classifier alone."
   ]
  },
  {
   "cell_type": "markdown",
   "metadata": {},
   "source": [
    "## Majority Vote Concept\n",
    "\n",
    "The concept of weighted majority vote.   \n",
    "3 Classifier classifies this observation as class [ 0, 0, 1 ] respectively. If the weight of these 3 classifiers are [ 0.2, 0.2, 0.6 ] then this observation will be classified as class 1. "
   ]
  },
  {
   "cell_type": "code",
   "execution_count": 2,
   "metadata": {
    "collapsed": false
   },
   "outputs": [
    {
     "data": {
      "text/plain": [
       "1"
      ]
     },
     "execution_count": 2,
     "metadata": {},
     "output_type": "execute_result"
    }
   ],
   "source": [
    "# assign a list of weight, whose shape is equivalent to x\n",
    "np.argmax( np.bincount( [ 0, 0, 1 ], weights = [ 0.2, 0.2, 0.6 ] ) )"
   ]
  },
  {
   "cell_type": "markdown",
   "metadata": {},
   "source": [
    "When class becomes probability ( probability of being classified as class 0 and class1 )."
   ]
  },
  {
   "cell_type": "code",
   "execution_count": 3,
   "metadata": {
    "collapsed": false
   },
   "outputs": [
    {
     "name": "stdout",
     "output_type": "stream",
     "text": [
      "[ 0.58  0.42]\n",
      "0\n"
     ]
    }
   ],
   "source": [
    "ex = np.array( [ [ 0.9, 0.1 ], [ 0.8, 0.2 ], [ 0.4, 0.6 ] ] )\n",
    "p = np.average( ex, axis = 0, weights = [ 0.2, 0.2, 0.6 ] )\n",
    "print(p)\n",
    "print( np.argmax(p) )"
   ]
  },
  {
   "cell_type": "markdown",
   "metadata": {
    "collapsed": true
   },
   "source": [
    "## Preparing the Dataset and Algorithm"
   ]
  },
  {
   "cell_type": "code",
   "execution_count": 4,
   "metadata": {
    "collapsed": true
   },
   "outputs": [],
   "source": [
    "from sklearn import datasets\n",
    "from sklearn.cross_validation import train_test_split\n",
    "from sklearn.preprocessing import StandardScaler\n",
    "from sklearn.preprocessing import LabelEncoder\n",
    "from sklearn.cross_validation import cross_val_score\n",
    "from sklearn.linear_model import LogisticRegression\n",
    "from sklearn.tree import DecisionTreeClassifier\n",
    "from sklearn.neighbors import KNeighborsClassifier \n",
    "from sklearn.pipeline import Pipeline\n",
    "import numpy as np"
   ]
  },
  {
   "cell_type": "markdown",
   "metadata": {},
   "source": [
    "Load iris data. Use only two of the features and work on classifying two classes."
   ]
  },
  {
   "cell_type": "code",
   "execution_count": 5,
   "metadata": {
    "collapsed": true
   },
   "outputs": [],
   "source": [
    "iris = datasets.load_iris()\n",
    "X, y = iris.data[ 50:, [1, 2] ], iris.target[50:]\n",
    "le = LabelEncoder()\n",
    "y  = le.fit_transform(y)\n",
    "\n",
    "# split the data into 50% training / 50% testing\n",
    "X_train, X_test, y_train, y_test = train_test_split( X, y, test_size = 0.5, random_state = 1 )"
   ]
  },
  {
   "cell_type": "markdown",
   "metadata": {},
   "source": [
    "Train three different classifiers : 1) logistic regression ; 2) decision tree ; 3) k nearest neighbors. Look at their individual performance via a 10 fold cross-validation before combining them into an emsemble classifer.\n",
    "\n",
    "Note that unlike tree-base algorithms, logistic regression and k nearest neighbors are not scale-invariant, thus it's a good habit to work with standardized features ( use a Pipeline )."
   ]
  },
  {
   "cell_type": "code",
   "execution_count": 6,
   "metadata": {
    "collapsed": false
   },
   "outputs": [
    {
     "name": "stdout",
     "output_type": "stream",
     "text": [
      "ROC AUC: 0.92 (+/- 0.20) [Logistic Regression]\n",
      "ROC AUC: 0.92 (+/- 0.15) [Decision Tree]\n",
      "ROC AUC: 0.93 (+/- 0.10) [KNN]\n"
     ]
    }
   ],
   "source": [
    "clf1 = LogisticRegression( penalty = 'l2', \n",
    "                           C = 0.001, \n",
    "                           random_state = 0 )\n",
    "\n",
    "clf2 = DecisionTreeClassifier( max_depth = 1, \n",
    "                               criterion = 'entropy', \n",
    "                               random_state = 0 )\n",
    "\n",
    "clf3 = KNeighborsClassifier( n_neighbors = 1, \n",
    "                             p = 2, \n",
    "                             metric = 'minkowski')\n",
    "\n",
    "pipe1 = Pipeline( [ [ 'sc', StandardScaler() ],\n",
    "                    [ 'clf', clf1 ] ] )\n",
    "pipe3 = Pipeline( [ [ 'sc', StandardScaler() ],\n",
    "                    [ 'clf', clf3 ] ] )\n",
    "\n",
    "clf_labels = [ 'Logistic Regression', 'Decision Tree', 'KNN' ]\n",
    "\n",
    "for clf, label in zip( [ pipe1, clf2, pipe3 ], clf_labels ):\n",
    "    # scores returns an array of float\n",
    "    scores = cross_val_score( estimator = clf, X = X_train, y = y_train, \n",
    "                              cv = 10, scoring = 'roc_auc' )\n",
    "    print( \"ROC AUC: %0.2f (+/- %0.2f) [%s]\" % \n",
    "           ( scores.mean(), scores.std(), label ) )"
   ]
  },
  {
   "cell_type": "markdown",
   "metadata": {},
   "source": [
    "## Implementing the Majority Voter\n",
    "\n",
    "Implement majority voter from scratch. A quick tour on some of the part that may be confusing.\n",
    "\n",
    "### sklearn's `_name_estimators` example usage."
   ]
  },
  {
   "cell_type": "markdown",
   "metadata": {},
   "source": [
    "`_name_estimators` returns a list of tuples, we can convert it into a dictionary, where the key is the name of the estimator provided by the `_name_estimator` function and the value is its corresponding estimator."
   ]
  },
  {
   "cell_type": "code",
   "execution_count": 7,
   "metadata": {
    "collapsed": false
   },
   "outputs": [
    {
     "data": {
      "text/plain": [
       "{'decisiontreeclassifier': DecisionTreeClassifier(class_weight=None, criterion='entropy', max_depth=1,\n",
       "             max_features=None, max_leaf_nodes=None, min_samples_leaf=1,\n",
       "             min_samples_split=2, min_weight_fraction_leaf=0.0,\n",
       "             presort=False, random_state=0, splitter='best'),\n",
       " 'pipeline-1': Pipeline(steps=[['sc', StandardScaler(copy=True, with_mean=True, with_std=True)], ['clf', LogisticRegression(C=0.001, class_weight=None, dual=False, fit_intercept=True,\n",
       "           intercept_scaling=1, max_iter=100, multi_class='ovr', n_jobs=1,\n",
       "           penalty='l2', random_state=0, solver='liblinear', tol=0.0001,\n",
       "           verbose=0, warm_start=False)]]),\n",
       " 'pipeline-2': Pipeline(steps=[['sc', StandardScaler(copy=True, with_mean=True, with_std=True)], ['clf', KNeighborsClassifier(algorithm='auto', leaf_size=30, metric='minkowski',\n",
       "            metric_params=None, n_jobs=1, n_neighbors=1, p=2,\n",
       "            weights='uniform')]])}"
      ]
     },
     "execution_count": 7,
     "metadata": {},
     "output_type": "execute_result"
    }
   ],
   "source": [
    "from sklearn.pipeline import _name_estimators # generate names for estimators \n",
    "classifiers = [ pipe1, clf2, pipe3 ]\n",
    "named_classifiers = { key : value for key, value in _name_estimators( classifiers ) }\n",
    "named_classifiers"
   ]
  },
  {
   "cell_type": "markdown",
   "metadata": {},
   "source": [
    "### python's exception. Raise a value error.\n",
    "\n",
    "Side note on the difference between str and repr in python. https://www.youtube.com/watch?v=5cvM-crlDvg.\n",
    "str is meant to be readable to the users, while repre is meant to be unambiguous ( easier to debug, since it's kind of like showing you the functional call that creates the variable ).   \n",
    "`%r` represents the object as repr."
   ]
  },
  {
   "cell_type": "code",
   "execution_count": 8,
   "metadata": {
    "collapsed": false
   },
   "outputs": [
    {
     "ename": "ValueError",
     "evalue": "vote must be 'probability' or 'classlabel'; got (1)",
     "output_type": "error",
     "traceback": [
      "\u001b[0;31m---------------------------------------------------------------------------\u001b[0m",
      "\u001b[0;31mValueError\u001b[0m                                Traceback (most recent call last)",
      "\u001b[0;32m<ipython-input-8-e9cd48f6005e>\u001b[0m in \u001b[0;36m<module>\u001b[0;34m()\u001b[0m\n\u001b[1;32m      2\u001b[0m \u001b[0;32mif\u001b[0m \u001b[0mvote\u001b[0m \u001b[0;32mnot\u001b[0m \u001b[0;32min\u001b[0m \u001b[0;34m(\u001b[0m\u001b[0;34m'probability'\u001b[0m\u001b[0;34m,\u001b[0m \u001b[0;34m'classlabel'\u001b[0m\u001b[0;34m)\u001b[0m \u001b[0;34m:\u001b[0m\u001b[0;34m\u001b[0m\u001b[0m\n\u001b[1;32m      3\u001b[0m     raise ValueError( \"vote must be 'probability' or 'classlabel'\"\n\u001b[0;32m----> 4\u001b[0;31m                       \"; got (%r)\" % vote )\n\u001b[0m",
      "\u001b[0;31mValueError\u001b[0m: vote must be 'probability' or 'classlabel'; got (1)"
     ]
    }
   ],
   "source": [
    "vote = 1\n",
    "if vote not in ('probability', 'classlabel') :\n",
    "    raise ValueError( \"vote must be 'probability' or 'classlabel'\"\n",
    "                      \"; got (%r)\" % vote )"
   ]
  },
  {
   "cell_type": "markdown",
   "metadata": {},
   "source": [
    "Loop through all the classfiers and fit all the models."
   ]
  },
  {
   "cell_type": "code",
   "execution_count": 9,
   "metadata": {
    "collapsed": false
   },
   "outputs": [],
   "source": [
    "from sklearn.base import clone\n",
    "lablenc_ = LabelEncoder()\n",
    "lablenc_.fit(y)\n",
    "classes_ = lablenc_.classes_ # obtains the class for the labelEncoder\n",
    "classifiers_ = []\n",
    "for clf in classifiers:\n",
    "    fitted_clf = clone(clf).fit( X, lablenc_.transform(y) )\n",
    "    classifiers_.append(fitted_clf)"
   ]
  },
  {
   "cell_type": "markdown",
   "metadata": {},
   "source": [
    "Code when you only want to obtain the final ensembled-class."
   ]
  },
  {
   "cell_type": "code",
   "execution_count": 10,
   "metadata": {
    "collapsed": false
   },
   "outputs": [
    {
     "data": {
      "text/plain": [
       "array([0, 0, 1, 0, 0, 0, 0, 0, 0, 0, 0, 0, 0, 0, 0, 0, 0, 0, 0, 0, 1, 0, 0,\n",
       "       0, 0, 0, 0, 1, 0, 0, 0, 0, 0, 1, 0, 0, 0, 0, 0, 0, 0, 0, 0, 0, 0, 0,\n",
       "       0, 0, 0, 0, 1, 1, 1, 1, 1, 1, 0, 1, 1, 1, 1, 1, 1, 1, 1, 1, 1, 1, 1,\n",
       "       1, 1, 1, 1, 1, 1, 1, 0, 1, 1, 1, 1, 1, 1, 1, 1, 1, 1, 1, 1, 1, 1, 1,\n",
       "       1, 1, 1, 1, 1, 1, 1, 1])"
      ]
     },
     "execution_count": 10,
     "metadata": {},
     "output_type": "execute_result"
    }
   ],
   "source": [
    "predictions = np.asarray([ clf.predict(X) for clf in classifiers_ ]).T\n",
    "# give a function to apply along the specified axis of the array\n",
    "maj_vote = np.apply_along_axis( lambda x:\n",
    "                                np.argmax( np.bincount( x, weights = None ) ),\n",
    "                                axis = 1,\n",
    "                                arr = predictions )\n",
    "maj_vote = lablenc_.inverse_transform(maj_vote)\n",
    "maj_vote"
   ]
  },
  {
   "cell_type": "markdown",
   "metadata": {
    "collapsed": false
   },
   "source": [
    "Code when you wish to obtain the predicted probability for the final class."
   ]
  },
  {
   "cell_type": "code",
   "execution_count": 11,
   "metadata": {
    "collapsed": false
   },
   "outputs": [
    {
     "data": {
      "text/plain": [
       "array([[ 0.5000001,  0.4999999],\n",
       "       [ 0.5      ,  0.5      ],\n",
       "       [ 0.53     ,  0.47     ]])"
      ]
     },
     "execution_count": 11,
     "metadata": {},
     "output_type": "execute_result"
    }
   ],
   "source": [
    "probas = np.asarray( [ clf.predict_proba(X) for clf in classifiers_ ] )\n",
    "avg_proba = np.average( probas, axis = 1, weights = None )\n",
    "avg_proba"
   ]
  },
  {
   "cell_type": "markdown",
   "metadata": {},
   "source": [
    "You can then use the argmax to obtain the largest class ( the column with the highest probability )."
   ]
  },
  {
   "cell_type": "code",
   "execution_count": 12,
   "metadata": {
    "collapsed": false
   },
   "outputs": [
    {
     "data": {
      "text/plain": [
       "array([0, 1, 0])"
      ]
     },
     "execution_count": 12,
     "metadata": {},
     "output_type": "execute_result"
    }
   ],
   "source": [
    "np.argmax( avg_proba, axis = 1 )"
   ]
  },
  {
   "cell_type": "markdown",
   "metadata": {},
   "source": [
    "## Using the Majority Voter\n",
    "\n",
    "[Algorithm](https://github.com/ethen8181/programming/blob/master/python_machine_learning/chapter7/chapter7.py)."
   ]
  },
  {
   "cell_type": "code",
   "execution_count": 13,
   "metadata": {
    "collapsed": true
   },
   "outputs": [],
   "source": [
    "import chapter7 as ch7"
   ]
  },
  {
   "cell_type": "code",
   "execution_count": 14,
   "metadata": {
    "collapsed": false
   },
   "outputs": [
    {
     "data": {
      "text/plain": [
       "['Logistic Regression', 'Decision Tree', 'KNN', 'Majority Voting']"
      ]
     },
     "execution_count": 14,
     "metadata": {},
     "output_type": "execute_result"
    }
   ],
   "source": [
    "clf_labels += ['Majority Voting']\n",
    "clf_labels "
   ]
  },
  {
   "cell_type": "code",
   "execution_count": 15,
   "metadata": {
    "collapsed": false
   },
   "outputs": [
    {
     "name": "stdout",
     "output_type": "stream",
     "text": [
      "ROC AUC: 0.92 (+/- 0.20) [Logistic Regression]\n",
      "ROC AUC: 0.92 (+/- 0.15) [Decision Tree]\n",
      "ROC AUC: 0.93 (+/- 0.10) [KNN]\n",
      "ROC AUC: 0.97 (+/- 0.10) [Majority Voting]\n"
     ]
    }
   ],
   "source": [
    "mv_clf  = ch7.MajorityVoteClassifier( classifier = [ pipe1, clf2, pipe3 ] )\n",
    "all_clf = [ pipe1, clf2, pipe3, mv_clf ]\n",
    "\n",
    "for clf, label in zip( all_clf, clf_labels ):\n",
    "    scores = cross_val_score( estimator = clf,\n",
    "                              X = X_train, \n",
    "                              y = y_train, \n",
    "                              cv = 10,\n",
    "                              scoring = 'roc_auc' )\n",
    "    print( \"ROC AUC: %0.2f (+/- %0.2f) [%s]\" \n",
    "           % ( scores.mean(), scores.std(), label ) ) "
   ]
  },
  {
   "cell_type": "markdown",
   "metadata": {},
   "source": [
    "The cross validation results showed that the performance has substantially improved over the individual classifiers in the evaluation."
   ]
  },
  {
   "cell_type": "markdown",
   "metadata": {},
   "source": [
    "## Evaluating the Classifiers\n",
    "\n",
    "Compute the roc curves from the test set to check if the MajorityVoteClassifier generalizes the test set. Note that the test set should only be used to report an unbiased estimate of the classifier."
   ]
  },
  {
   "cell_type": "code",
   "execution_count": 16,
   "metadata": {
    "collapsed": true
   },
   "outputs": [],
   "source": [
    "from sklearn.metrics import roc_curve\n",
    "from sklearn.metrics import auc\n",
    "import matplotlib.pyplot as plt\n",
    "%matplotlib inline"
   ]
  },
  {
   "cell_type": "code",
   "execution_count": 17,
   "metadata": {
    "collapsed": false,
    "scrolled": true
   },
   "outputs": [
    {
     "data": {
      "image/png": "[encoded data removed]",
      "text/plain": [
       "<matplotlib.figure.Figure at 0x10fb1dbd0>"
      ]
     },
     "metadata": {},
     "output_type": "display_data"
    }
   ],
   "source": [
    "colors = ['black', 'orange', 'blue', 'green']\n",
    "linestyles = [':', '--', '-.', '-']\n",
    "\n",
    "for clf, label, clr, ls in zip( all_clf, clf_labels, colors, linestyles ):\n",
    "    # assuming the label of the positive class is 1\n",
    "    y_pred = clf.fit( X_train, y_train ).predict_proba(X_test)[:, 1]\n",
    "    fpr, tpr, thresholds = roc_curve( y_true = y_test, y_score = y_pred )\n",
    "    roc_auc = auc( x = fpr, y = tpr )\n",
    "    plt.plot( fpr, tpr, \n",
    "              color = clr, \n",
    "              linestyle = ls, \n",
    "              label = '%s (auc = %0.2f)' % ( label, roc_auc ) )\n",
    "\n",
    "plt.legend( loc = 'lower right' )\n",
    "plt.plot( [0, 1], [0, 1], \n",
    "          linestyle = '--', \n",
    "          color = 'gray', \n",
    "          linewidth = 2 )\n",
    "\n",
    "plt.xlim( [ -0.1, 1.1 ] )\n",
    "plt.ylim( [ -0.1, 1.1 ] )\n",
    "plt.grid()\n",
    "plt.xlabel('False Positive Rate')\n",
    "plt.ylabel('True Positive Rate')\n",
    "plt.show()"
   ]
  },
  {
   "cell_type": "markdown",
   "metadata": {},
   "source": [
    "## sklearn's Majority Voter"
   ]
  },
  {
   "cell_type": "code",
   "execution_count": 18,
   "metadata": {
    "collapsed": false
   },
   "outputs": [
    {
     "data": {
      "text/plain": [
       "VotingClassifier(estimators=[('lr', Pipeline(steps=[['sc', StandardScaler(copy=True, with_mean=True, with_std=True)], ['clf', LogisticRegression(C=0.001, class_weight=None, dual=False, fit_intercept=True,\n",
       "          intercept_scaling=1, max_iter=100, multi_class='ovr', n_jobs=1,\n",
       "          penalty='l2', random_state=0...ki',\n",
       "           metric_params=None, n_jobs=1, n_neighbors=1, p=2,\n",
       "           weights='uniform')]]))],\n",
       "         voting='soft', weights=None)"
      ]
     },
     "execution_count": 18,
     "metadata": {},
     "output_type": "execute_result"
    }
   ],
   "source": [
    "from sklearn.ensemble import VotingClassifier\n",
    "clf_vc = VotingClassifier( estimators = [ ( 'lr', pipe1 ), ( 'dt', clf2 ), ( 'knn', pipe3 ) ], \n",
    "                           voting = 'soft' )\n",
    "clf_vc.fit( X_train, y_train )"
   ]
  },
  {
   "cell_type": "code",
   "execution_count": 19,
   "metadata": {
    "collapsed": false
   },
   "outputs": [
    {
     "data": {
      "text/plain": [
       "{'dt': DecisionTreeClassifier(class_weight=None, criterion='entropy', max_depth=1,\n",
       "             max_features=None, max_leaf_nodes=None, min_samples_leaf=1,\n",
       "             min_samples_split=2, min_weight_fraction_leaf=0.0,\n",
       "             presort=False, random_state=0, splitter='best'),\n",
       " 'dt__class_weight': None,\n",
       " 'dt__criterion': 'entropy',\n",
       " 'dt__max_depth': 1,\n",
       " 'dt__max_features': None,\n",
       " 'dt__max_leaf_nodes': None,\n",
       " 'dt__min_samples_leaf': 1,\n",
       " 'dt__min_samples_split': 2,\n",
       " 'dt__min_weight_fraction_leaf': 0.0,\n",
       " 'dt__presort': False,\n",
       " 'dt__random_state': 0,\n",
       " 'dt__splitter': 'best',\n",
       " 'estimators': [('lr',\n",
       "   Pipeline(steps=[['sc', StandardScaler(copy=True, with_mean=True, with_std=True)], ['clf', LogisticRegression(C=0.001, class_weight=None, dual=False, fit_intercept=True,\n",
       "             intercept_scaling=1, max_iter=100, multi_class='ovr', n_jobs=1,\n",
       "             penalty='l2', random_state=0, solver='liblinear', tol=0.0001,\n",
       "             verbose=0, warm_start=False)]])),\n",
       "  ('dt',\n",
       "   DecisionTreeClassifier(class_weight=None, criterion='entropy', max_depth=1,\n",
       "               max_features=None, max_leaf_nodes=None, min_samples_leaf=1,\n",
       "               min_samples_split=2, min_weight_fraction_leaf=0.0,\n",
       "               presort=False, random_state=0, splitter='best')),\n",
       "  ('knn',\n",
       "   Pipeline(steps=[['sc', StandardScaler(copy=True, with_mean=True, with_std=True)], ['clf', KNeighborsClassifier(algorithm='auto', leaf_size=30, metric='minkowski',\n",
       "              metric_params=None, n_jobs=1, n_neighbors=1, p=2,\n",
       "              weights='uniform')]]))],\n",
       " 'knn': Pipeline(steps=[['sc', StandardScaler(copy=True, with_mean=True, with_std=True)], ['clf', KNeighborsClassifier(algorithm='auto', leaf_size=30, metric='minkowski',\n",
       "            metric_params=None, n_jobs=1, n_neighbors=1, p=2,\n",
       "            weights='uniform')]]),\n",
       " 'knn__clf': KNeighborsClassifier(algorithm='auto', leaf_size=30, metric='minkowski',\n",
       "            metric_params=None, n_jobs=1, n_neighbors=1, p=2,\n",
       "            weights='uniform'),\n",
       " 'knn__clf__algorithm': 'auto',\n",
       " 'knn__clf__leaf_size': 30,\n",
       " 'knn__clf__metric': 'minkowski',\n",
       " 'knn__clf__metric_params': None,\n",
       " 'knn__clf__n_jobs': 1,\n",
       " 'knn__clf__n_neighbors': 1,\n",
       " 'knn__clf__p': 2,\n",
       " 'knn__clf__weights': 'uniform',\n",
       " 'knn__sc': StandardScaler(copy=True, with_mean=True, with_std=True),\n",
       " 'knn__sc__copy': True,\n",
       " 'knn__sc__with_mean': True,\n",
       " 'knn__sc__with_std': True,\n",
       " 'knn__steps': [['sc',\n",
       "   StandardScaler(copy=True, with_mean=True, with_std=True)],\n",
       "  ['clf',\n",
       "   KNeighborsClassifier(algorithm='auto', leaf_size=30, metric='minkowski',\n",
       "              metric_params=None, n_jobs=1, n_neighbors=1, p=2,\n",
       "              weights='uniform')]],\n",
       " 'lr': Pipeline(steps=[['sc', StandardScaler(copy=True, with_mean=True, with_std=True)], ['clf', LogisticRegression(C=0.001, class_weight=None, dual=False, fit_intercept=True,\n",
       "           intercept_scaling=1, max_iter=100, multi_class='ovr', n_jobs=1,\n",
       "           penalty='l2', random_state=0, solver='liblinear', tol=0.0001,\n",
       "           verbose=0, warm_start=False)]]),\n",
       " 'lr__clf': LogisticRegression(C=0.001, class_weight=None, dual=False, fit_intercept=True,\n",
       "           intercept_scaling=1, max_iter=100, multi_class='ovr', n_jobs=1,\n",
       "           penalty='l2', random_state=0, solver='liblinear', tol=0.0001,\n",
       "           verbose=0, warm_start=False),\n",
       " 'lr__clf__C': 0.001,\n",
       " 'lr__clf__class_weight': None,\n",
       " 'lr__clf__dual': False,\n",
       " 'lr__clf__fit_intercept': True,\n",
       " 'lr__clf__intercept_scaling': 1,\n",
       " 'lr__clf__max_iter': 100,\n",
       " 'lr__clf__multi_class': 'ovr',\n",
       " 'lr__clf__n_jobs': 1,\n",
       " 'lr__clf__penalty': 'l2',\n",
       " 'lr__clf__random_state': 0,\n",
       " 'lr__clf__solver': 'liblinear',\n",
       " 'lr__clf__tol': 0.0001,\n",
       " 'lr__clf__verbose': 0,\n",
       " 'lr__clf__warm_start': False,\n",
       " 'lr__sc': StandardScaler(copy=True, with_mean=True, with_std=True),\n",
       " 'lr__sc__copy': True,\n",
       " 'lr__sc__with_mean': True,\n",
       " 'lr__sc__with_std': True,\n",
       " 'lr__steps': [['sc',\n",
       "   StandardScaler(copy=True, with_mean=True, with_std=True)],\n",
       "  ['clf',\n",
       "   LogisticRegression(C=0.001, class_weight=None, dual=False, fit_intercept=True,\n",
       "             intercept_scaling=1, max_iter=100, multi_class='ovr', n_jobs=1,\n",
       "             penalty='l2', random_state=0, solver='liblinear', tol=0.0001,\n",
       "             verbose=0, warm_start=False)]],\n",
       " 'voting': 'soft',\n",
       " 'weights': None}"
      ]
     },
     "execution_count": 19,
     "metadata": {},
     "output_type": "execute_result"
    }
   ],
   "source": [
    "# obtain the parameters name to specify in the grid search\n",
    "clf_vc.get_params()"
   ]
  },
  {
   "cell_type": "markdown",
   "metadata": {},
   "source": [
    "We can also use it with grid search to obtain the best set of hyperparameters."
   ]
  },
  {
   "cell_type": "code",
   "execution_count": 20,
   "metadata": {
    "collapsed": false
   },
   "outputs": [
    {
     "name": "stdout",
     "output_type": "stream",
     "text": [
      "0.967+/-0.05 {'lr__clf__C': 0.001, 'dt__max_depth': 1}\n",
      "0.967+/-0.05 {'lr__clf__C': 0.1, 'dt__max_depth': 1}\n",
      "1.000+/-0.00 {'lr__clf__C': 100.0, 'dt__max_depth': 1}\n",
      "0.967+/-0.05 {'lr__clf__C': 0.001, 'dt__max_depth': 2}\n",
      "0.967+/-0.05 {'lr__clf__C': 0.1, 'dt__max_depth': 2}\n",
      "1.000+/-0.00 {'lr__clf__C': 100.0, 'dt__max_depth': 2}\n"
     ]
    }
   ],
   "source": [
    "from sklearn.grid_search import GridSearchCV\n",
    "\n",
    "params = { 'dt__max_depth': [1, 2],\n",
    "           'lr__clf__C': [0.001, 0.1, 100.0] }\n",
    "\n",
    "grid = GridSearchCV( estimator = clf_vc, \n",
    "                     param_grid = params, \n",
    "                     cv = 10, scoring = 'roc_auc' )\n",
    "grid.fit( X_train, y_train )\n",
    "\n",
    "for params, mean_score, scores in grid.grid_scores_:\n",
    "    print( \"%0.3f+/-%0.2f %r\"\n",
    "           % ( mean_score, scores.std() / 2, params ) ) "
   ]
  },
  {
   "cell_type": "code",
   "execution_count": 21,
   "metadata": {
    "collapsed": false
   },
   "outputs": [
    {
     "name": "stdout",
     "output_type": "stream",
     "text": [
      "Best parameters: {'lr__clf__C': 100.0, 'dt__max_depth': 1}\n",
      "Accuracy: 1.00\n"
     ]
    }
   ],
   "source": [
    "print( 'Best parameters: %s' % grid.best_params_ )\n",
    "print( 'Accuracy: %.2f' % grid.best_score_ )"
   ]
  }
 ],
 "metadata": {
  "kernelspec": {
   "display_name": "Python 2",
   "language": "python",
   "name": "python2"
  },
  "language_info": {
   "codemirror_mode": {
    "name": "ipython",
    "version": 2
   },
   "file_extension": ".py",
   "mimetype": "text/x-python",
   "name": "python",
   "nbconvert_exporter": "python",
   "pygments_lexer": "ipython2",
   "version": "2.7.10"
  }
 },
 "nbformat": 4,
 "nbformat_minor": 0
}
