{
 "cells": [
  {
   "cell_type": "markdown",
   "metadata": {},
   "source": [
    "# Trying sklearn"
   ]
  },
  {
   "cell_type": "code",
   "execution_count": 1,
   "metadata": {
    "collapsed": false
   },
   "outputs": [],
   "source": [
    "%matplotlib inline\n",
    "import matplotlib.pyplot as plt\n",
    "import numpy as np\n",
    "from sklearn import datasets\n",
    "from sklearn.cross_validation import train_test_split\n",
    "from sklearn.preprocessing import StandardScaler\n",
    "from sklearn.linear_model import Perceptron\n",
    "from sklearn.linear_model import LogisticRegression\n",
    "from sklearn.linear_model import SGDClassifier\n",
    "from sklearn.neighbors import KNeighborsClassifier\n",
    "from sklearn.tree import DecisionTreeClassifier\n",
    "from sklearn.ensemble import RandomForestClassifier\n",
    "from sklearn.svm import SVC\n",
    "from sklearn.metrics import accuracy_score"
   ]
  },
  {
   "cell_type": "markdown",
   "metadata": {},
   "source": [
    "load the iris datset, the target is already stored as integers"
   ]
  },
  {
   "cell_type": "code",
   "execution_count": 2,
   "metadata": {
    "collapsed": false
   },
   "outputs": [
    {
     "data": {
      "text/plain": [
       "array([0, 1, 2])"
      ]
     },
     "execution_count": 2,
     "metadata": {},
     "output_type": "execute_result"
    }
   ],
   "source": [
    "iris = datasets.load_iris()\n",
    "x = iris.data[ :, [ 2, 3 ] ]\n",
    "y = iris.target\n",
    "np.unique(y)"
   ]
  },
  {
   "cell_type": "markdown",
   "metadata": {},
   "source": [
    "`train_test_split` Split the dataset into 70 percent training and 30 percent testing "
   ]
  },
  {
   "cell_type": "code",
   "execution_count": 3,
   "metadata": {
    "collapsed": true
   },
   "outputs": [],
   "source": [
    "x_train, x_test, y_train, y_test = train_test_split( x, y, test_size = 0.3, random_state = 0 )"
   ]
  },
  {
   "cell_type": "markdown",
   "metadata": {},
   "source": [
    "`StandardScaler` use .fit and .transform the perform the feature scaling"
   ]
  },
  {
   "cell_type": "code",
   "execution_count": 4,
   "metadata": {
    "collapsed": false
   },
   "outputs": [],
   "source": [
    "sc = StandardScaler()\n",
    "sc.fit(x_train)\n",
    "x_train_sd = sc.transform(x_train)\n",
    "x_test_sd  = sc.transform(x_test)"
   ]
  },
  {
   "cell_type": "markdown",
   "metadata": {},
   "source": [
    "Using sklearn's Perceptron API.\n",
    "\n",
    "- .fit( dataset, target )\n",
    "- .predict( dataset ), returns in np.array format"
   ]
  },
  {
   "cell_type": "code",
   "execution_count": 5,
   "metadata": {
    "collapsed": false
   },
   "outputs": [
    {
     "name": "stdout",
     "output_type": "stream",
     "text": [
      "Missclassfied samples 4\n",
      "Accuracy 0.91\n"
     ]
    }
   ],
   "source": [
    "ppn = Perceptron( n_iter = 40, eta0 = 0.1, random_state = 0 )\n",
    "ppn.fit( x_train_sd, y_train )\n",
    "y_pred = ppn.predict( x_test_sd )\n",
    "print ( \"Missclassfied samples %d\" % ( y_test != y_pred ).sum() )\n",
    "print ( \"Accuracy %.2f\" % accuracy_score( y_test, y_pred ) )"
   ]
  },
  {
   "cell_type": "markdown",
   "metadata": {},
   "source": [
    "## Logistic Regression\n",
    "\n",
    "Sigmoid function. Takes real number values as input and transform them into values in the range [ 0 , 1 ]"
   ]
  },
  {
   "cell_type": "code",
   "execution_count": 6,
   "metadata": {
    "collapsed": false
   },
   "outputs": [
    {
     "data": {
      "image/png": "[encoded data removed]",
      "text/plain": [
       "<matplotlib.figure.Figure at 0x11082a050>"
      ]
     },
     "metadata": {},
     "output_type": "display_data"
    }
   ],
   "source": [
    "def sigmoid(z) :\n",
    "    return 1.0 / ( 1.0 + np.exp(-z) )\n",
    "z = np.arange( -7 , 7, 0.1 )\n",
    "phi_z = sigmoid(z)\n",
    "\n",
    "plt.plot( z, phi_z )\n",
    "plt.yticks( [ 0.0, 0.5, 1.0 ] )\n",
    "plt.ylim( -0.1, 1.1 )\n",
    "plt.xlabel( \"z\" )\n",
    "plt.ylabel( \"$\\phi(z)$\" )\n",
    "plt.show()"
   ]
  },
  {
   "cell_type": "markdown",
   "metadata": {},
   "source": [
    "fit a logistic regression and predict the class's probability via `predict_proba`. Print out the probability of the first observation belonging to each class."
   ]
  },
  {
   "cell_type": "code",
   "execution_count": 7,
   "metadata": {
    "collapsed": false
   },
   "outputs": [
    {
     "data": {
      "text/plain": [
       "array([  6.08753106e-04,   9.99285569e-01,   1.05678028e-04])"
      ]
     },
     "execution_count": 7,
     "metadata": {},
     "output_type": "execute_result"
    }
   ],
   "source": [
    "lr = LogisticRegression( C = 1000.0, random_state = 0 )\n",
    "lr.fit( x_train_sd, y_train )\n",
    "pred_lr = lr.predict_proba( x_test_sd )\n",
    "pred_lr[1]"
   ]
  },
  {
   "cell_type": "markdown",
   "metadata": {},
   "source": [
    "\n",
    "The concept for the parameter C. It's the inverse of regularization, so the smaller it is, the larger you penalize the model for getting too complex.\n",
    "\n",
    "- `Variance` Measures the consistency of the model. e.g. A **high variance** means that model is too complex and does not generalize well to unseen data\n",
    "- `Bias` Measures the systematic error that's not due to randomness. e.g. A **high bias** means that the model is underfitting. Meaning that the model is not complex enough to capture the pattern in the training data"
   ]
  },
  {
   "cell_type": "markdown",
   "metadata": {},
   "source": [
    "## Support Vector Machine\n",
    "\n",
    "Use `SGDClassifier` for online learning, which scales better with large dataset."
   ]
  },
  {
   "cell_type": "code",
   "execution_count": 8,
   "metadata": {
    "collapsed": false
   },
   "outputs": [
    {
     "data": {
      "text/plain": [
       "SVC(C=1.0, cache_size=200, class_weight=None, coef0=0.0,\n",
       "  decision_function_shape=None, degree=3, gamma='auto', kernel='linear',\n",
       "  max_iter=-1, probability=False, random_state=0, shrinking=True,\n",
       "  tol=0.001, verbose=False)"
      ]
     },
     "execution_count": 8,
     "metadata": {},
     "output_type": "execute_result"
    }
   ],
   "source": [
    "svm1 = SVC( kernel = \"linear\", C = 1.0, random_state = 0 )\n",
    "svm2 = SGDClassifier( loss = \"hinge\" ) # loss = \"log\" for logistic regression\n",
    "svm1.fit( x_train_sd, y_train )"
   ]
  },
  {
   "cell_type": "markdown",
   "metadata": {},
   "source": [
    "Using Radial kernel ( there're other types, but this one is the most commonly used ) to solve non-linear classification problem.\n",
    "\n",
    "[Link](https://www.quora.com/What-are-C-and-gamma-with-regards-to-a-support-vector-machine) to a few slightly *more* detailed explanation regarding the parameter gamma and C on Quora.\n",
    "\n",
    "- `C` : A large C gives you low bias and high variance, since the model model will aim to classify all the data points correctly, thus have the higher risk of overfitting the training data.\n",
    "- `gamma` The parameter that controls the radial kernel. A small value will give a softer decision boundary."
   ]
  },
  {
   "cell_type": "code",
   "execution_count": 9,
   "metadata": {
    "collapsed": false
   },
   "outputs": [
    {
     "data": {
      "text/plain": [
       "SVC(C=10.0, cache_size=200, class_weight=None, coef0=0.0,\n",
       "  decision_function_shape=None, degree=3, gamma=0.1, kernel='rbf',\n",
       "  max_iter=-1, probability=False, random_state=0, shrinking=True,\n",
       "  tol=0.001, verbose=False)"
      ]
     },
     "execution_count": 9,
     "metadata": {},
     "output_type": "execute_result"
    }
   ],
   "source": [
    "svm = SVC( kernel = \"rbf\", random_state = 0, gamma = 0.1, C = 10.0 )\n",
    "svm.fit( x_train_sd, y_train )"
   ]
  },
  {
   "cell_type": "markdown",
   "metadata": {},
   "source": [
    "## Decision Tree\n",
    "\n",
    "Note that Although feature scaling may be desired for visualization and model comparision purposes. Feature scaling is not a requirement for tree-type algorithms."
   ]
  },
  {
   "cell_type": "code",
   "execution_count": 10,
   "metadata": {
    "collapsed": false
   },
   "outputs": [
    {
     "data": {
      "text/plain": [
       "DecisionTreeClassifier(class_weight=None, criterion='entropy', max_depth=3,\n",
       "            max_features=None, max_leaf_nodes=None, min_samples_leaf=1,\n",
       "            min_samples_split=2, min_weight_fraction_leaf=0.0,\n",
       "            presort=False, random_state=0, splitter='best')"
      ]
     },
     "execution_count": 10,
     "metadata": {},
     "output_type": "execute_result"
    }
   ],
   "source": [
    "tree = DecisionTreeClassifier( criterion = \"entropy\", max_depth = 3, random_state = 0 )\n",
    "tree.fit(  x_train, y_train )"
   ]
  },
  {
   "cell_type": "code",
   "execution_count": 11,
   "metadata": {
    "collapsed": false
   },
   "outputs": [
    {
     "data": {
      "text/plain": [
       "RandomForestClassifier(bootstrap=True, class_weight=None, criterion='entropy',\n",
       "            max_depth=None, max_features='auto', max_leaf_nodes=None,\n",
       "            min_samples_leaf=1, min_samples_split=2,\n",
       "            min_weight_fraction_leaf=0.0, n_estimators=10, n_jobs=2,\n",
       "            oob_score=False, random_state=1, verbose=0, warm_start=False)"
      ]
     },
     "execution_count": 11,
     "metadata": {},
     "output_type": "execute_result"
    }
   ],
   "source": [
    "# @n_jobs = parallelize the model training using multiple cores\n",
    "forest = RandomForestClassifier( criterion = \"entropy\", n_estimators = 10, random_state = 1, n_jobs = 2 )\n",
    "forest.fit( x_train, y_train )"
   ]
  },
  {
   "cell_type": "markdown",
   "metadata": {},
   "source": [
    "## K-nearest neighbors\n",
    "\n",
    "The algorithm is very susceptible to the *curse of dimensionality*. Meaning that due to the high dimensionality, even the closest neighbors become too far away to give a good estimate."
   ]
  },
  {
   "cell_type": "code",
   "execution_count": 12,
   "metadata": {
    "collapsed": false
   },
   "outputs": [
    {
     "data": {
      "text/plain": [
       "KNeighborsClassifier(algorithm='auto', leaf_size=30, metric='minkowski',\n",
       "           metric_params=None, n_jobs=1, n_neighbors=5, p=2,\n",
       "           weights='uniform')"
      ]
     },
     "execution_count": 12,
     "metadata": {},
     "output_type": "execute_result"
    }
   ],
   "source": [
    "knn = KNeighborsClassifier( n_neighbors = 5 ) \n",
    "knn.fit( x_train_sd, y_train )"
   ]
  }
 ],
 "metadata": {
  "kernelspec": {
   "display_name": "Python 2",
   "language": "python",
   "name": "python2"
  },
  "language_info": {
   "codemirror_mode": {
    "name": "ipython",
    "version": 2
   },
   "file_extension": ".py",
   "mimetype": "text/x-python",
   "name": "python",
   "nbconvert_exporter": "python",
   "pygments_lexer": "ipython2",
   "version": "2.7.10"
  }
 },
 "nbformat": 4,
 "nbformat_minor": 0
}
