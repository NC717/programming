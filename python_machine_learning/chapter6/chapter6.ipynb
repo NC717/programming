{
 "cells": [
  {
   "cell_type": "markdown",
   "metadata": {},
   "source": [
    "# Model Evaluation and Hyperparameter Tuning"
   ]
  },
  {
   "cell_type": "code",
   "execution_count": 1,
   "metadata": {
    "collapsed": true
   },
   "outputs": [],
   "source": [
    "import numpy as np\n",
    "import pandas as pd\n",
    "from sklearn.pipeline import Pipeline\n",
    "from sklearn.decomposition import PCA\n",
    "from sklearn.preprocessing import LabelEncoder\n",
    "from sklearn.preprocessing import StandardScaler\n",
    "from sklearn.linear_model import LogisticRegression\n",
    "from sklearn.cross_validation import train_test_split"
   ]
  },
  {
   "cell_type": "markdown",
   "metadata": {},
   "source": [
    "The first two column of the dataset stores the unique ID numbers of the samples of the corresponding diagnosis ( M = malignant, B = benign ). This is a task to predict whether a tumor is benign or malignant."
   ]
  },
  {
   "cell_type": "code",
   "execution_count": 2,
   "metadata": {
    "collapsed": false
   },
   "outputs": [
    {
     "data": {
      "text/html": [
       "<div>\n",
       "<table border=\"1\" class=\"dataframe\">\n",
       "  <thead>\n",
       "    <tr style=\"text-align: right;\">\n",
       "      <th></th>\n",
       "      <th>0</th>\n",
       "      <th>1</th>\n",
       "      <th>2</th>\n",
       "      <th>3</th>\n",
       "      <th>4</th>\n",
       "      <th>5</th>\n",
       "      <th>6</th>\n",
       "      <th>7</th>\n",
       "      <th>8</th>\n",
       "      <th>9</th>\n",
       "      <th>...</th>\n",
       "      <th>22</th>\n",
       "      <th>23</th>\n",
       "      <th>24</th>\n",
       "      <th>25</th>\n",
       "      <th>26</th>\n",
       "      <th>27</th>\n",
       "      <th>28</th>\n",
       "      <th>29</th>\n",
       "      <th>30</th>\n",
       "      <th>31</th>\n",
       "    </tr>\n",
       "  </thead>\n",
       "  <tbody>\n",
       "    <tr>\n",
       "      <th>0</th>\n",
       "      <td>842302</td>\n",
       "      <td>M</td>\n",
       "      <td>17.99</td>\n",
       "      <td>10.38</td>\n",
       "      <td>122.80</td>\n",
       "      <td>1001.0</td>\n",
       "      <td>0.11840</td>\n",
       "      <td>0.27760</td>\n",
       "      <td>0.3001</td>\n",
       "      <td>0.14710</td>\n",
       "      <td>...</td>\n",
       "      <td>25.38</td>\n",
       "      <td>17.33</td>\n",
       "      <td>184.60</td>\n",
       "      <td>2019.0</td>\n",
       "      <td>0.1622</td>\n",
       "      <td>0.6656</td>\n",
       "      <td>0.7119</td>\n",
       "      <td>0.2654</td>\n",
       "      <td>0.4601</td>\n",
       "      <td>0.11890</td>\n",
       "    </tr>\n",
       "    <tr>\n",
       "      <th>1</th>\n",
       "      <td>842517</td>\n",
       "      <td>M</td>\n",
       "      <td>20.57</td>\n",
       "      <td>17.77</td>\n",
       "      <td>132.90</td>\n",
       "      <td>1326.0</td>\n",
       "      <td>0.08474</td>\n",
       "      <td>0.07864</td>\n",
       "      <td>0.0869</td>\n",
       "      <td>0.07017</td>\n",
       "      <td>...</td>\n",
       "      <td>24.99</td>\n",
       "      <td>23.41</td>\n",
       "      <td>158.80</td>\n",
       "      <td>1956.0</td>\n",
       "      <td>0.1238</td>\n",
       "      <td>0.1866</td>\n",
       "      <td>0.2416</td>\n",
       "      <td>0.1860</td>\n",
       "      <td>0.2750</td>\n",
       "      <td>0.08902</td>\n",
       "    </tr>\n",
       "    <tr>\n",
       "      <th>2</th>\n",
       "      <td>84300903</td>\n",
       "      <td>M</td>\n",
       "      <td>19.69</td>\n",
       "      <td>21.25</td>\n",
       "      <td>130.00</td>\n",
       "      <td>1203.0</td>\n",
       "      <td>0.10960</td>\n",
       "      <td>0.15990</td>\n",
       "      <td>0.1974</td>\n",
       "      <td>0.12790</td>\n",
       "      <td>...</td>\n",
       "      <td>23.57</td>\n",
       "      <td>25.53</td>\n",
       "      <td>152.50</td>\n",
       "      <td>1709.0</td>\n",
       "      <td>0.1444</td>\n",
       "      <td>0.4245</td>\n",
       "      <td>0.4504</td>\n",
       "      <td>0.2430</td>\n",
       "      <td>0.3613</td>\n",
       "      <td>0.08758</td>\n",
       "    </tr>\n",
       "    <tr>\n",
       "      <th>3</th>\n",
       "      <td>84348301</td>\n",
       "      <td>M</td>\n",
       "      <td>11.42</td>\n",
       "      <td>20.38</td>\n",
       "      <td>77.58</td>\n",
       "      <td>386.1</td>\n",
       "      <td>0.14250</td>\n",
       "      <td>0.28390</td>\n",
       "      <td>0.2414</td>\n",
       "      <td>0.10520</td>\n",
       "      <td>...</td>\n",
       "      <td>14.91</td>\n",
       "      <td>26.50</td>\n",
       "      <td>98.87</td>\n",
       "      <td>567.7</td>\n",
       "      <td>0.2098</td>\n",
       "      <td>0.8663</td>\n",
       "      <td>0.6869</td>\n",
       "      <td>0.2575</td>\n",
       "      <td>0.6638</td>\n",
       "      <td>0.17300</td>\n",
       "    </tr>\n",
       "    <tr>\n",
       "      <th>4</th>\n",
       "      <td>84358402</td>\n",
       "      <td>M</td>\n",
       "      <td>20.29</td>\n",
       "      <td>14.34</td>\n",
       "      <td>135.10</td>\n",
       "      <td>1297.0</td>\n",
       "      <td>0.10030</td>\n",
       "      <td>0.13280</td>\n",
       "      <td>0.1980</td>\n",
       "      <td>0.10430</td>\n",
       "      <td>...</td>\n",
       "      <td>22.54</td>\n",
       "      <td>16.67</td>\n",
       "      <td>152.20</td>\n",
       "      <td>1575.0</td>\n",
       "      <td>0.1374</td>\n",
       "      <td>0.2050</td>\n",
       "      <td>0.4000</td>\n",
       "      <td>0.1625</td>\n",
       "      <td>0.2364</td>\n",
       "      <td>0.07678</td>\n",
       "    </tr>\n",
       "  </tbody>\n",
       "</table>\n",
       "<p>5 rows × 32 columns</p>\n",
       "</div>"
      ],
      "text/plain": [
       "         0  1      2      3       4       5        6        7       8   \\\n",
       "0    842302  M  17.99  10.38  122.80  1001.0  0.11840  0.27760  0.3001   \n",
       "1    842517  M  20.57  17.77  132.90  1326.0  0.08474  0.07864  0.0869   \n",
       "2  84300903  M  19.69  21.25  130.00  1203.0  0.10960  0.15990  0.1974   \n",
       "3  84348301  M  11.42  20.38   77.58   386.1  0.14250  0.28390  0.2414   \n",
       "4  84358402  M  20.29  14.34  135.10  1297.0  0.10030  0.13280  0.1980   \n",
       "\n",
       "        9    ...        22     23      24      25      26      27      28  \\\n",
       "0  0.14710   ...     25.38  17.33  184.60  2019.0  0.1622  0.6656  0.7119   \n",
       "1  0.07017   ...     24.99  23.41  158.80  1956.0  0.1238  0.1866  0.2416   \n",
       "2  0.12790   ...     23.57  25.53  152.50  1709.0  0.1444  0.4245  0.4504   \n",
       "3  0.10520   ...     14.91  26.50   98.87   567.7  0.2098  0.8663  0.6869   \n",
       "4  0.10430   ...     22.54  16.67  152.20  1575.0  0.1374  0.2050  0.4000   \n",
       "\n",
       "       29      30       31  \n",
       "0  0.2654  0.4601  0.11890  \n",
       "1  0.1860  0.2750  0.08902  \n",
       "2  0.2430  0.3613  0.08758  \n",
       "3  0.2575  0.6638  0.17300  \n",
       "4  0.1625  0.2364  0.07678  \n",
       "\n",
       "[5 rows x 32 columns]"
      ]
     },
     "execution_count": 2,
     "metadata": {},
     "output_type": "execute_result"
    }
   ],
   "source": [
    "df = pd.read_csv( 'https://archive.ics.uci.edu/ml/machine-learning-databases/breast-cancer-wisconsin/wdbc.data', \n",
    "                  header = None )\n",
    "df.head()"
   ]
  },
  {
   "cell_type": "markdown",
   "metadata": {},
   "source": [
    "Extract the input and output features and label encode the output feature's class."
   ]
  },
  {
   "cell_type": "code",
   "execution_count": 3,
   "metadata": {
    "collapsed": true
   },
   "outputs": [],
   "source": [
    "x = df.iloc[ :, 2: ].values\n",
    "y = df.iloc[ :, 1 ].values\n",
    "le = LabelEncoder()\n",
    "y = le.fit_transform(y)"
   ]
  },
  {
   "cell_type": "markdown",
   "metadata": {},
   "source": [
    "Split the full dataset into 80 training / 20 testing."
   ]
  },
  {
   "cell_type": "code",
   "execution_count": 4,
   "metadata": {
    "collapsed": true
   },
   "outputs": [],
   "source": [
    "x_train, x_test, y_train, y_test = train_test_split( x, y, test_size = 0.20, random_state = 1 )"
   ]
  },
  {
   "cell_type": "markdown",
   "metadata": {},
   "source": [
    "## Pipeline\n",
    "\n",
    "Using the `Pipeline` functionality to fit a model containing arbitrary number of transformation steps. If we wish to standardize the columns; compress the dataset from the initial 30 dimension into only 2 dimension and train a logistic regression on it. We can do this via `Pipeline`.\n",
    "\n",
    "`Pipeline` takes a list of tuples as input. Where the first element of each tuple is a string identifier that we can later access and the second element in every tuple is a scikit-learn transformer or estimator."
   ]
  },
  {
   "cell_type": "code",
   "execution_count": 5,
   "metadata": {
    "collapsed": false
   },
   "outputs": [
    {
     "name": "stdout",
     "output_type": "stream",
     "text": [
      "Test Accuracy 0.947\n"
     ]
    }
   ],
   "source": [
    "# fit the pipeline and score on the test set\n",
    "pipe1 = Pipeline([\n",
    "    ( \"sc\", StandardScaler() ),\n",
    "    ( \"pca\", PCA( n_components = 2 ) ),\n",
    "    ( \"lr\", LogisticRegression( random_state = 1 ) )\n",
    "])\n",
    "pipe1.fit( x_train, y_train )\n",
    "print( \"Test Accuracy %.3f\" % pipe1.score( x_test, y_test ) )"
   ]
  },
  {
   "cell_type": "markdown",
   "metadata": {},
   "source": [
    "You can obtain the parameters of each step by calling `.get_params()`, which returns a dictionary of all the parameters for every transformers and estimators in the pipeline. Each parameters can be accessed via the transformers / estimators' string name that you gave plus `__` (two underscore)."
   ]
  },
  {
   "cell_type": "code",
   "execution_count": 6,
   "metadata": {
    "collapsed": false
   },
   "outputs": [
    {
     "data": {
      "text/plain": [
       "1.0"
      ]
     },
     "execution_count": 6,
     "metadata": {},
     "output_type": "execute_result"
    }
   ],
   "source": [
    "# e.g. obtaining the cost for the logistic regression, which we named \"lr\" in the Pipeline\n",
    "pipe1.get_params().get(\"lr__C\")"
   ]
  },
  {
   "cell_type": "markdown",
   "metadata": {},
   "source": [
    "## K-Fold & Holdout Cross Validation\n",
    "\n",
    "Select the optimal values of the model's parameter and assess its performance.\n",
    "\n",
    "One way is to split the data into training / validation / testing. Though this method is sensitive to how we partition the dataset.\n",
    "\n",
    "So an alternative will be to use k-fold cross-valiation. A slight improvement over the standard k-fold cross-validation is the StratifiedKfold. This method can yield better bias and variance estimate, especially in cases of unequal class proportions as class proportions are preserved in each fold."
   ]
  },
  {
   "cell_type": "code",
   "execution_count": 7,
   "metadata": {
    "collapsed": true
   },
   "outputs": [],
   "source": [
    "from sklearn.cross_validation import StratifiedKFold\n",
    "kfold = StratifiedKFold( y = y_train, \n",
    "                         n_folds = 10,\n",
    "                         random_state = 1 )"
   ]
  },
  {
   "cell_type": "markdown",
   "metadata": {},
   "source": [
    "kfold holds the training and testing index for each fold ( stored in a tuple ).\n",
    "\n",
    "The following section prints out the prediction accuracy for each fold and also shows the distribution of the class, using `np.bincount` ( counts the number of occurences for each int value )."
   ]
  },
  {
   "cell_type": "code",
   "execution_count": 8,
   "metadata": {
    "collapsed": false
   },
   "outputs": [
    {
     "name": "stdout",
     "output_type": "stream",
     "text": [
      "Fold 1, Class Dist: [256 153], Acc: 0.891\n",
      "Fold 2, Class Dist: [256 153], Acc: 0.978\n",
      "Fold 3, Class Dist: [256 153], Acc: 0.978\n",
      "Fold 4, Class Dist: [256 153], Acc: 0.913\n",
      "Fold 5, Class Dist: [256 153], Acc: 0.935\n",
      "Fold 6, Class Dist: [257 153], Acc: 0.978\n",
      "Fold 7, Class Dist: [257 153], Acc: 0.933\n",
      "Fold 8, Class Dist: [257 153], Acc: 0.956\n",
      "Fold 9, Class Dist: [257 153], Acc: 0.978\n",
      "Fold 10, Class Dist: [257 153], Acc: 0.956\n"
     ]
    }
   ],
   "source": [
    "scores = []\n",
    "for k, (train, test) in enumerate(kfold) :\n",
    "    pipe1.fit( x_train[train], y_train[train] )\n",
    "    score = pipe1.score( x_train[test], y_train[test] )\n",
    "    scores.append(score)\n",
    "    print( \"Fold %s, Class Dist: %s, Acc: %.3f\" % ( k + 1, np.bincount(y_train[train]), score ) )"
   ]
  },
  {
   "cell_type": "markdown",
   "metadata": {},
   "source": [
    "Using sklearn's automated `cross_val_score` to achieve the same thing. The nice thing about using this function call is that we can set the `n_jobs` parameters to -1 to make use of all available CPUs on our machine to do the computation."
   ]
  },
  {
   "cell_type": "code",
   "execution_count": 9,
   "metadata": {
    "collapsed": false
   },
   "outputs": [
    {
     "name": "stdout",
     "output_type": "stream",
     "text": [
      "[ 0.89130435  0.97826087  0.97826087  0.91304348  0.93478261  0.97777778\n",
      "  0.93333333  0.95555556  0.97777778  0.95555556]\n",
      "CV accuracy: 0.950 +/- 0.029\n"
     ]
    }
   ],
   "source": [
    "from sklearn.cross_validation import cross_val_score\n",
    "\n",
    "scores = cross_val_score( pipe1, x_train, y_train, cv = 10, n_jobs = 2 )\n",
    "print( scores )\n",
    "print( 'CV accuracy: %.3f +/- %.3f' % ( np.mean(scores), np.std(scores) ) )"
   ]
  },
  {
   "cell_type": "markdown",
   "metadata": {},
   "source": [
    "This returns an array of scores, where the length is equal to the number of fold."
   ]
  },
  {
   "cell_type": "markdown",
   "metadata": {},
   "source": [
    "## Learning Curve"
   ]
  },
  {
   "cell_type": "code",
   "execution_count": 10,
   "metadata": {
    "collapsed": true
   },
   "outputs": [],
   "source": [
    "%matplotlib inline\n",
    "import matplotlib.pyplot as plt\n",
    "from sklearn.learning_curve import learning_curve\n",
    "from sklearn.learning_curve import validation_curve"
   ]
  },
  {
   "cell_type": "markdown",
   "metadata": {},
   "source": [
    "The `learning_curve` function is used to diagnose bias and variance problems.\n",
    "\n",
    "`np.linspace` is similar to `arange` except it uses the number of samples instead of step size as the third parameter."
   ]
  },
  {
   "cell_type": "code",
   "execution_count": 11,
   "metadata": {
    "collapsed": false
   },
   "outputs": [],
   "source": [
    "pipe_lr = Pipeline([\n",
    "    ( 'scl', StandardScaler() ),\n",
    "    ( 'lr', LogisticRegression( penalty = 'l2', random_state = 0 ) )\n",
    "])\n",
    "\n",
    "train_sizes, train_scores, test_scores = learning_curve(\n",
    "    estimator = pipe_lr, \n",
    "    X = x_train, \n",
    "    y = y_train, \n",
    "    train_sizes = np.linspace( 0.1, 1.0, 10 ), # controls the proportion of the training size\n",
    "    cv = 10,\n",
    "    n_jobs = 1\n",
    ")"
   ]
  },
  {
   "cell_type": "code",
   "execution_count": 12,
   "metadata": {
    "collapsed": false
   },
   "outputs": [
    {
     "data": {
      "image/png": "[encoded data removed]",
      "text/plain": [
       "<matplotlib.figure.Figure at 0x115354550>"
      ]
     },
     "metadata": {},
     "output_type": "display_data"
    }
   ],
   "source": [
    "def plot_learning_curves( train_sizes, train_scores, test_scores ) :\n",
    "    \n",
    "    # calculate the mean and the standard deviation of each score (using different training sizes)\n",
    "    train_mean = np.mean( train_scores, axis = 1 )\n",
    "    train_std = np.std( train_scores, axis = 1 )\n",
    "    test_mean = np.mean( test_scores, axis = 1 )\n",
    "    test_std = np.std( test_scores, axis = 1 )\n",
    "\n",
    "    plt.plot(train_sizes, train_mean, \n",
    "             color='blue', marker='o', \n",
    "             markersize=5, label='training accuracy')\n",
    "\n",
    "    plt.fill_between(train_sizes, \n",
    "                     train_mean + train_std,\n",
    "                     train_mean - train_std, \n",
    "                     alpha=0.15, color='blue')\n",
    "\n",
    "    plt.plot(train_sizes, test_mean, \n",
    "             color='green', linestyle='--', \n",
    "             marker='s', markersize=5, \n",
    "             label='validation accuracy')\n",
    "\n",
    "    plt.fill_between(train_sizes, \n",
    "                     test_mean + test_std,\n",
    "                     test_mean - test_std, \n",
    "                     alpha=0.15, color='green')\n",
    "    plt.grid()\n",
    "    plt.xlabel('Number of training samples')\n",
    "    plt.ylabel('Accuracy')\n",
    "    plt.legend(loc='lower right')\n",
    "    plt.ylim([0.8, 1.0])\n",
    "    plt.tight_layout()\n",
    "    plt.show()\n",
    "    \n",
    "plot_learning_curves( train_sizes, train_scores, test_scores )"
   ]
  },
  {
   "cell_type": "markdown",
   "metadata": {},
   "source": [
    "The preceding learning curve plot shows that our model performs quite well on the test dataset."
   ]
  },
  {
   "cell_type": "markdown",
   "metadata": {},
   "source": [
    "# Validation Curve\n",
    "\n",
    "The `validation_curve` plots the influence of a single hyperparameter on the training score and the validation score."
   ]
  },
  {
   "cell_type": "code",
   "execution_count": 13,
   "metadata": {
    "collapsed": false
   },
   "outputs": [
    {
     "data": {
      "image/png": "[encoded data removed]",
      "text/plain": [
       "<matplotlib.figure.Figure at 0x110b2d250>"
      ]
     },
     "metadata": {},
     "output_type": "display_data"
    }
   ],
   "source": [
    "param_range = [0.001, 0.01, 0.1, 1.0, 10.0, 100.0]\n",
    "train_scores, test_scores = validation_curve(\n",
    "    estimator = pipe_lr, \n",
    "    X = x_train, \n",
    "    y = y_train, \n",
    "    param_name = 'lr__C', # specify the parameter to evaluate\n",
    "    param_range = param_range, # specify the range of the parameter\n",
    "    cv = 10\n",
    ")\n",
    "\n",
    "train_mean = np.mean( train_scores, axis = 1 )\n",
    "train_std = np.std( train_scores, axis = 1 )\n",
    "test_mean = np.mean( test_scores, axis = 1 )\n",
    "test_std = np.std( test_scores, axis = 1 )\n",
    "\n",
    "plt.plot(param_range, train_mean, \n",
    "         color='blue', marker='o', \n",
    "         markersize=5, label='training accuracy')\n",
    "\n",
    "plt.fill_between(param_range, train_mean + train_std,\n",
    "                 train_mean - train_std, alpha=0.15,\n",
    "                 color='blue')\n",
    "\n",
    "plt.plot(param_range, test_mean, \n",
    "         color='green', linestyle='--', \n",
    "         marker='s', markersize=5, \n",
    "         label='validation accuracy')\n",
    "\n",
    "plt.fill_between(param_range, \n",
    "                 test_mean + test_std,\n",
    "                 test_mean - test_std, \n",
    "                 alpha=0.15, color='green')\n",
    "plt.grid()\n",
    "plt.xscale('log')\n",
    "plt.legend(loc='lower right')\n",
    "plt.xlabel('Parameter C')\n",
    "plt.ylabel('Accuracy')\n",
    "plt.ylim([0.8, 1.0])\n",
    "plt.tight_layout()\n",
    "plt.show()"
   ]
  },
  {
   "cell_type": "markdown",
   "metadata": {},
   "source": [
    "The plot shows that the accuracy for varying values of C are subtle."
   ]
  },
  {
   "cell_type": "markdown",
   "metadata": {},
   "source": [
    "## Grid Search\n",
    "\n",
    "Finding the optimal combinations of hyperparmeter values."
   ]
  },
  {
   "cell_type": "code",
   "execution_count": 14,
   "metadata": {
    "collapsed": true
   },
   "outputs": [],
   "source": [
    "from sklearn.grid_search import GridSearchCV\n",
    "from sklearn.svm import SVC"
   ]
  },
  {
   "cell_type": "markdown",
   "metadata": {},
   "source": [
    "Specify the `param_grid` using a list of dictionaries. Then obtain the `best_score_` and `best_params_`."
   ]
  },
  {
   "cell_type": "code",
   "execution_count": 15,
   "metadata": {
    "collapsed": false
   },
   "outputs": [
    {
     "name": "stdout",
     "output_type": "stream",
     "text": [
      "0.978021978022\n",
      "{'clf__C': 0.1, 'clf__kernel': 'linear'}\n"
     ]
    }
   ],
   "source": [
    "pipe_svc = Pipeline([\n",
    "    ( 'scl', StandardScaler() ),\n",
    "    ( 'clf', SVC( random_state = 1 ) )\n",
    "])\n",
    "\n",
    "param_range = [ 0.0001, 0.001, 0.01, 0.1, 1.0, 10.0, 100.0, 1000.0 ]\n",
    "\n",
    "param_grid = [\n",
    "    { 'clf__C' : param_range, \n",
    "      'clf__kernel': ['linear'] },\n",
    "    { 'clf__C': param_range, \n",
    "      'clf__gamma': param_range, \n",
    "      'clf__kernel': ['rbf'] }\n",
    "]\n",
    "\n",
    "gs = GridSearchCV( estimator = pipe_svc, \n",
    "                   param_grid = param_grid, \n",
    "                   scoring = 'accuracy', \n",
    "                   cv = 10,\n",
    "                   n_jobs = -1 )\n",
    "gs = gs.fit( x_train, y_train )\n",
    "print(gs.best_score_)\n",
    "print(gs.best_params_)"
   ]
  },
  {
   "cell_type": "markdown",
   "metadata": {},
   "source": [
    "Then use the `best_estimator` to estimate the performance of the best selected model."
   ]
  },
  {
   "cell_type": "code",
   "execution_count": 16,
   "metadata": {
    "collapsed": false
   },
   "outputs": [
    {
     "name": "stdout",
     "output_type": "stream",
     "text": [
      "Test accuracy: 0.965\n"
     ]
    }
   ],
   "source": [
    "clf = gs.best_estimator_\n",
    "clf.fit( x_train, y_train )\n",
    "print( 'Test accuracy: %.3f' % clf.score( x_test, y_test ) )"
   ]
  },
  {
   "cell_type": "markdown",
   "metadata": {},
   "source": [
    "End Note : Although `GridSearchCV` is a extremely powerful approach for finding the optimal set of parameters, sometimes it is better to use `RandomizedSearchCV` to lower the run time of hyperparameter tuning."
   ]
  },
  {
   "cell_type": "markdown",
   "metadata": {},
   "source": [
    "## Nested Cross Validation"
   ]
  },
  {
   "cell_type": "markdown",
   "metadata": {},
   "source": [
    "This is where you have a outer k-fold cross-validation to split the data into training and testing folds. Then another inner k-fold is used to tune the parameters, and the model is evaluated using the testing fold in the outer k-fold."
   ]
  },
  {
   "cell_type": "code",
   "execution_count": 17,
   "metadata": {
    "collapsed": false
   },
   "outputs": [
    {
     "name": "stdout",
     "output_type": "stream",
     "text": [
      "CV accuracy: 0.978 +/- 0.012\n"
     ]
    }
   ],
   "source": [
    "gs = GridSearchCV(\n",
    "    estimator = pipe_svc, \n",
    "    param_grid = param_grid, \n",
    "    scoring = 'accuracy', \n",
    "    cv = 5\n",
    ")\n",
    "scores = cross_val_score( gs, x_train, y_train, scoring = 'accuracy', cv = 5 )\n",
    "print( 'CV accuracy: %.3f +/- %.3f' % ( np.mean(scores), np.std(scores) ) )"
   ]
  },
  {
   "cell_type": "markdown",
   "metadata": {},
   "source": [
    "## Different Performance Metrics\n",
    "\n",
    "Obtaining the confusion matrix and visualize it."
   ]
  },
  {
   "cell_type": "code",
   "execution_count": 18,
   "metadata": {
    "collapsed": false
   },
   "outputs": [
    {
     "name": "stdout",
     "output_type": "stream",
     "text": [
      "[[71  1]\n",
      " [ 2 40]]\n"
     ]
    }
   ],
   "source": [
    "from sklearn.metrics import confusion_matrix\n",
    "\n",
    "pipe_svc.fit( x_train, y_train )\n",
    "y_pred = pipe_svc.predict( x_test )\n",
    "conf_mat = confusion_matrix( y_true = y_test, y_pred = y_pred )\n",
    "print( conf_mat )"
   ]
  },
  {
   "cell_type": "code",
   "execution_count": 19,
   "metadata": {
    "collapsed": false
   },
   "outputs": [
    {
     "data": {
      "image/png": "[encoded data removed]",
      "text/plain": [
       "<matplotlib.figure.Figure at 0x11592a6d0>"
      ]
     },
     "metadata": {},
     "output_type": "display_data"
    }
   ],
   "source": [
    "# visualizing the confusion matrix\n",
    "fig, ax = plt.subplots( figsize = ( 2.5, 2.5 ) )\n",
    "ax.matshow( conf_mat, cmap = plt.cm.Blues, alpha = 0.3 )\n",
    "\n",
    "for i in range( conf_mat.shape[0] ) :\n",
    "    for j in range( conf_mat.shape[1] ) :\n",
    "        # be careful with the ordering of x, y\n",
    "        ax.text( x = j, y = i, s = conf_mat[ i, j ], va = \"center\", ha = \"center\" )\n",
    "        \n",
    "plt.xlabel('predicted label')\n",
    "plt.ylabel('true label')\n",
    "plt.tight_layout()\n",
    "plt.show()"
   ]
  },
  {
   "cell_type": "markdown",
   "metadata": {},
   "source": [
    "- `False Positive Rate` We want to decrease that number of tumors that were incorrectly classified as malignant ( false positive ).\n",
    "- `Precision`. $\\frac{TP}{ TP + FP}$\n",
    "- `Recall`. Equivalent to a true positive rate, which is the fraction of positive samples that were correctly identified out of the total pool of positives.\n",
    "- `F1 Score`. $2\\frac{precision \\times recall}{precision + recall}$"
   ]
  },
  {
   "cell_type": "code",
   "execution_count": 20,
   "metadata": {
    "collapsed": false
   },
   "outputs": [
    {
     "name": "stdout",
     "output_type": "stream",
     "text": [
      "Precision: 0.976\n",
      "Recall: 0.952\n",
      "F1: 0.964\n"
     ]
    }
   ],
   "source": [
    "from sklearn.metrics import precision_score, recall_score, f1_score, make_scorer\n",
    "\n",
    "print( 'Precision: %.3f' % precision_score( y_true = y_test, y_pred = y_pred ) )\n",
    "print( 'Recall: %.3f' % recall_score( y_true = y_test, y_pred = y_pred ) )\n",
    "print( 'F1: %.3f' % f1_score( y_true = y_test, y_pred = y_pred ) )"
   ]
  },
  {
   "cell_type": "markdown",
   "metadata": {},
   "source": [
    "Change the scoring metric of the model fit using `make_scorer`."
   ]
  },
  {
   "cell_type": "code",
   "execution_count": 21,
   "metadata": {
    "collapsed": false
   },
   "outputs": [
    {
     "name": "stdout",
     "output_type": "stream",
     "text": [
      "0.982798668208\n",
      "{'clf__C': 0.1, 'clf__kernel': 'linear'}\n"
     ]
    }
   ],
   "source": [
    "# pos_label is a parameter that's pass to the f1_score\n",
    "scorer = make_scorer( f1_score, pos_label = 0 ) \n",
    "c_gamma_range = [ 0.01, 0.1, 1.0, 10.0 ]\n",
    "\n",
    "param_grid = [\n",
    "    { 'clf__C': c_gamma_range, \n",
    "      'clf__kernel': ['linear'] },\n",
    "    { 'clf__C': c_gamma_range, \n",
    "      'clf__gamma': c_gamma_range, \n",
    "      'clf__kernel': ['rbf'] }\n",
    "]\n",
    "\n",
    "gs = GridSearchCV(\n",
    "    estimator = pipe_svc, \n",
    "    param_grid = param_grid, \n",
    "    scoring = scorer, \n",
    "    cv = 10,\n",
    "    n_jobs = -1\n",
    ")\n",
    "gs = gs.fit( x_train, y_train )\n",
    "print(gs.best_score_)\n",
    "print(gs.best_params_)"
   ]
  },
  {
   "cell_type": "markdown",
   "metadata": {},
   "source": [
    "## ROC Curve\n",
    "\n",
    "Selecting the models for classification based on their performance with respect to the false positive and true positive rate."
   ]
  },
  {
   "cell_type": "code",
   "execution_count": 22,
   "metadata": {
    "collapsed": true
   },
   "outputs": [],
   "source": [
    "from sklearn.metrics import roc_curve, auc\n",
    "\n",
    "x_train2 = x_train[ :, [ 4, 14 ] ]\n",
    "cv = StratifiedKFold( y = y_train, n_folds = 3, random_state = 1 )"
   ]
  },
  {
   "cell_type": "code",
   "execution_count": 23,
   "metadata": {
    "collapsed": false
   },
   "outputs": [
    {
     "data": {
      "image/png": "[encoded data removed]",
      "text/plain": [
       "<matplotlib.figure.Figure at 0x1159da390>"
      ]
     },
     "metadata": {},
     "output_type": "display_data"
    }
   ],
   "source": [
    "# plot the roc curve for every fold\n",
    "for i, ( train, test ) in enumerate(cv) :\n",
    "    probas = pipe_lr.fit( x_train2[train], y_train[train] ).predict_proba( x_train2[test] )\n",
    "    # calling the roc_curve, extract the probability of the class label 1 from @probas\n",
    "    fpr, tpr, thresholds = roc_curve( y_train[test], probas[ :, 1 ], pos_label = 1 )   \n",
    "    roc_auc = auc( fpr, tpr )\n",
    "    plt.plot( fpr, tpr, lw = 1, label = \"ROC fold %d ( area = %0.2f )\" % ( ( i + 1 ), roc_auc ) )\n",
    "\n",
    "plt.plot( [0, 1], \n",
    "          [0, 1], \n",
    "          linestyle = '--', \n",
    "          color = (0.6, 0.6, 0.6), \n",
    "          label = 'random guessing' )\n",
    "plt.plot( [0, 0, 1], \n",
    "          [0, 1, 1], \n",
    "          lw = 2, \n",
    "          linestyle = ':', \n",
    "          color = 'black', \n",
    "          label = 'perfect performance' )\n",
    "\n",
    "plt.xlim([-0.05, 1.05])\n",
    "plt.ylim([-0.05, 1.05])\n",
    "plt.xlabel('false positive rate')\n",
    "plt.ylabel('true positive rate')\n",
    "plt.title('Receiver Operator Characteristic')\n",
    "plt.legend(loc=\"lower right\")\n",
    "\n",
    "plt.tight_layout()\n",
    "plt.show()"
   ]
  },
  {
   "cell_type": "markdown",
   "metadata": {},
   "source": [
    "The plot above shows that there's a certain degree of variance between the different folds.\n",
    "\n",
    "Now if we only wish to obtain the auc score. We can use the `roc_auc_score` module."
   ]
  },
  {
   "cell_type": "code",
   "execution_count": 24,
   "metadata": {
    "collapsed": false
   },
   "outputs": [
    {
     "name": "stdout",
     "output_type": "stream",
     "text": [
      "ROC AUC: 0.671\n"
     ]
    }
   ],
   "source": [
    "from sklearn.metrics import roc_auc_score\n",
    "\n",
    "pipe_svc = pipe_svc.fit(x_train2, y_train)\n",
    "y_pred2 = pipe_svc.predict(x_test[:, [4, 14]])\n",
    "print( 'ROC AUC: %.3f' % roc_auc_score( y_true = y_test, y_score = y_pred2 ) )"
   ]
  }
 ],
 "metadata": {
  "kernelspec": {
   "display_name": "Python 2",
   "language": "python",
   "name": "python2"
  },
  "language_info": {
   "codemirror_mode": {
    "name": "ipython",
    "version": 2
   },
   "file_extension": ".py",
   "mimetype": "text/x-python",
   "name": "python",
   "nbconvert_exporter": "python",
   "pygments_lexer": "ipython2",
   "version": "2.7.10"
  }
 },
 "nbformat": 4,
 "nbformat_minor": 0
}
