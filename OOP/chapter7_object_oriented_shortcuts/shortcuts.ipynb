{
 "cells": [
  {
   "cell_type": "markdown",
   "metadata": {},
   "source": [
    "\n",
    "\n",
    "## Built In Functions\n",
    "\n",
    "`len` returns the number of items in som kind of container objects, e.g. list or dictionary."
   ]
  },
  {
   "cell_type": "code",
   "execution_count": 5,
   "metadata": {
    "collapsed": false
   },
   "outputs": [
    {
     "data": {
      "text/plain": [
       "5"
      ]
     },
     "execution_count": 5,
     "metadata": {},
     "output_type": "execute_result"
    }
   ],
   "source": [
    "normal_list = [ 1, 2, 3, 4, 5 ]\n",
    "len(normal_list)"
   ]
  },
  {
   "cell_type": "code",
   "execution_count": 6,
   "metadata": {
    "collapsed": false
   },
   "outputs": [
    {
     "name": "stdout",
     "output_type": "stream",
     "text": [
      "5 4 3 2 1 "
     ]
    }
   ],
   "source": [
    "# loop over items from back to front\n",
    "for nl in reversed(normal_list):\n",
    "    print( nl, end = \" \" )"
   ]
  },
  {
   "cell_type": "code",
   "execution_count": 7,
   "metadata": {
    "collapsed": false
   },
   "outputs": [
    {
     "data": {
      "text/plain": [
       "'list'"
      ]
     },
     "execution_count": 7,
     "metadata": {},
     "output_type": "execute_result"
    }
   ],
   "source": [
    "# access a instance's class name\n",
    "normal_list.__class__.__name__"
   ]
  },
  {
   "cell_type": "markdown",
   "metadata": {},
   "source": [
    "`enumarate` creates a list of tuples, where the first object in each tuple is the index and the second is the original item. e.g. the example below outputs all the lines in a file with line numbers. Like all sequences, enumerate is zero-based."
   ]
  },
  {
   "cell_type": "code",
   "execution_count": 8,
   "metadata": {
    "collapsed": false
   },
   "outputs": [
    {
     "name": "stdout",
     "output_type": "stream",
     "text": [
      "1: first\tlast\temail\n",
      "2: john\tsmith\tjsmith@example.com\n",
      "3: jane\tdoan\tjaned@example.com\n",
      "4: david\tneilson\tdn@example.com\n"
     ]
    }
   ],
   "source": [
    "filename = 'contact.txt'\n",
    "with open(filename) as file:\n",
    "    for index, line in enumerate(file):\n",
    "        print( '{0}: {1}'.format( index + 1, line ), end = '' )"
   ]
  },
  {
   "cell_type": "markdown",
   "metadata": {},
   "source": [
    "`zip` it takes two or more sequences and creates a new sequence, where each element of the new sequence contains one element each from the original sequence."
   ]
  },
  {
   "cell_type": "code",
   "execution_count": 9,
   "metadata": {
    "collapsed": false
   },
   "outputs": [
    {
     "name": "stdout",
     "output_type": "stream",
     "text": [
      "email: jsmith@example.com -- smith, john\n",
      "email: janed@example.com -- doan, jane\n",
      "email: dn@example.com -- neilson, david\n"
     ]
    }
   ],
   "source": [
    "# .strip remove leading and trailing whitespaces\n",
    "contacts = []\n",
    "with open(filename) as file:\n",
    "    header = file.readline().strip().split('\\t')\n",
    "    for line in file:\n",
    "        line = line.strip().split('\\t')\n",
    "        # the dict maps the first element of each tuple to a key\n",
    "        # and the second value to a value\n",
    "        contacts.append( dict( zip( header, line ) ) )\n",
    "\n",
    "for contact in contacts:\n",
    "    print(\"email: {email} -- {last}, {first}\".format(**contact))"
   ]
  },
  {
   "cell_type": "markdown",
   "metadata": {},
   "source": [
    "we can \"unzip\" a zipped list of tuples by zipping it again."
   ]
  },
  {
   "cell_type": "code",
   "execution_count": 10,
   "metadata": {
    "collapsed": false
   },
   "outputs": [
    {
     "name": "stdout",
     "output_type": "stream",
     "text": [
      "[('a', 1), ('b', 2), ('c', 3)]\n"
     ]
    },
    {
     "data": {
      "text/plain": [
       "[('a', 'b', 'c'), (1, 2, 3)]"
      ]
     },
     "execution_count": 10,
     "metadata": {},
     "output_type": "execute_result"
    }
   ],
   "source": [
    "list_one = [ 'a', 'b', 'c' ]\n",
    "list_two = [ 1, 2, 3 ]\n",
    "zipped = zip(list_one, list_two)\n",
    "zipped = list(zipped)\n",
    "print(zipped)\n",
    "\n",
    "# unpack the parameters to pass these individual sequences as\n",
    "# arguments to the zip function\n",
    "unzipped = zip(*zipped)\n",
    "list(unzipped)"
   ]
  },
  {
   "cell_type": "markdown",
   "metadata": {},
   "source": [
    "`min` and `max` like `sort` allows us to define the `key` argument."
   ]
  },
  {
   "cell_type": "code",
   "execution_count": 11,
   "metadata": {
    "collapsed": true
   },
   "outputs": [],
   "source": [
    "def min_max_indexes(seq):\n",
    "    # sort by the value and returns the index and value\n",
    "    minimum = min( enumerate(seq), key = lambda s: s[1] )\n",
    "    maximum = max( enumerate(seq), key = lambda s: s[1] )\n",
    "    return minimum, maximum"
   ]
  },
  {
   "cell_type": "code",
   "execution_count": 12,
   "metadata": {
    "collapsed": false
   },
   "outputs": [
    {
     "data": {
      "text/plain": [
       "((1, 0), (4, 6))"
      ]
     },
     "execution_count": 12,
     "metadata": {},
     "output_type": "execute_result"
    }
   ],
   "source": [
    "alist = [5,0,1,4,6,3]\n",
    "min_max_indexes(alist)"
   ]
  },
  {
   "cell_type": "markdown",
   "metadata": {},
   "source": [
    "## Comprehensions\n",
    "\n",
    "optimized syntax for creating a list, set or dictionary fomr an existing sequence.\n",
    "\n",
    "list comprehensions. e.g. convert strings to integers."
   ]
  },
  {
   "cell_type": "code",
   "execution_count": 13,
   "metadata": {
    "collapsed": false
   },
   "outputs": [
    {
     "data": {
      "text/plain": [
       "[1, 5, 28, 131, 3]"
      ]
     },
     "execution_count": 13,
     "metadata": {},
     "output_type": "execute_result"
    }
   ],
   "source": [
    "input_strings = ['1', '5', '28', '131', '3']\n",
    "output_integers = [int(num) for num in input_strings]\n",
    "output_integers"
   ]
  },
  {
   "cell_type": "code",
   "execution_count": 14,
   "metadata": {
    "collapsed": false
   },
   "outputs": [
    {
     "data": {
      "text/plain": [
       "[1, 5, 28, 3]"
      ]
     },
     "execution_count": 14,
     "metadata": {},
     "output_type": "execute_result"
    }
   ],
   "source": [
    "# exclude strings with more than two characters\n",
    "[int(n) for n in input_strings if len(n) < 3]"
   ]
  },
  {
   "cell_type": "markdown",
   "metadata": {},
   "source": [
    "set comprehension. e.g. uses a namedtuple to model author/title/genre triads, and then retrieves a set of all the authors that write in a specific genre."
   ]
  },
  {
   "cell_type": "code",
   "execution_count": 15,
   "metadata": {
    "collapsed": false
   },
   "outputs": [
    {
     "data": {
      "text/plain": [
       "{'Le Guin', 'Pratchett', 'Turner'}"
      ]
     },
     "execution_count": 15,
     "metadata": {},
     "output_type": "execute_result"
    }
   ],
   "source": [
    "from collections import namedtuple\n",
    "Book = namedtuple( \"Book\", \"author title genre\" )\n",
    "\n",
    "books = [\n",
    "    Book( \"Pratchett\", \"Nightwatch\", \"fantasy\" ),\n",
    "    Book( \"Pratchett\", \"Thief Of Time\", \"fantasy\" ),\n",
    "    Book( \"Le Guin\", \"The Dispossessed\", \"scifi\" ),\n",
    "    Book( \"Le Guin\", \"A Wizard Of Earthsea\", \"fantasy\" ),\n",
    "    Book( \"Turner\", \"The Thief\", \"fantasy\" ),\n",
    "    Book( \"Phillips\", \"Preston Diamond\", \"western\" ),\n",
    "    Book( \"Phillips\", \"Twice Upon A Time\", \"scifi\" ),\n",
    "]\n",
    "fantasy_author = { b.author for b in books if b.genre == 'fantasy' }\n",
    "fantasy_author"
   ]
  },
  {
   "cell_type": "markdown",
   "metadata": {},
   "source": [
    "## Generators\n",
    "\n",
    "Used when we're just looping over items and don't care about having a final container of the object. To create generator comprehension, wraip it with `()`. e.g. when looping over large log files."
   ]
  },
  {
   "cell_type": "code",
   "execution_count": 16,
   "metadata": {
    "collapsed": false
   },
   "outputs": [
    {
     "name": "stdout",
     "output_type": "stream",
     "text": [
      "Jan 26, 2010 11:25:46\tWARNING \tThis is a warning. It could be serious.\n",
      "\n",
      "Jan 26, 2010 11:25:52\tWARNING \tAnother warning sent.\n",
      "\n",
      "Jan 26, 2010 11:26:40\tWARNING \tWarnings should be heeded.\n",
      "\n",
      "Jan 26, 2010 11:26:54\tWARNING \tWatch for warnings.\n",
      "\n"
     ]
    }
   ],
   "source": [
    "with open('log_file.log') as file:\n",
    "    # if 'WARNING' is in the string, do not split the text file and then compare\n",
    "    warnings = ( l for l in file if 'WARNING' in l )\n",
    "    for l in warnings:\n",
    "        print(l)"
   ]
  },
  {
   "cell_type": "code",
   "execution_count": 17,
   "metadata": {
    "collapsed": false
   },
   "outputs": [
    {
     "data": {
      "text/plain": [
       "'\\nwith open(inname) as infile:\\n    with open(outname, \"w\") as outfile:\\n        warnings = (l for l in infile if \\'WARNING\\' in l)\\n        for l in warnings:\\n            outfile.write(l)\\n'"
      ]
     },
     "execution_count": 17,
     "metadata": {},
     "output_type": "execute_result"
    }
   ],
   "source": [
    "# read in the input log file and outputs the new log file that contains only the WARNING lines\n",
    "\"\"\"\n",
    "with open(inname) as infile:\n",
    "    with open(outname, \"w\") as outfile:\n",
    "        warnings = (l for l in infile if 'WARNING' in l)\n",
    "        for l in warnings:\n",
    "            outfile.write(l)\n",
    "\"\"\""
   ]
  },
  {
   "cell_type": "markdown",
   "metadata": {},
   "source": [
    "Consider the example above, if we wanted to delete WARNING column from our output (a redundant column given that it only shows WARNING)."
   ]
  },
  {
   "cell_type": "code",
   "execution_count": 18,
   "metadata": {
    "collapsed": false
   },
   "outputs": [
    {
     "name": "stdout",
     "output_type": "stream",
     "text": [
      "Jan 26, 2010 11:25:46 \tThis is a warning. It could be serious.\n",
      "\n",
      "Jan 26, 2010 11:25:52 \tAnother warning sent.\n",
      "\n",
      "Jan 26, 2010 11:26:40 \tWarnings should be heeded.\n",
      "\n",
      "Jan 26, 2010 11:26:54 \tWatch for warnings.\n",
      "\n"
     ]
    }
   ],
   "source": [
    "with open('log_file.log') as file:\n",
    "    # remove the tab and WARNING\n",
    "    warnings = ( l.replace( '\\tWARNING', '' ) for l in file if 'WARNING' in l )\n",
    "    for l in warnings:\n",
    "        print(l)"
   ]
  },
  {
   "cell_type": "markdown",
   "metadata": {},
   "source": [
    "Using the `yield` expression."
   ]
  },
  {
   "cell_type": "code",
   "execution_count": 19,
   "metadata": {
    "collapsed": false
   },
   "outputs": [
    {
     "name": "stdout",
     "output_type": "stream",
     "text": [
      "Jan 26, 2010 11:25:46 \tThis is a warning. It could be serious.\n",
      "\n",
      "Jan 26, 2010 11:25:52 \tAnother warning sent.\n",
      "\n",
      "Jan 26, 2010 11:26:40 \tWarnings should be heeded.\n",
      "\n",
      "Jan 26, 2010 11:26:54 \tWatch for warnings.\n",
      "\n"
     ]
    }
   ],
   "source": [
    "def warnings_filter(sequence):\n",
    "    for l in sequence:\n",
    "        if 'WARNING' in l:\n",
    "            yield l.replace( '\\tWARNING', '' )\n",
    "\n",
    "with open('log_file.log') as file:\n",
    "    warnings = warnings_filter(file)\n",
    "    for warning in warnings:\n",
    "        print(warning)"
   ]
  },
  {
   "cell_type": "markdown",
   "metadata": {},
   "source": [
    "## Method Overloading\n",
    "\n",
    "Having multiple methods with the same name that accept different set of arguments. **Note** that anything we provide as a default argument is evaluated when the function is first interpreted, not when it is called."
   ]
  },
  {
   "cell_type": "code",
   "execution_count": 20,
   "metadata": {
    "collapsed": false
   },
   "outputs": [
    {
     "name": "stdout",
     "output_type": "stream",
     "text": [
      "['a']\n",
      "['a', 'a']\n"
     ]
    }
   ],
   "source": [
    "# be careful with providing empty containers,\n",
    "# this will only create one list when the code is first constructed\n",
    "def hello( b = [] ):\n",
    "    b.append('a')\n",
    "    print(b)\n",
    "hello()\n",
    "hello()"
   ]
  },
  {
   "cell_type": "code",
   "execution_count": 21,
   "metadata": {
    "collapsed": false
   },
   "outputs": [
    {
     "name": "stdout",
     "output_type": "stream",
     "text": [
      "['a']\n",
      "['a']\n"
     ]
    }
   ],
   "source": [
    "# write this instead\n",
    "def hello( b = None ):\n",
    "    if b is None:\n",
    "        b = []\n",
    "    b.append('a')\n",
    "    print(b)\n",
    "hello()\n",
    "hello()"
   ]
  },
  {
   "cell_type": "markdown",
   "metadata": {},
   "source": [
    "In python, we cam pass arbitrary lists and dictionaries. The `*` represents that the function accepts an arbitrary number of positional arguments. e.g. The `*links` says \"I'll accept any number of arguments and put them all in a list."
   ]
  },
  {
   "cell_type": "code",
   "execution_count": 22,
   "metadata": {
    "collapsed": false
   },
   "outputs": [
    {
     "name": "stdout",
     "output_type": "stream",
     "text": [
      "http://www.archlinux.org\n",
      "http://www.archlinux.org\n",
      "http://ccphillips.net/\n"
     ]
    }
   ],
   "source": [
    "def get_pages(*links):\n",
    "    for link in links:\n",
    "        # dowload the link with urllib\n",
    "        print(link)\n",
    "        \n",
    "# all the function call below are valid\n",
    "get_pages()\n",
    "get_pages('http://www.archlinux.org')\n",
    "get_pages('http://www.archlinux.org', 'http://ccphillips.net/')"
   ]
  },
  {
   "cell_type": "markdown",
   "metadata": {},
   "source": [
    "The `**` represents arbitary keyword argument. These arrive into the function as a dictionary. dictionary's `.update` is used add another dictionary's key-value pair to another dictionary."
   ]
  },
  {
   "cell_type": "code",
   "execution_count": 23,
   "metadata": {
    "collapsed": true
   },
   "outputs": [],
   "source": [
    "class Options(object):\n",
    "    \n",
    "    default_options = {\n",
    "        'port': 21,\n",
    "        'host': 'localhost',\n",
    "        'username': None,\n",
    "        'password': None,\n",
    "        'debug': False,\n",
    "    }\n",
    "    \n",
    "    def __init__(self, **kwargs):\n",
    "        # first make a copy of the class level dictionary\n",
    "        # then we can use the update method to change the default values\n",
    "        self.options = dict(Options.default_options)\n",
    "        self.options.update(kwargs)\n",
    "    \n",
    "    def __getitem__(self, key):\n",
    "        # allows us to use the new class using dictionary indexing syntax.\n",
    "        # get the dictionary to return the value for you\n",
    "        return self.options[key]"
   ]
  },
  {
   "cell_type": "code",
   "execution_count": 24,
   "metadata": {
    "collapsed": false
   },
   "outputs": [
    {
     "name": "stdout",
     "output_type": "stream",
     "text": [
      "True\n",
      "21\n",
      "dusty\n"
     ]
    }
   ],
   "source": [
    "options = Options( username = \"dusty\", password = \"drowssap\", debug = True )\n",
    "print( options['debug'] )\n",
    "print( options['port'] )\n",
    "print( options['username'] )"
   ]
  },
  {
   "cell_type": "markdown",
   "metadata": {},
   "source": [
    "The method above can be dangerous as it is not explicit. Because it's possible to pass arbitrary keyword arugments to the dictionary ( or worse mispell a word ). Thus we could add some code to enforce this rule and document it in the class's definition."
   ]
  },
  {
   "cell_type": "code",
   "execution_count": 25,
   "metadata": {
    "collapsed": true
   },
   "outputs": [],
   "source": [
    "import os\n",
    "import shutil\n",
    "\n",
    "def augmented_move( target_folder, *filenames, verbose = False, **specific ):\n",
    "    \"\"\"Move all filename into the target folder, allowing specific treatment of certain files\"\"\"\n",
    "    \n",
    "    def print_verbose( message, filename ):\n",
    "        if verbose:\n",
    "            print( message.format(filename) )\n",
    "    \n",
    "    for filename in filenames:\n",
    "        target_path = os.path.join( target_folder, filename )\n",
    "        if filename in specific:\n",
    "            if specific[filename] == 'ignore':\n",
    "                print_verbose( \"Ignoring {0} \", filename )\n",
    "            elif specific[filename] == 'copy':\n",
    "                print_verbose( \"Copying {0} \", filename )\n",
    "                # shutil.copyfile( filename, target_path )\n",
    "        else:\n",
    "            print_verbose(\"Moving {0} \", filename)\n",
    "            # shutil.move(filename, target_path)"
   ]
  },
  {
   "cell_type": "code",
   "execution_count": 26,
   "metadata": {
    "collapsed": false
   },
   "outputs": [
    {
     "name": "stdout",
     "output_type": "stream",
     "text": [
      "Copying four \n",
      "Ignoring five \n",
      "Moving six \n"
     ]
    }
   ],
   "source": [
    "# we have to pass the keyword argument for verbose or else \n",
    "# the function will treat it as another filename in the *filename list\n",
    "augmented_move( \"move_here\", \"four\", \"five\", \"six\", verbose = True, four = \"copy\", five = \"ignore\" )"
   ]
  },
  {
   "cell_type": "markdown",
   "metadata": {},
   "source": [
    "## Unpacking Argument"
   ]
  },
  {
   "cell_type": "code",
   "execution_count": 27,
   "metadata": {
    "collapsed": false
   },
   "outputs": [
    {
     "name": "stdout",
     "output_type": "stream",
     "text": [
      "Unpacking a sequence: 0 1 2\n",
      "Unpacking a dict: ONE TWO THREE\n"
     ]
    }
   ],
   "source": [
    "def show_args( arg1, arg2, arg3 = \"THREE\" ):\n",
    "    print( arg1, arg2, arg3 )\n",
    "\n",
    "some_args = range(3)\n",
    "more_args = {\n",
    "    \"arg1\": \"ONE\",\n",
    "    \"arg2\": \"TWO\"\n",
    "}\n",
    "\n",
    "# when we have a list of arguments, we can use the * operator\n",
    "# to unpack it into three arguments\n",
    "print(\"Unpacking a sequence:\", end=\" \")\n",
    "show_args(*some_args)\n",
    "\n",
    "# if we have a dictionary of arguments, we can use the **syntax\n",
    "# to unpack it \n",
    "print(\"Unpacking a dict:\", end=\" \")\n",
    "show_args(**more_args)"
   ]
  },
  {
   "cell_type": "markdown",
   "metadata": {},
   "source": [
    "Replacing methods of a class can be confusing to maintain, it is only used in testing code when we don't want the result to be actually sent to the client."
   ]
  },
  {
   "cell_type": "code",
   "execution_count": 30,
   "metadata": {
    "collapsed": false
   },
   "outputs": [
    {
     "name": "stdout",
     "output_type": "stream",
     "text": [
      "my class is A\n",
      "my class is not A\n"
     ]
    }
   ],
   "source": [
    "class A(object):\n",
    "\n",
    "    def print(self):\n",
    "        print(\"my class is A\")\n",
    "\n",
    "def fake_print():\n",
    "    print(\"my class is not A\")\n",
    "\n",
    "a = A()\n",
    "a.print()\n",
    "a.print = fake_print\n",
    "a.print()"
   ]
  }
 ],
 "metadata": {
  "kernelspec": {
   "display_name": "Python 3",
   "language": "python",
   "name": "python3"
  },
  "language_info": {
   "codemirror_mode": {
    "name": "ipython",
    "version": 3
   },
   "file_extension": ".py",
   "mimetype": "text/x-python",
   "name": "python",
   "nbconvert_exporter": "python",
   "pygments_lexer": "ipython3",
   "version": "3.5.1"
  }
 },
 "nbformat": 4,
 "nbformat_minor": 0
}
