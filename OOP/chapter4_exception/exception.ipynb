{
 "cells": [
  {
   "cell_type": "markdown",
   "metadata": {},
   "source": [
    "## Raising an Exception\n",
    "\n",
    "Add item to the list only if they are even number integers. Note that the following is only good at demonstrating, you can still add invalid type through index notation.\n",
    "\n",
    "1. Defining new exceptions.\n",
    "2. Using exceptions for unexceptional circumstances."
   ]
  },
  {
   "cell_type": "code",
   "execution_count": 1,
   "metadata": {
    "collapsed": true
   },
   "outputs": [],
   "source": [
    "class EvenOnly(list):\n",
    "    \n",
    "    def append( self, integer ):\n",
    "        if not isinstance( integer, int ):\n",
    "            raise TypeError('Only integers can be added')\n",
    "        if integer % 2:\n",
    "            raise ValueError('Only even numbers can be added')\n",
    "        super().append(integer)"
   ]
  },
  {
   "cell_type": "code",
   "execution_count": 2,
   "metadata": {
    "collapsed": false
   },
   "outputs": [],
   "source": [
    "e = EvenOnly()\n",
    "# e.append(\"a string\")"
   ]
  },
  {
   "cell_type": "code",
   "execution_count": 3,
   "metadata": {
    "collapsed": false
   },
   "outputs": [
    {
     "name": "stdout",
     "output_type": "stream",
     "text": [
      "I am about to raise an exception\n"
     ]
    },
    {
     "ename": "Exception",
     "evalue": "This is always raised",
     "output_type": "error",
     "traceback": [
      "\u001b[0;31m---------------------------------------------------------------------------\u001b[0m",
      "\u001b[0;31mException\u001b[0m                                 Traceback (most recent call last)",
      "\u001b[0;32m<ipython-input-3-8169d7a6b7b8>\u001b[0m in \u001b[0;36m<module>\u001b[0;34m()\u001b[0m\n\u001b[1;32m      5\u001b[0m     \u001b[0;32mreturn\u001b[0m \u001b[0;34m\"I won't be returned\"\u001b[0m\u001b[0;34m\u001b[0m\u001b[0m\n\u001b[1;32m      6\u001b[0m \u001b[0;34m\u001b[0m\u001b[0m\n\u001b[0;32m----> 7\u001b[0;31m \u001b[0mno_return\u001b[0m\u001b[0;34m(\u001b[0m\u001b[0;34m)\u001b[0m\u001b[0;34m\u001b[0m\u001b[0m\n\u001b[0m",
      "\u001b[0;32m<ipython-input-3-8169d7a6b7b8>\u001b[0m in \u001b[0;36mno_return\u001b[0;34m()\u001b[0m\n\u001b[1;32m      1\u001b[0m \u001b[0;32mdef\u001b[0m \u001b[0mno_return\u001b[0m\u001b[0;34m(\u001b[0m\u001b[0;34m)\u001b[0m\u001b[0;34m:\u001b[0m\u001b[0;34m\u001b[0m\u001b[0m\n\u001b[1;32m      2\u001b[0m     \u001b[0mprint\u001b[0m\u001b[0;34m(\u001b[0m\u001b[0;34m\"I am about to raise an exception\"\u001b[0m\u001b[0;34m)\u001b[0m\u001b[0;34m\u001b[0m\u001b[0m\n\u001b[0;32m----> 3\u001b[0;31m     \u001b[0;32mraise\u001b[0m \u001b[0mException\u001b[0m\u001b[0;34m(\u001b[0m\u001b[0;34m\"This is always raised\"\u001b[0m\u001b[0;34m)\u001b[0m\u001b[0;34m\u001b[0m\u001b[0m\n\u001b[0m\u001b[1;32m      4\u001b[0m     \u001b[0mprint\u001b[0m\u001b[0;34m(\u001b[0m\u001b[0;34m\"This line will never execute\"\u001b[0m\u001b[0;34m)\u001b[0m\u001b[0;34m\u001b[0m\u001b[0m\n\u001b[1;32m      5\u001b[0m     \u001b[0;32mreturn\u001b[0m \u001b[0;34m\"I won't be returned\"\u001b[0m\u001b[0;34m\u001b[0m\u001b[0m\n",
      "\u001b[0;31mException\u001b[0m: This is always raised"
     ]
    }
   ],
   "source": [
    "def no_return():\n",
    "    print(\"I am about to raise an exception\") \n",
    "    raise Exception(\"This is always raised\") \n",
    "    print(\"This line will never execute\") \n",
    "    return \"I won't be returned\"\n",
    "\n",
    "no_return()"
   ]
  },
  {
   "cell_type": "code",
   "execution_count": 4,
   "metadata": {
    "collapsed": false
   },
   "outputs": [
    {
     "name": "stdout",
     "output_type": "stream",
     "text": [
      "I am about to raise an exception\n",
      "I caught an exception\n",
      "executed after the exception\n"
     ]
    }
   ],
   "source": [
    "try:\n",
    "    no_return()\n",
    "except: # catch the exception and do the clean up\n",
    "    print(\"I caught an exception\")\n",
    "print(\"executed after the exception\")"
   ]
  },
  {
   "cell_type": "markdown",
   "metadata": {},
   "source": [
    "Catch two or more different exceptions and handle them with the same code by applying multiple Errors after the `except`."
   ]
  },
  {
   "cell_type": "code",
   "execution_count": 5,
   "metadata": {
    "collapsed": false
   },
   "outputs": [
    {
     "name": "stdout",
     "output_type": "stream",
     "text": [
      "Testing 0: Enter a number other than zero\n",
      "Testing hello: Enter a number other than zero\n",
      "Testing 50.0: 2.0\n",
      "Testing 13: "
     ]
    },
    {
     "ename": "ValueError",
     "evalue": "13 is an unlucky number",
     "output_type": "error",
     "traceback": [
      "\u001b[0;31m---------------------------------------------------------------------------\u001b[0m",
      "\u001b[0;31mValueError\u001b[0m                                Traceback (most recent call last)",
      "\u001b[0;32m<ipython-input-5-00597a9886c9>\u001b[0m in \u001b[0;36m<module>\u001b[0;34m()\u001b[0m\n\u001b[1;32m      9\u001b[0m \u001b[0;32mfor\u001b[0m \u001b[0mval\u001b[0m \u001b[0;32min\u001b[0m \u001b[0;34m(\u001b[0m \u001b[0;36m0\u001b[0m\u001b[0;34m,\u001b[0m \u001b[0;34m\"hello\"\u001b[0m\u001b[0;34m,\u001b[0m \u001b[0;36m50.0\u001b[0m\u001b[0;34m,\u001b[0m \u001b[0;36m13\u001b[0m \u001b[0;34m)\u001b[0m\u001b[0;34m:\u001b[0m\u001b[0;34m\u001b[0m\u001b[0m\n\u001b[1;32m     10\u001b[0m     \u001b[0mprint\u001b[0m\u001b[0;34m(\u001b[0m \u001b[0;34m\"Testing {}:\"\u001b[0m\u001b[0;34m.\u001b[0m\u001b[0mformat\u001b[0m\u001b[0;34m(\u001b[0m\u001b[0mval\u001b[0m\u001b[0;34m)\u001b[0m\u001b[0;34m,\u001b[0m \u001b[0mend\u001b[0m \u001b[0;34m=\u001b[0m \u001b[0;34m\" \"\u001b[0m \u001b[0;34m)\u001b[0m\u001b[0;34m\u001b[0m\u001b[0m\n\u001b[0;32m---> 11\u001b[0;31m     \u001b[0mprint\u001b[0m\u001b[0;34m(\u001b[0m \u001b[0mfunny_division2\u001b[0m\u001b[0;34m(\u001b[0m\u001b[0mval\u001b[0m\u001b[0;34m)\u001b[0m \u001b[0;34m)\u001b[0m\u001b[0;34m\u001b[0m\u001b[0m\n\u001b[0m",
      "\u001b[0;32m<ipython-input-5-00597a9886c9>\u001b[0m in \u001b[0;36mfunny_division2\u001b[0;34m(anumber)\u001b[0m\n\u001b[1;32m      2\u001b[0m     \u001b[0;32mtry\u001b[0m\u001b[0;34m:\u001b[0m\u001b[0;34m\u001b[0m\u001b[0m\n\u001b[1;32m      3\u001b[0m         \u001b[0;32mif\u001b[0m \u001b[0manumber\u001b[0m \u001b[0;34m==\u001b[0m \u001b[0;36m13\u001b[0m\u001b[0;34m:\u001b[0m\u001b[0;34m\u001b[0m\u001b[0m\n\u001b[0;32m----> 4\u001b[0;31m             \u001b[0;32mraise\u001b[0m \u001b[0mValueError\u001b[0m\u001b[0;34m(\u001b[0m\u001b[0;34m'13 is an unlucky number'\u001b[0m\u001b[0;34m)\u001b[0m\u001b[0;34m\u001b[0m\u001b[0m\n\u001b[0m\u001b[1;32m      5\u001b[0m         \u001b[0;32mreturn\u001b[0m \u001b[0;36m100\u001b[0m \u001b[0;34m/\u001b[0m \u001b[0manumber\u001b[0m\u001b[0;34m\u001b[0m\u001b[0m\n\u001b[1;32m      6\u001b[0m     \u001b[0;32mexcept\u001b[0m \u001b[0;34m(\u001b[0m \u001b[0mZeroDivisionError\u001b[0m\u001b[0;34m,\u001b[0m \u001b[0mTypeError\u001b[0m \u001b[0;34m)\u001b[0m\u001b[0;34m:\u001b[0m\u001b[0;34m\u001b[0m\u001b[0m\n",
      "\u001b[0;31mValueError\u001b[0m: 13 is an unlucky number"
     ]
    }
   ],
   "source": [
    "def funny_division2(anumber): \n",
    "    try:\n",
    "        if anumber == 13:\n",
    "            raise ValueError('13 is an unlucky number')\n",
    "        return 100 / anumber\n",
    "    except ( ZeroDivisionError, TypeError ):\n",
    "        return \"Enter a number other than zero\"\n",
    "\n",
    "for val in ( 0, \"hello\", 50.0, 13 ):\n",
    "    print( \"Testing {}:\".format(val), end = \" \" )\n",
    "    print( funny_division2(val) )"
   ]
  },
  {
   "cell_type": "markdown",
   "metadata": {},
   "source": [
    "- It's possible to stack the `except` clause and do different things with different exception. \n",
    "- The `raise` keyword with no arguments, will re-raise the last error as if we're still inside that error handler.\n",
    "- We can make a reference to the Error using the `as` keyword. Especially useful when we define our own exception handler."
   ]
  },
  {
   "cell_type": "code",
   "execution_count": 6,
   "metadata": {
    "collapsed": false
   },
   "outputs": [],
   "source": [
    "def funny_division3(anumber):\n",
    "    try:\n",
    "        if anumber == 13:\n",
    "            raise ValueError(\"13 is an unlucky number\")\n",
    "        return 100 / anumber\n",
    "    except ZeroDivisionError:\n",
    "        return \"Enter a number other than zero\"\n",
    "    except TypeError:\n",
    "        return \"Enter a numerical value\"\n",
    "    except ValueError as e:\n",
    "        print( e.args ) # .args prints the string argument that we've used to initialize the ValueError\n",
    "        print(\"No, No, not 13!\")\n",
    "        raise"
   ]
  },
  {
   "cell_type": "code",
   "execution_count": 7,
   "metadata": {
    "collapsed": false
   },
   "outputs": [
    {
     "name": "stdout",
     "output_type": "stream",
     "text": [
      "Testing 0: Enter a number other than zero\n",
      "Testing hello: Enter a numerical value\n",
      "Testing 50.0: 2.0\n",
      "Testing 13: ('13 is an unlucky number',)\n",
      "No, No, not 13!\n"
     ]
    },
    {
     "ename": "ValueError",
     "evalue": "13 is an unlucky number",
     "output_type": "error",
     "traceback": [
      "\u001b[0;31m---------------------------------------------------------------------------\u001b[0m",
      "\u001b[0;31mValueError\u001b[0m                                Traceback (most recent call last)",
      "\u001b[0;32m<ipython-input-7-a2589c11e21a>\u001b[0m in \u001b[0;36m<module>\u001b[0;34m()\u001b[0m\n\u001b[1;32m      1\u001b[0m \u001b[0;32mfor\u001b[0m \u001b[0mval\u001b[0m \u001b[0;32min\u001b[0m \u001b[0;34m(\u001b[0m \u001b[0;36m0\u001b[0m\u001b[0;34m,\u001b[0m \u001b[0;34m\"hello\"\u001b[0m\u001b[0;34m,\u001b[0m \u001b[0;36m50.0\u001b[0m\u001b[0;34m,\u001b[0m \u001b[0;36m13\u001b[0m \u001b[0;34m)\u001b[0m\u001b[0;34m:\u001b[0m\u001b[0;34m\u001b[0m\u001b[0m\n\u001b[1;32m      2\u001b[0m     \u001b[0mprint\u001b[0m\u001b[0;34m(\u001b[0m \u001b[0;34m\"Testing {}:\"\u001b[0m\u001b[0;34m.\u001b[0m\u001b[0mformat\u001b[0m\u001b[0;34m(\u001b[0m\u001b[0mval\u001b[0m\u001b[0;34m)\u001b[0m\u001b[0;34m,\u001b[0m \u001b[0mend\u001b[0m \u001b[0;34m=\u001b[0m \u001b[0;34m\" \"\u001b[0m \u001b[0;34m)\u001b[0m\u001b[0;34m\u001b[0m\u001b[0m\n\u001b[0;32m----> 3\u001b[0;31m     \u001b[0mprint\u001b[0m\u001b[0;34m(\u001b[0m \u001b[0mfunny_division3\u001b[0m\u001b[0;34m(\u001b[0m\u001b[0mval\u001b[0m\u001b[0;34m)\u001b[0m \u001b[0;34m)\u001b[0m\u001b[0;34m\u001b[0m\u001b[0m\n\u001b[0m",
      "\u001b[0;32m<ipython-input-6-ec1d2b35ba48>\u001b[0m in \u001b[0;36mfunny_division3\u001b[0;34m(anumber)\u001b[0m\n\u001b[1;32m      2\u001b[0m     \u001b[0;32mtry\u001b[0m\u001b[0;34m:\u001b[0m\u001b[0;34m\u001b[0m\u001b[0m\n\u001b[1;32m      3\u001b[0m         \u001b[0;32mif\u001b[0m \u001b[0manumber\u001b[0m \u001b[0;34m==\u001b[0m \u001b[0;36m13\u001b[0m\u001b[0;34m:\u001b[0m\u001b[0;34m\u001b[0m\u001b[0m\n\u001b[0;32m----> 4\u001b[0;31m             \u001b[0;32mraise\u001b[0m \u001b[0mValueError\u001b[0m\u001b[0;34m(\u001b[0m\u001b[0;34m\"13 is an unlucky number\"\u001b[0m\u001b[0;34m)\u001b[0m\u001b[0;34m\u001b[0m\u001b[0m\n\u001b[0m\u001b[1;32m      5\u001b[0m         \u001b[0;32mreturn\u001b[0m \u001b[0;36m100\u001b[0m \u001b[0;34m/\u001b[0m \u001b[0manumber\u001b[0m\u001b[0;34m\u001b[0m\u001b[0m\n\u001b[1;32m      6\u001b[0m     \u001b[0;32mexcept\u001b[0m \u001b[0mZeroDivisionError\u001b[0m\u001b[0;34m:\u001b[0m\u001b[0;34m\u001b[0m\u001b[0m\n",
      "\u001b[0;31mValueError\u001b[0m: 13 is an unlucky number"
     ]
    }
   ],
   "source": [
    "for val in ( 0, \"hello\", 50.0, 13 ):\n",
    "    print( \"Testing {}:\".format(val), end = \" \" )\n",
    "    print( funny_division3(val) )"
   ]
  },
  {
   "cell_type": "markdown",
   "metadata": {},
   "source": [
    "Another example adding `else` and `finally`."
   ]
  },
  {
   "cell_type": "code",
   "execution_count": 8,
   "metadata": {
    "collapsed": false
   },
   "outputs": [
    {
     "name": "stdout",
     "output_type": "stream",
     "text": [
      "raising None\n",
      "This code called if there is no exception\n",
      "This cleanup code is always called\n"
     ]
    }
   ],
   "source": [
    "import numpy as np\n",
    "some_exceptions = [ValueError, TypeError, IndexError, None]\n",
    "\n",
    "try:\n",
    "    choice = np.random.choice(some_exceptions)\n",
    "    print(\"raising {}\".format(choice))\n",
    "    if choice:\n",
    "        raise choice(\"An error\")\n",
    "except ValueError:\n",
    "    print(\"Caught a ValueError\")\n",
    "except TypeError:\n",
    "    print(\"Caught a TypeError\")\n",
    "except Exception as e: # the more generic exception comes later\n",
    "    print(\"Caught some other error: %s\" % ( e.__class__.__name__ ) )\n",
    "else:\n",
    "    print(\"This code called if there is no exception\")\n",
    "finally:\n",
    "    print(\"This cleanup code is always called\") # is called no matter what, even if try is a return"
   ]
  },
  {
   "cell_type": "markdown",
   "metadata": {},
   "source": [
    "When no exception is raised, the `else` statement may seem a bit redundant.\n",
    "\n",
    "## Defining our own Exception\n",
    "\n",
    "We just need to inherit our exception by inheriting the `Exception` class. The `Exception`'s `__init__` method is designed to accept any arguments and store them as a tuple in an attribute named `args`."
   ]
  },
  {
   "cell_type": "code",
   "execution_count": 9,
   "metadata": {
    "collapsed": false
   },
   "outputs": [
    {
     "ename": "InvalidWithdrawal",
     "evalue": "You don't have $50 in your account",
     "output_type": "error",
     "traceback": [
      "\u001b[0;31m---------------------------------------------------------------------------\u001b[0m",
      "\u001b[0;31mInvalidWithdrawal\u001b[0m                         Traceback (most recent call last)",
      "\u001b[0;32m<ipython-input-9-5e11a230b7d5>\u001b[0m in \u001b[0;36m<module>\u001b[0;34m()\u001b[0m\n\u001b[1;32m      1\u001b[0m \u001b[0;32mclass\u001b[0m \u001b[0mInvalidWithdrawal\u001b[0m\u001b[0;34m(\u001b[0m\u001b[0mException\u001b[0m\u001b[0;34m)\u001b[0m\u001b[0;34m:\u001b[0m\u001b[0;34m\u001b[0m\u001b[0m\n\u001b[1;32m      2\u001b[0m     \u001b[0;32mpass\u001b[0m\u001b[0;34m\u001b[0m\u001b[0m\n\u001b[0;32m----> 3\u001b[0;31m \u001b[0;32mraise\u001b[0m \u001b[0mInvalidWithdrawal\u001b[0m\u001b[0;34m(\u001b[0m\u001b[0;34m\"You don't have $50 in your account\"\u001b[0m\u001b[0;34m)\u001b[0m\u001b[0;34m\u001b[0m\u001b[0m\n\u001b[0m",
      "\u001b[0;31mInvalidWithdrawal\u001b[0m: You don't have $50 in your account"
     ]
    }
   ],
   "source": [
    "class InvalidWithdrawal(Exception):\n",
    "    pass\n",
    "raise InvalidWithdrawal(\"You don't have $50 in your account\")"
   ]
  },
  {
   "cell_type": "markdown",
   "metadata": {},
   "source": [
    "But we can still override it."
   ]
  },
  {
   "cell_type": "code",
   "execution_count": 10,
   "metadata": {
    "collapsed": false
   },
   "outputs": [
    {
     "name": "stdout",
     "output_type": "stream",
     "text": [
      "I'm sorry, but your withdrawal is more than your balance by $25\n"
     ]
    }
   ],
   "source": [
    "class InvalidWithdrawal(Exception):\n",
    "    def __init__(self, balance, amount):\n",
    "        super().__init__( \"account doesn't have ${}\".format(amount) )\n",
    "        self.amount = amount\n",
    "        self.balance = balance\n",
    "    \n",
    "    def overage(self):\n",
    "        return self.amount - self.balance\n",
    "\n",
    "try:\n",
    "    raise InvalidWithdrawal(25, 50)\n",
    "except InvalidWithdrawal as e: # common to name the exception variable as `e` \n",
    "    print( \"I'm sorry, but your withdrawal is \"\n",
    "           \"more than your balance by \"\n",
    "           \"${}\".format( e.overage() ) )"
   ]
  },
  {
   "cell_type": "markdown",
   "metadata": {},
   "source": [
    "We can use `except` as an programming workflow instead of writing if ... else ...\n",
    "\n",
    "## Use Cases\n",
    "\n",
    "[hashlib](http://www.bogotobogo.com/python/python_hash_tables_hashing_dictionary_associated_arrays.php)"
   ]
  },
  {
   "cell_type": "code",
   "execution_count": null,
   "metadata": {
    "collapsed": true
   },
   "outputs": [],
   "source": [
    "# use to hash string to encrypt passwords\n",
    "import hashlib"
   ]
  },
  {
   "cell_type": "code",
   "execution_count": null,
   "metadata": {
    "collapsed": false
   },
   "outputs": [],
   "source": [
    "string1 = 'a'.encode('utf8')\n",
    "string2 = 'a'.encode('utf8')\n",
    "print( hashlib.sha512(string1).hexdigest() == hashlib.sha512(string2).hexdigest() )"
   ]
  },
  {
   "cell_type": "code",
   "execution_count": null,
   "metadata": {
    "collapsed": true
   },
   "outputs": [],
   "source": [
    "from importlib import reload"
   ]
  },
  {
   "cell_type": "code",
   "execution_count": null,
   "metadata": {
    "collapsed": false
   },
   "outputs": [],
   "source": [
    "reload(auth)"
   ]
  },
  {
   "cell_type": "code",
   "execution_count": 11,
   "metadata": {
    "collapsed": false
   },
   "outputs": [],
   "source": [
    "import auth\n",
    "from editor import Editor"
   ]
  },
  {
   "cell_type": "code",
   "execution_count": 12,
   "metadata": {
    "collapsed": true
   },
   "outputs": [],
   "source": [
    "auth.authenticator.add_user(\"joe\", \"joepassword\")\n",
    "auth.authorizor.add_permission(\"test program\")\n",
    "auth.authorizor.add_permission(\"change program\")\n",
    "auth.authorizor.permit_user(\"test program\", \"joe\")"
   ]
  },
  {
   "cell_type": "code",
   "execution_count": 13,
   "metadata": {
    "collapsed": false
   },
   "outputs": [
    {
     "name": "stdout",
     "output_type": "stream",
     "text": [
      "\n",
      "\t\t\t\t\tPlease enter a command:\n",
      "\t\t\t\t\t\tlogin\tLogin\n",
      "\t\t\t\t\t\ttest\tTest the program\n",
      "\t\t\t\t\t\tchange\tChange the program\n",
      "\t\t\t\t\t\tquit\tQuit\n",
      "\t\t\t\t\t\n",
      "enter a command: test\n",
      "None is not logged in\n",
      "\n",
      "\t\t\t\t\tPlease enter a command:\n",
      "\t\t\t\t\t\tlogin\tLogin\n",
      "\t\t\t\t\t\ttest\tTest the program\n",
      "\t\t\t\t\t\tchange\tChange the program\n",
      "\t\t\t\t\t\tquit\tQuit\n",
      "\t\t\t\t\t\n",
      "enter a command: login\n",
      "username:hi\n",
      "passwordhi\n",
      "Sorry, that username does not exist\n",
      "username:joe\n",
      "passwordjoepassword\n",
      "\n",
      "\t\t\t\t\tPlease enter a command:\n",
      "\t\t\t\t\t\tlogin\tLogin\n",
      "\t\t\t\t\t\ttest\tTest the program\n",
      "\t\t\t\t\t\tchange\tChange the program\n",
      "\t\t\t\t\t\tquit\tQuit\n",
      "\t\t\t\t\t\n",
      "enter a command: test\n",
      "Testing program now...\n",
      "\n",
      "\t\t\t\t\tPlease enter a command:\n",
      "\t\t\t\t\t\tlogin\tLogin\n",
      "\t\t\t\t\t\ttest\tTest the program\n",
      "\t\t\t\t\t\tchange\tChange the program\n",
      "\t\t\t\t\t\tquit\tQuit\n",
      "\t\t\t\t\t\n",
      "enter a command: change\n",
      "joe cannot change program\n",
      "\n",
      "\t\t\t\t\tPlease enter a command:\n",
      "\t\t\t\t\t\tlogin\tLogin\n",
      "\t\t\t\t\t\ttest\tTest the program\n",
      "\t\t\t\t\t\tchange\tChange the program\n",
      "\t\t\t\t\t\tquit\tQuit\n",
      "\t\t\t\t\t\n",
      "enter a command: quit\n",
      "Thank you for testing the auth module\n"
     ]
    },
    {
     "ename": "SystemExit",
     "evalue": "",
     "output_type": "error",
     "traceback": [
      "An exception has occurred, use %tb to see the full traceback.\n",
      "\u001b[0;31mSystemExit\u001b[0m\n"
     ]
    },
    {
     "name": "stderr",
     "output_type": "stream",
     "text": [
      "To exit: use 'exit', 'quit', or Ctrl-D.\n"
     ]
    }
   ],
   "source": [
    "Editor().menu()"
   ]
  }
 ],
 "metadata": {
  "kernelspec": {
   "display_name": "Python 3",
   "language": "python",
   "name": "python3"
  },
  "language_info": {
   "codemirror_mode": {
    "name": "ipython",
    "version": 3
   },
   "file_extension": ".py",
   "mimetype": "text/x-python",
   "name": "python",
   "nbconvert_exporter": "python",
   "pygments_lexer": "ipython3",
   "version": "3.5.1"
  }
 },
 "nbformat": 4,
 "nbformat_minor": 0
}
