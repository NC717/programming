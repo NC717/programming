{
 "cells": [
  {
   "cell_type": "markdown",
   "metadata": {},
   "source": [
    "## When to Use OOP\n",
    "\n",
    "1. objects are things that have both data and behavior.\n",
    "2. Use inheritance and composition for reducing code duplication.\n",
    "3. property, __str__."
   ]
  },
  {
   "cell_type": "code",
   "execution_count": 1,
   "metadata": {
    "collapsed": true
   },
   "outputs": [],
   "source": [
    "import math\n",
    "\n",
    "def distance(p1, p2):\n",
    "    return math.sqrt((p1[0]-p2[0])**2 + (p1[1]-p2[1])**2)\n",
    "\n",
    "def perimeter(polygon):\n",
    "    perimeter = 0\n",
    "    points = polygon + [polygon[0]]\n",
    "    for i in range(len(polygon)):\n",
    "        perimeter += distance(points[i], points[i+1])\n",
    "    return perimeter"
   ]
  },
  {
   "cell_type": "code",
   "execution_count": 2,
   "metadata": {
    "collapsed": false
   },
   "outputs": [
    {
     "data": {
      "text/plain": [
       "4.0"
      ]
     },
     "execution_count": 2,
     "metadata": {},
     "output_type": "execute_result"
    }
   ],
   "source": [
    "square = [(1,1), (1,2), (2,2), (2,1)]\n",
    "perimeter(square)"
   ]
  },
  {
   "cell_type": "code",
   "execution_count": 3,
   "metadata": {
    "collapsed": true
   },
   "outputs": [],
   "source": [
    "class Point(object):\n",
    "    def __init__(self, x, y):\n",
    "        self.x = x\n",
    "        self.y = y\n",
    "        \n",
    "    def distance(self, p2):\n",
    "        return math.sqrt((self.x-p2.x)**2 + (self.y-p2.y)**2)\n",
    "\n",
    "class Polygon(object):\n",
    "    def __init__(self):\n",
    "        self.vertices = []\n",
    "        \n",
    "    def add_point(self, point):\n",
    "        self.vertices.append(point)\n",
    "        \n",
    "    def perimeter(self):\n",
    "        perimeter = 0\n",
    "        points = self.vertices + [self.vertices[0]]\n",
    "        for i in range(len(self.vertices)):\n",
    "            perimeter += points[i].distance(points[i+1])\n",
    "        return perimeter"
   ]
  },
  {
   "cell_type": "code",
   "execution_count": 4,
   "metadata": {
    "collapsed": false
   },
   "outputs": [
    {
     "data": {
      "text/plain": [
       "4.0"
      ]
     },
     "execution_count": 4,
     "metadata": {},
     "output_type": "execute_result"
    }
   ],
   "source": [
    "square1 = Polygon()\n",
    "square1.add_point(Point(1,1))\n",
    "square1.add_point(Point(1,2))\n",
    "square1.add_point(Point(2,2))\n",
    "square1.add_point(Point(2,1))\n",
    "square1.perimeter()"
   ]
  },
  {
   "cell_type": "markdown",
   "metadata": {},
   "source": [
    "Despite the fact that the object-oriented code is longer, but it is actually self-documenting. All we have to do is alter our Polygon API so that it can be constructed with multiple points."
   ]
  },
  {
   "cell_type": "code",
   "execution_count": 5,
   "metadata": {
    "collapsed": true
   },
   "outputs": [],
   "source": [
    "class Polygon(object):\n",
    "    \n",
    "    def __init__( self, points = [] ):\n",
    "        self.vertices = []\n",
    "        # loop through the list and ensures that any tuples are converted to points\n",
    "        for point in points:\n",
    "            if isinstance( point, tuple ):\n",
    "                point = Point(*point)\n",
    "            self.vertices.append(point)\n",
    "        \n",
    "    def perimeter(self):\n",
    "        perimeter = 0\n",
    "        points = self.vertices + [self.vertices[0]]\n",
    "        for i in range(len(self.vertices)):\n",
    "            perimeter += points[i].distance(points[i+1])\n",
    "        return perimeter"
   ]
  },
  {
   "cell_type": "code",
   "execution_count": 6,
   "metadata": {
    "collapsed": false
   },
   "outputs": [
    {
     "data": {
      "text/plain": [
       "4.0"
      ]
     },
     "execution_count": 6,
     "metadata": {},
     "output_type": "execute_result"
    }
   ],
   "source": [
    "square2 = Polygon( points = square )\n",
    "square2.perimeter()"
   ]
  },
  {
   "cell_type": "markdown",
   "metadata": {},
   "source": [
    "## Property\n",
    "\n",
    "In java, use get and set for accessing private variables."
   ]
  },
  {
   "cell_type": "code",
   "execution_count": 7,
   "metadata": {
    "collapsed": true
   },
   "outputs": [],
   "source": [
    "class Color(object):\n",
    "    \n",
    "    def __init__( self, rgb_value, name ):\n",
    "        self._rgb_value = rgb_value\n",
    "        self._name = name\n",
    "    \n",
    "    def set_name( self, name ):\n",
    "           self._name = name\n",
    "    \n",
    "    def get_name(self):\n",
    "        return self._name"
   ]
  },
  {
   "cell_type": "code",
   "execution_count": 8,
   "metadata": {
    "collapsed": false
   },
   "outputs": [
    {
     "name": "stdout",
     "output_type": "stream",
     "text": [
      "bright red\n",
      "red\n"
     ]
    }
   ],
   "source": [
    "c = Color(\"#ff0000\", \"bright red\")\n",
    "print( c.get_name() )\n",
    "c.set_name(\"red\")\n",
    "print( c.get_name() )"
   ]
  },
  {
   "cell_type": "code",
   "execution_count": 9,
   "metadata": {
    "collapsed": false
   },
   "outputs": [],
   "source": [
    "class Color(object):\n",
    "    def __init__(self, rgb_value, name):\n",
    "        self.rgb_value = rgb_value\n",
    "        self._name = name\n",
    "    \n",
    "    def _set_name(self, name):\n",
    "        if not name:\n",
    "            raise Exception(\"Invalid Name\")\n",
    "        self._name = name\n",
    "    \n",
    "    def _get_name(self):\n",
    "        return self._name\n",
    "    \n",
    "    name = property(_get_name, _set_name)"
   ]
  },
  {
   "cell_type": "code",
   "execution_count": 10,
   "metadata": {
    "collapsed": false
   },
   "outputs": [],
   "source": [
    "c = Color(\"#0000ff\", \"bright red\")\n",
    "# c.name = '' # Exception: Invalid Name"
   ]
  },
  {
   "cell_type": "markdown",
   "metadata": {},
   "source": [
    "`property` is a keyword function that serves as a proxy to access, set the variable."
   ]
  },
  {
   "cell_type": "code",
   "execution_count": 11,
   "metadata": {
    "collapsed": true
   },
   "outputs": [],
   "source": [
    "class Silly(object):\n",
    "    def _get_silly(self):\n",
    "        print(\"You are getting silly\")\n",
    "        return self._silly\n",
    "    \n",
    "    def _set_silly(self, value):\n",
    "        print(\"You are making silly {}\".format(value))\n",
    "        self._silly = value\n",
    "    \n",
    "    def _del_silly(self):\n",
    "        print(\"Whoah, you killed silly!\")\n",
    "        del self._silly\n",
    "    # you can add a del method and a docstring for the property\n",
    "    # though normally, properties are defined only with the first two parameters\n",
    "    # and the docstring the defined in the getter\n",
    "    silly = property( _get_silly, _set_silly, _del_silly, \"This is a silly property\" )"
   ]
  },
  {
   "cell_type": "code",
   "execution_count": 12,
   "metadata": {
    "collapsed": false
   },
   "outputs": [
    {
     "name": "stdout",
     "output_type": "stream",
     "text": [
      "You are making silly funny\n",
      "You are getting silly\n"
     ]
    },
    {
     "data": {
      "text/plain": [
       "'funny'"
      ]
     },
     "execution_count": 12,
     "metadata": {},
     "output_type": "execute_result"
    }
   ],
   "source": [
    "s = Silly()\n",
    "s.silly = \"funny\"\n",
    "s.silly"
   ]
  },
  {
   "cell_type": "markdown",
   "metadata": {},
   "source": [
    "Using the property's decorator. Decorator is used to modify functions dynamically by passing them as arguments to other functions."
   ]
  },
  {
   "cell_type": "code",
   "execution_count": 13,
   "metadata": {
    "collapsed": true
   },
   "outputs": [],
   "source": [
    "class Foo(object):\n",
    "    \n",
    "    @property\n",
    "    def foo(self):\n",
    "        return self._foo\n",
    "    \n",
    "    @foo.setter\n",
    "    def foo(self, value):\n",
    "        self._foo = value"
   ]
  },
  {
   "cell_type": "markdown",
   "metadata": {},
   "source": [
    "A common need for using property instead of simply defining a attribute is that we can invoke custom actions on it. This custom behavior is commonly needed for caching value that is difficult to calculate or expensive to look up (e.g. database query). The example below caches the network request.\n",
    "\n",
    "**You can use the time module to check the number of time that have elapsed and refresh the cached data.**"
   ]
  },
  {
   "cell_type": "code",
   "execution_count": 14,
   "metadata": {
    "collapsed": true
   },
   "outputs": [],
   "source": [
    "import time\n",
    "import requests"
   ]
  },
  {
   "cell_type": "code",
   "execution_count": 15,
   "metadata": {
    "collapsed": true
   },
   "outputs": [],
   "source": [
    "class WebPage(object):\n",
    "    \n",
    "    def __init__(self, url):\n",
    "        self.url = url\n",
    "        self._content = None\n",
    "    \n",
    "    @property\n",
    "    def content(self):\n",
    "        if not self._content:\n",
    "            print(\"Retrieving New Page...\")\n",
    "            # request api : use .get(url).content to obtain the content\n",
    "            self._content = requests.get(self.url).content\n",
    "        return self._content"
   ]
  },
  {
   "cell_type": "code",
   "execution_count": 16,
   "metadata": {
    "collapsed": false
   },
   "outputs": [
    {
     "name": "stdout",
     "output_type": "stream",
     "text": [
      "Retrieving New Page...\n",
      "18.597207069396973\n",
      "0.00010204315185546875\n"
     ]
    },
    {
     "data": {
      "text/plain": [
       "True"
      ]
     },
     "execution_count": 16,
     "metadata": {},
     "output_type": "execute_result"
    }
   ],
   "source": [
    "webpage = WebPage(\"http://ccphillips.net/\")\n",
    "now = time.time()\n",
    "content1 = webpage.content\n",
    "print(time.time() - now)\n",
    "now = time.time()\n",
    "content2 = webpage.content\n",
    "print(time.time() - now)\n",
    "content2 == content1"
   ]
  },
  {
   "cell_type": "markdown",
   "metadata": {},
   "source": [
    "Custom getters are also useful for attributes that need to be calculated on the fly. It can be a method though."
   ]
  },
  {
   "cell_type": "code",
   "execution_count": 17,
   "metadata": {
    "collapsed": false
   },
   "outputs": [
    {
     "data": {
      "text/plain": [
       "2.5"
      ]
     },
     "execution_count": 17,
     "metadata": {},
     "output_type": "execute_result"
    }
   ],
   "source": [
    "class AverageList(list):\n",
    "    @property\n",
    "    def average(self):\n",
    "        return sum(self) / len(self)\n",
    "a = AverageList([1,2,3,4])\n",
    "a.average"
   ]
  },
  {
   "cell_type": "markdown",
   "metadata": {},
   "source": [
    "## Managing Objects\n",
    "\n",
    "Avoid duplicated code since you'll have to update both sections whenever you update one of them."
   ]
  },
  {
   "cell_type": "code",
   "execution_count": 18,
   "metadata": {
    "collapsed": true
   },
   "outputs": [],
   "source": [
    "from managing import ZipReplace\n",
    "foldername = 'hello.zip'\n",
    "zip_replace = ZipReplace( foldername, search_string = 'hello', replace_string = 'hi' )\n",
    "zip_replace.zip_find_replace()"
   ]
  },
  {
   "cell_type": "markdown",
   "metadata": {},
   "source": [
    "Change the code so that it'll be easier for us to write other classes that operate on files in a ZIP archive."
   ]
  },
  {
   "cell_type": "code",
   "execution_count": 19,
   "metadata": {
    "collapsed": false
   },
   "outputs": [],
   "source": [
    "from zip_preprocessor import ZipReplace\n",
    "zip_replace = ZipReplace( filename = 'hello.zip', search_string = 'hello', replace_string = 'hi' )\n",
    "zip_replace.process_zip()"
   ]
  },
  {
   "cell_type": "markdown",
   "metadata": {},
   "source": [
    "## Case Study"
   ]
  },
  {
   "cell_type": "code",
   "execution_count": 28,
   "metadata": {
    "collapsed": false
   },
   "outputs": [
    {
     "data": {
      "text/plain": [
       "<module 'document' from '/Users/ethen/Desktop/OOP/chapter5_when_to_use/document.py'>"
      ]
     },
     "execution_count": 28,
     "metadata": {},
     "output_type": "execute_result"
    }
   ],
   "source": [
    "from importlib import reload\n",
    "# reload(doc)"
   ]
  },
  {
   "cell_type": "code",
   "execution_count": 29,
   "metadata": {
    "collapsed": true
   },
   "outputs": [],
   "source": [
    "import document as doc\n",
    "from document import Character\n",
    "d = doc.Document()"
   ]
  },
  {
   "cell_type": "code",
   "execution_count": 30,
   "metadata": {
    "collapsed": false
   },
   "outputs": [
    {
     "name": "stdout",
     "output_type": "stream",
     "text": [
      "he*l*lo\n",
      "*/w/o_rld\n"
     ]
    }
   ],
   "source": [
    "d.insert('h')\n",
    "d.insert('e')\n",
    "d.insert(Character('l', bold=True))\n",
    "d.insert(Character('l', bold=True))\n",
    "d.insert('o')\n",
    "d.insert('\\n')\n",
    "d.insert(Character('w', italic=True))\n",
    "d.insert(Character('o', italic=True))\n",
    "d.insert(Character('r', underline=True))\n",
    "d.insert('l')\n",
    "d.insert('d')\n",
    "print(d.string)"
   ]
  },
  {
   "cell_type": "code",
   "execution_count": 31,
   "metadata": {
    "collapsed": false
   },
   "outputs": [
    {
     "name": "stdout",
     "output_type": "stream",
     "text": [
      "he*l*lo\n",
      "W/w/o_rld\n"
     ]
    }
   ],
   "source": [
    "d.cursor.home()\n",
    "d.delete()\n",
    "d.insert('W')\n",
    "print(d.string)"
   ]
  },
  {
   "cell_type": "markdown",
   "metadata": {},
   "source": [
    "`isinstance` will also return true if the object is inherited from Document, while `type` will only checks if d object is Document type."
   ]
  },
  {
   "cell_type": "code",
   "execution_count": 26,
   "metadata": {
    "collapsed": false
   },
   "outputs": [
    {
     "name": "stdout",
     "output_type": "stream",
     "text": [
      "True\n",
      "True\n"
     ]
    }
   ],
   "source": [
    "print( isinstance( d, doc.Document ) )\n",
    "print( type(d) == doc.Document )"
   ]
  },
  {
   "cell_type": "markdown",
   "metadata": {},
   "source": [
    "[Youtube video](https://www.youtube.com/watch?v=x3v9zMX1s4s) on duck typing and the concept of it's easier to ask for forgiveness than permission (EAFP). In short, just do whatever you're going to do instead of going through a bunch of sanity checks, then simply capture the error if it is to occur and deal with it.\n",
    "\n",
    "To check if an python object has an attribute or not. The general practice is that, if the property is likely to be there most of the time, simply call it and either let the exception propagate, or trap it with a try/except block. This will likely be faster than hasattr. If the property is likely to not be there most of the time, or you're not sure, using `hasattr` will probably be faster than repeatedly falling into an exception block. Referenced from [StackOverflow](http://stackoverflow.com/questions/610883/how-to-know-if-an-object-has-an-attribute-in-python/610923#610923)."
   ]
  }
 ],
 "metadata": {
  "kernelspec": {
   "display_name": "Python 3",
   "language": "python",
   "name": "python3"
  },
  "language_info": {
   "codemirror_mode": {
    "name": "ipython",
    "version": 3
   },
   "file_extension": ".py",
   "mimetype": "text/x-python",
   "name": "python",
   "nbconvert_exporter": "python",
   "pygments_lexer": "ipython3",
   "version": "3.5.1"
  }
 },
 "nbformat": 4,
 "nbformat_minor": 0
}
