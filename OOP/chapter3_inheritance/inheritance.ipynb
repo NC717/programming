{
 "cells": [
  {
   "cell_type": "markdown",
   "metadata": {},
   "source": [
    "# Chapter3 When Objects are Alike\n",
    "\n",
    "Covering:\n",
    "1. Inheritance\n",
    "2. Extending built-in classes\n",
    "\n",
    "A **superclass**, or parent class is a class that is being inherited from. A **subclass** is a class that is inheriting / derived / from or extends the superclass. In the following case, `object` **superclass** and `MySubClass` is the **subclass**."
   ]
  },
  {
   "cell_type": "code",
   "execution_count": 1,
   "metadata": {
    "collapsed": true
   },
   "outputs": [],
   "source": [
    "class MySubClass(object):\n",
    "    pass"
   ]
  },
  {
   "cell_type": "markdown",
   "metadata": {},
   "source": [
    "The most obvious use of inheritance is to add functionality to an existing class."
   ]
  },
  {
   "cell_type": "code",
   "execution_count": 2,
   "metadata": {
    "collapsed": true
   },
   "outputs": [],
   "source": [
    "# track name and e-mail for our contacts\n",
    "class Contact(object):\n",
    "\n",
    "    all_contacts = []\n",
    "    \n",
    "    def __init__( self, name, email ):\n",
    "        self.name = name\n",
    "        self.email = email\n",
    "        # whenever we created a new contact, it will\n",
    "        # be added to the list\n",
    "        Contact.all_contacts.append(self)"
   ]
  },
  {
   "cell_type": "markdown",
   "metadata": {},
   "source": [
    "`all_contacts` is a **class variables**. This variable is shared by all instances of this class meaning that there is only one `Contact.all_contacts list`. Note that we called `self.all_contacts`, this will then create a new instance variable on the object."
   ]
  },
  {
   "cell_type": "code",
   "execution_count": 3,
   "metadata": {
    "collapsed": false
   },
   "outputs": [],
   "source": [
    "# inherit from Contact class, but has an additional method order\n",
    "class Supplier(Contact):\n",
    "    def order( self, order ):\n",
    "        print( \"send {} order to {}\".format( order, self.name ) )"
   ]
  },
  {
   "cell_type": "code",
   "execution_count": 4,
   "metadata": {
    "collapsed": false
   },
   "outputs": [
    {
     "name": "stdout",
     "output_type": "stream",
     "text": [
      "Some Body somebody@example.net Sup Plier supplier@example.net\n",
      "[<__main__.Contact object at 0x10717e2b0>, <__main__.Supplier object at 0x10717e278>]\n"
     ]
    }
   ],
   "source": [
    "c = Contact(  name = \"Some Body\", email = \"somebody@example.net\" )\n",
    "s = Supplier( name = \"Sup Plier\", email = \"supplier@example.net\" )\n",
    "print(c.name, c.email, s.name, s.email)\n",
    "print(c.all_contacts)"
   ]
  },
  {
   "cell_type": "code",
   "execution_count": 5,
   "metadata": {
    "collapsed": false
   },
   "outputs": [
    {
     "name": "stdout",
     "output_type": "stream",
     "text": [
      "send I need pliers order to Sup Plier\n"
     ]
    }
   ],
   "source": [
    "s.order(\"I need pliers\")"
   ]
  },
  {
   "cell_type": "markdown",
   "metadata": {},
   "source": [
    "The `Supplier` can do everything the `Contact` can do and all the other additional methods that it needs.\n",
    "\n",
    "## Extending Built-In\n",
    "\n",
    "If we want to search the contact list by name, instead by adding a method to the `Contact` class, we can add the method on the list itself."
   ]
  },
  {
   "cell_type": "code",
   "execution_count": 6,
   "metadata": {
    "collapsed": true
   },
   "outputs": [],
   "source": [
    "# [] is equivalent to list()\n",
    "class ContactList(list):\n",
    "    def search( self, name ):\n",
    "        matching_contacts = []\n",
    "        for contact in self:\n",
    "            if name in contact.name:\n",
    "                matching_contacts.append(contact)\n",
    "        return matching_contacts\n",
    "\n",
    "class Contact1(object):\n",
    "    all_contacts = ContactList()\n",
    "    \n",
    "    def __init__( self, name, email ):\n",
    "        self.name = name\n",
    "        self.email = email\n",
    "        Contact1.all_contacts.append(self)"
   ]
  },
  {
   "cell_type": "code",
   "execution_count": 7,
   "metadata": {
    "collapsed": false
   },
   "outputs": [
    {
     "data": {
      "text/plain": [
       "[<__main__.Contact1 at 0x10717e128>,\n",
       " <__main__.Contact1 at 0x10717e160>,\n",
       " <__main__.Contact1 at 0x10717e1d0>]"
      ]
     },
     "execution_count": 7,
     "metadata": {},
     "output_type": "execute_result"
    }
   ],
   "source": [
    "c1 = Contact1(\"John A\", \"johna@example.net\")\n",
    "c2 = Contact1(\"John B\", \"johnb@example.net\")\n",
    "c3 = Contact1(\"Jenna C\", \"jennac@example.net\")\n",
    "c1.all_contacts"
   ]
  },
  {
   "cell_type": "code",
   "execution_count": 8,
   "metadata": {
    "collapsed": false
   },
   "outputs": [
    {
     "data": {
      "text/plain": [
       "['John A', 'John B']"
      ]
     },
     "execution_count": 8,
     "metadata": {},
     "output_type": "execute_result"
    }
   ],
   "source": [
    "[ c.name for c in Contact1.all_contacts.search('John') ]"
   ]
  },
  {
   "cell_type": "markdown",
   "metadata": {},
   "source": [
    "Most built-in types can be similarly extended. Commonly extended built-ins are object, list, set, dict, file, and str. Numerical types such as int and float are also occasionally inherited from. Another example extending dicts."
   ]
  },
  {
   "cell_type": "code",
   "execution_count": 9,
   "metadata": {
    "collapsed": false
   },
   "outputs": [
    {
     "data": {
      "text/plain": [
       "'longest yet'"
      ]
     },
     "execution_count": 9,
     "metadata": {},
     "output_type": "execute_result"
    }
   ],
   "source": [
    "class LongNameDict(dict):\n",
    "    def longest_key(self):\n",
    "        longest = None\n",
    "        for key in self:\n",
    "            if not longest or len(key) > len(longest):\n",
    "                longest = key\n",
    "        return longest\n",
    "\n",
    "longkeys = LongNameDict()\n",
    "longkeys['hello'] = 1\n",
    "longkeys['longest yet'] = 5\n",
    "longkeys['hello2'] = 'world'\n",
    "longkeys.longest_key() "
   ]
  },
  {
   "cell_type": "markdown",
   "metadata": {},
   "source": [
    "## Overriding and super\n",
    "\n",
    "Our `Contact` class allows only a name and an e-mail, if we want to have a third attribute during the initialization, we can override `__init__`."
   ]
  },
  {
   "cell_type": "code",
   "execution_count": 10,
   "metadata": {
    "collapsed": false
   },
   "outputs": [],
   "source": [
    "class Friend(Contact):\n",
    "    def __init__( self, name, email, phone ):\n",
    "        self.name  = name\n",
    "        self.email = email\n",
    "        self.phone = phone"
   ]
  },
  {
   "cell_type": "markdown",
   "metadata": {},
   "source": [
    "But doing it this way makes it hard to maintain as our `Contact` and `Friend` class have duplicated code to set up the `name` and `email` property. Thus we can change the above to using the `super()` function, which returns the object as an instance of the parent class."
   ]
  },
  {
   "cell_type": "code",
   "execution_count": 11,
   "metadata": {
    "collapsed": true
   },
   "outputs": [],
   "source": [
    "class Friend(Contact):\n",
    "    def __init__( self, name, email, phone ):\n",
    "        # We can use super() in any other places we want instead of just in __init__\n",
    "        super().__init__( name, email )\n",
    "        self.phone = phone"
   ]
  },
  {
   "cell_type": "markdown",
   "metadata": {},
   "source": [
    "## Multiple Inheritance\n",
    "\n",
    "Use cases: a superclass that is not meant to exist on its own, but is meant to be inherited by some other class to provide extra functionality."
   ]
  },
  {
   "cell_type": "code",
   "execution_count": 12,
   "metadata": {
    "collapsed": true
   },
   "outputs": [],
   "source": [
    "class MailSender(object):\n",
    "    def send_mail( self, message ):\n",
    "        print( 'Sending mail to ' + self.email )\n",
    "\n",
    "class EmailableContact( Contact1, MailSender ):\n",
    "    pass"
   ]
  },
  {
   "cell_type": "code",
   "execution_count": 13,
   "metadata": {
    "collapsed": false
   },
   "outputs": [
    {
     "name": "stdout",
     "output_type": "stream",
     "text": [
      "Sending mail to jsmith@example.net\n",
      "None\n"
     ]
    }
   ],
   "source": [
    "e = EmailableContact(\"John Smith\", \"jsmith@example.net\")\n",
    "print( e.send_mail(\"Hello, test e-mail here\") )"
   ]
  },
  {
   "cell_type": "markdown",
   "metadata": {},
   "source": [
    "Another example. We define a `AddressHolder` to hold addresses and we can later use it to create other entities such as companies and buildings."
   ]
  },
  {
   "cell_type": "code",
   "execution_count": 14,
   "metadata": {
    "collapsed": true
   },
   "outputs": [],
   "source": [
    "class AddressHolder(object):\n",
    "    def __init__( self, street, city, state, code ):\n",
    "        self.street = street\n",
    "        self.city   = city\n",
    "        self.state  = state\n",
    "        self.code   = code"
   ]
  },
  {
   "cell_type": "markdown",
   "metadata": {},
   "source": [
    "Using this with the `Friend` class. Since we're using multiple inheritance, an naive approach would be to directly call the `__init__` function of each superclass."
   ]
  },
  {
   "cell_type": "code",
   "execution_count": 15,
   "metadata": {
    "collapsed": true
   },
   "outputs": [],
   "source": [
    "class Friend( Contact1, AddressHolder ):\n",
    "    def __init__( self, name, email, phone,\n",
    "                  street, city, state, code ):\n",
    "        \n",
    "        Contact.__init__( self, name, email )\n",
    "        AddressHolder.__init__( self, street, city, state, code )\n",
    "        self.phone = phone"
   ]
  },
  {
   "cell_type": "markdown",
   "metadata": {},
   "source": [
    "The problem with this is the **diamond problem.** The `__init__` method from the `Friend` class first calls `__init__` on `Contact` which implicitly initializes the object superclass (remember, all classes derive from object). Friend then calls `__init__` on `AddressHolder`, which implicitly initializes the object superclass... again. The parent class has been set up twice. In this case, that's relatively harmless, but in some situations, it could spell disaster. Imagine trying to connect to a database twice for every request!\n",
    "\n",
    "We can illustrate the behavior using the following example."
   ]
  },
  {
   "cell_type": "code",
   "execution_count": 16,
   "metadata": {
    "collapsed": true
   },
   "outputs": [],
   "source": [
    "class BaseClass(object):\n",
    "    num_base_calls = 0\n",
    "    def call_me(self):\n",
    "        print(\"Calling method on Base Class\")\n",
    "        self.num_base_calls += 1\n",
    "\n",
    "class LeftSubclass(BaseClass):\n",
    "    num_left_calls = 0\n",
    "    def call_me(self):\n",
    "        BaseClass.call_me(self)\n",
    "        print(\"Calling method on Left Subclass\")\n",
    "        self.num_left_calls += 1\n",
    "\n",
    "class RightSubclass(BaseClass):\n",
    "    num_right_calls = 0\n",
    "    def call_me(self):\n",
    "        BaseClass.call_me(self)\n",
    "        print(\"Calling method on Right Subclass\")\n",
    "        self.num_right_calls += 1\n",
    "\n",
    "class Subclass(LeftSubclass, RightSubclass):\n",
    "    num_sub_calls = 0\n",
    "    def call_me(self):\n",
    "        LeftSubclass.call_me(self)\n",
    "        RightSubclass.call_me(self) \n",
    "        print(\"Calling method on Subclass\") \n",
    "        self.num_sub_calls += 1"
   ]
  },
  {
   "cell_type": "code",
   "execution_count": 17,
   "metadata": {
    "collapsed": false
   },
   "outputs": [
    {
     "name": "stdout",
     "output_type": "stream",
     "text": [
      "Calling method on Base Class\n",
      "Calling method on Left Subclass\n",
      "Calling method on Base Class\n",
      "Calling method on Right Subclass\n",
      "Calling method on Subclass\n"
     ]
    }
   ],
   "source": [
    "s = Subclass()\n",
    "s.call_me()"
   ]
  },
  {
   "cell_type": "code",
   "execution_count": 18,
   "metadata": {
    "collapsed": false
   },
   "outputs": [
    {
     "name": "stdout",
     "output_type": "stream",
     "text": [
      "1 1 1 2\n"
     ]
    }
   ],
   "source": [
    "print(s.num_sub_calls, s.num_left_calls, s.num_right_calls, s.num_base_calls)"
   ]
  },
  {
   "cell_type": "markdown",
   "metadata": {},
   "source": [
    "We can see that the base class's `call_me` method has been called twice. Changing to use `super()`."
   ]
  },
  {
   "cell_type": "code",
   "execution_count": 19,
   "metadata": {
    "collapsed": true
   },
   "outputs": [],
   "source": [
    "class BaseClass1(object):\n",
    "    num_base_calls = 0\n",
    "    def call_me(self):\n",
    "        print(\"Calling method on Base Class\")\n",
    "        self.num_base_calls += 1\n",
    "    \n",
    "class LeftSubclass1(BaseClass1):\n",
    "    num_left_calls = 0\n",
    "    def call_me(self):\n",
    "        super().call_me()\n",
    "        print(\"Calling method on Left Subclass\")\n",
    "        self.num_left_calls += 1\n",
    "\n",
    "class RightSubclass1(BaseClass1):\n",
    "    num_right_calls = 0\n",
    "    def call_me(self):\n",
    "        super().call_me()\n",
    "        print(\"Calling method on Right Subclass\")\n",
    "        self.num_right_calls += 1\n",
    "\n",
    "class Subclass1( LeftSubclass1, RightSubclass1 ):\n",
    "    num_sub_calls = 0\n",
    "    def call_me(self):\n",
    "        super().call_me()\n",
    "        print(\"Calling method on Subclass\")\n",
    "        self.num_sub_calls += 1"
   ]
  },
  {
   "cell_type": "code",
   "execution_count": 20,
   "metadata": {
    "collapsed": false
   },
   "outputs": [
    {
     "name": "stdout",
     "output_type": "stream",
     "text": [
      "Calling method on Base Class\n",
      "Calling method on Right Subclass\n",
      "Calling method on Left Subclass\n",
      "Calling method on Subclass\n"
     ]
    }
   ],
   "source": [
    "s = Subclass1()\n",
    "s.call_me()"
   ]
  },
  {
   "cell_type": "code",
   "execution_count": 21,
   "metadata": {
    "collapsed": false
   },
   "outputs": [
    {
     "name": "stdout",
     "output_type": "stream",
     "text": [
      "1 1 1 1\n"
     ]
    }
   ],
   "source": [
    "print(s.num_sub_calls, s.num_left_calls, s.num_right_calls, s.num_base_calls)"
   ]
  },
  {
   "cell_type": "markdown",
   "metadata": {},
   "source": [
    "Each hierarchy is executed once. First `call_me` of `Subclass` calls `super().call_me()`, which happens to refer to `LeftSubclass.call_me()`. `LeftSubclass.call_me()` then calls `super().call_ me()`, but in this case, `super()` is referring to `RightSubclass.call_me()`. This is the next method, not the parent method.\n",
    "\n",
    "Thus for the `Friend` class, this will have to become the following ..................."
   ]
  },
  {
   "cell_type": "code",
   "execution_count": 22,
   "metadata": {
    "collapsed": true
   },
   "outputs": [],
   "source": [
    "class Contact2(object):\n",
    "    all_contacts = []\n",
    "    def __init__( self, name = '', email = '', **kwargs ): \n",
    "        super().__init__(**kwargs)\n",
    "        self.name = name\n",
    "        self.email = email \n",
    "        self.all_contacts.append(self)\n",
    "\n",
    "class AddressHolder(object):\n",
    "    def __init__( self, street = '', city = '', state = '', code = '', **kwargs ):\n",
    "        super().__init__(**kwargs)\n",
    "        self.street = street\n",
    "        self.city = city\n",
    "        self.state = state\n",
    "        self.code = code\n",
    "\n",
    "class Friend( Contact2, AddressHolder ):\n",
    "    def __init__( self, phone = '', **kwargs ): \n",
    "        super().__init__(**kwargs) \n",
    "        self.phone = phone"
   ]
  },
  {
   "cell_type": "markdown",
   "metadata": {},
   "source": [
    "**TakeAway: Multiple inheritance can be messy!!**\n",
    "\n",
    "## Polymorphism\n",
    "\n",
    "Different behaviors happen depending on which subclass is being used."
   ]
  },
  {
   "cell_type": "code",
   "execution_count": 23,
   "metadata": {
    "collapsed": true
   },
   "outputs": [],
   "source": [
    "class AudioFile(object):\n",
    "    \n",
    "    def __init__( self, filename ):\n",
    "        if not filename.endswith(self.ext): # access the ext variable in the subclass\n",
    "            raise Exception('invalid file format')\n",
    "        \n",
    "        self.filename = filename\n",
    "    \n",
    "class MP3File(AudioFile):\n",
    "    ext = 'mp3'   \n",
    "    def play(self):\n",
    "        print('playing {} as mp3'.format(self.filename) )\n",
    "        \n",
    "class WavFile(AudioFile):\n",
    "    ext = \"wav\"\n",
    "    def play(self):\n",
    "        print(\"playing {} as wav\".format(self.filename))\n",
    "\n",
    "class OggFile(AudioFile):\n",
    "    ext = \"ogg\"\n",
    "    def play(self):\n",
    "        print(\"playing {} as ogg\".format(self.filename))"
   ]
  },
  {
   "cell_type": "code",
   "execution_count": 26,
   "metadata": {
    "collapsed": false
   },
   "outputs": [],
   "source": [
    "mp3 = MP3File(\"myfile.mp3\")\n",
    "# not_an_mp3 = MP3File(\"myfile.ogg\")"
   ]
  }
 ],
 "metadata": {
  "kernelspec": {
   "display_name": "Python 3",
   "language": "python",
   "name": "python3"
  },
  "language_info": {
   "codemirror_mode": {
    "name": "ipython",
    "version": 3
   },
   "file_extension": ".py",
   "mimetype": "text/x-python",
   "name": "python",
   "nbconvert_exporter": "python",
   "pygments_lexer": "ipython3",
   "version": "3.5.1"
  }
 },
 "nbformat": 4,
 "nbformat_minor": 0
}
