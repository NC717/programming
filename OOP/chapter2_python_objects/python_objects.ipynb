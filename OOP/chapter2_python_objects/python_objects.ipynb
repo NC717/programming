{
 "cells": [
  {
   "cell_type": "markdown",
   "metadata": {},
   "source": [
    "# Chapter 2 Objects in Python\n",
    "\n",
    "Covering Basic class syntax:\n",
    "1. defining attributes and methods\n",
    "2. initializers\n",
    "3. modules and packages\n",
    "4. relative and absolute imports\n",
    "5. Access controls ( public, protected, private )\n",
    "\n",
    "## Basics"
   ]
  },
  {
   "cell_type": "code",
   "execution_count": 1,
   "metadata": {
    "collapsed": true
   },
   "outputs": [],
   "source": [
    "import math\n",
    "\n",
    "class Point:\n",
    "    \"\"\"Represents a point in two-dimensional geometric coordinates\"\"\"\n",
    "    \n",
    "    def __init__( self, x = 0, y = 0 ):\n",
    "        \"\"\"\n",
    "        initialize position of a new point, if the x and y coordinates\n",
    "        are not specified, the point defaults to the origin\n",
    "        \"\"\"\n",
    "        self.reset()\n",
    "    \n",
    "    def move( self, x, y ):\n",
    "        \"\"\"moves the point to a new location in two-dimensional space\"\"\"\n",
    "        self.x = x\n",
    "        self.y = y\n",
    "        \n",
    "    # reset simply moves the point to a specific position\n",
    "    def reset(self):\n",
    "        self.move( 0, 0 )\n",
    "    \n",
    "    def calculate_distance( self, other_point ):\n",
    "        return math.sqrt( ( self.x - other_point.x ) ** 2 + ( self.y - other_point.y ) ** 2 )"
   ]
  },
  {
   "cell_type": "markdown",
   "metadata": {},
   "source": [
    "The `assert` function is a simple test tool and the program will fail if the statement is False."
   ]
  },
  {
   "cell_type": "code",
   "execution_count": 2,
   "metadata": {
    "collapsed": false
   },
   "outputs": [
    {
     "name": "stdout",
     "output_type": "stream",
     "text": [
      "5.0\n",
      "4.47213595499958\n",
      "0.0\n"
     ]
    }
   ],
   "source": [
    "point1 = Point()\n",
    "point2 = Point()\n",
    "\n",
    "point1.reset()\n",
    "point2.move( 5, 0 )\n",
    "print( point2.calculate_distance(point1) )\n",
    "assert( point2.calculate_distance(point1) == point1.calculate_distance(point2) )\n",
    "point1.move( 3, 4 )\n",
    "print( point1.calculate_distance(point2) )\n",
    "print( point1.calculate_distance(point1) )"
   ]
  },
  {
   "cell_type": "markdown",
   "metadata": {},
   "source": [
    "Write your docstrings and they will appear in the help method."
   ]
  },
  {
   "cell_type": "code",
   "execution_count": 3,
   "metadata": {
    "collapsed": false
   },
   "outputs": [
    {
     "name": "stdout",
     "output_type": "stream",
     "text": [
      "Help on class Point in module __main__:\n",
      "\n",
      "class Point(builtins.object)\n",
      " |  Represents a point in two-dimensional geometric coordinates\n",
      " |  \n",
      " |  Methods defined here:\n",
      " |  \n",
      " |  __init__(self, x=0, y=0)\n",
      " |      initialize position of a new point, if the x and y coordinates\n",
      " |      are not specified, the point defaults to the origin\n",
      " |  \n",
      " |  calculate_distance(self, other_point)\n",
      " |  \n",
      " |  move(self, x, y)\n",
      " |      moves the point to a new location in two-dimensional space\n",
      " |  \n",
      " |  reset(self)\n",
      " |      # reset simply moves the point to a specific position\n",
      " |  \n",
      " |  ----------------------------------------------------------------------\n",
      " |  Data descriptors defined here:\n",
      " |  \n",
      " |  __dict__\n",
      " |      dictionary for instance variables (if defined)\n",
      " |  \n",
      " |  __weakref__\n",
      " |      list of weak references to the object (if defined)\n",
      "\n"
     ]
    }
   ],
   "source": [
    "help(Point)"
   ]
  },
  {
   "cell_type": "markdown",
   "metadata": {},
   "source": [
    "## Import Module\n",
    "\n",
    "Modules are nothing more than `.py` files. As the project gets larger and larger, we may need a folder to hold all of the modules. A package is a collection of modules in a folder. The name of the package is the name of the folder. To tell python that that a folder is a package, we have to place a module name `__init__.py` in the folder.\n",
    "\n",
    "For example, to import the `Products class` from the `products.py module` in the `ecommerce package (folder)`."
   ]
  },
  {
   "cell_type": "code",
   "execution_count": 4,
   "metadata": {
    "collapsed": false
   },
   "outputs": [],
   "source": [
    "from ecommerce.products import Products"
   ]
  },
  {
   "cell_type": "markdown",
   "metadata": {},
   "source": [
    "When working with related modules in a package you can use relative imports. For example, when working with the `product.py` module and we want to work with the `Database class` from `database.py` module next to it ( in the same folder ). We can use a **period** up front during the import. And we can add multiple periods up front to move up the folder hierarchy."
   ]
  },
  {
   "cell_type": "code",
   "execution_count": 5,
   "metadata": {
    "collapsed": false
   },
   "outputs": [],
   "source": [
    "# use it when working in the products.py\n",
    "# from .database import Database"
   ]
  },
  {
   "cell_type": "markdown",
   "metadata": {},
   "source": [
    "In our example, we had an `ecommerce package` containing two modules named `database.py` and `products.py`. Suppose the `database` module contains a `db` variable that is accessed from a lot of places. It will be convenient if this could be imported as `import ecommerce.db` instead of `import ecommerce.database.db`.\n",
    "\n",
    "To do this we can add the line `from .database import db` in the `__init__.py` module that serves as an indicator that the folder is a python package. "
   ]
  },
  {
   "cell_type": "markdown",
   "metadata": {},
   "source": [
    "Every python module has a `__name__` special variable that specifies the name of the module when it is imported, but when the module is executed directly within its own module, it is never imported and the `__name__` special variable is set to the string `__main__`. On the other hand, if the module is being imported the, `__name__` of that module will be the module's name. It's useful to wrap all your scripts inside `if __name__ == '__main__':` so you can easily import the module to be used by other code someday. \n",
    "\n",
    "Reference: [Youtube](https://www.youtube.com/watch?v=sugvnHA7ElY)"
   ]
  },
  {
   "cell_type": "code",
   "execution_count": 6,
   "metadata": {
    "collapsed": false
   },
   "outputs": [
    {
     "name": "stdout",
     "output_type": "stream",
     "text": [
      "1\n"
     ]
    }
   ],
   "source": [
    "if __name__ == '__main__':\n",
    "    print(1)"
   ]
  },
  {
   "cell_type": "markdown",
   "metadata": {},
   "source": [
    "Class can be defined inside the function scope, in this case this class can't be accessed from anywhere outside the function, meaning that the class can't be imported."
   ]
  },
  {
   "cell_type": "code",
   "execution_count": 7,
   "metadata": {
    "collapsed": false
   },
   "outputs": [
    {
     "name": "stdout",
     "output_type": "stream",
     "text": [
      " input: hello world, how are you today?\n",
      "output: Hello World, How Are You Today?\n"
     ]
    }
   ],
   "source": [
    "def format_string( string, formatter = None ):\n",
    "    \n",
    "    class DefaultFormatter(object):\n",
    "        def convert_to_title_case( self, string ):\n",
    "            # .title() returns a copy of the string in which \n",
    "            # first characters of all the words are capitalized.\n",
    "            return str(string).title()\n",
    "\n",
    "    if not formatter:\n",
    "        formatter = DefaultFormatter()\n",
    "    return formatter.convert_to_title_case(string)\n",
    "\n",
    "hello_string = \"hello world, how are you today?\"\n",
    "print( \" input: \" + hello_string )\n",
    "print( \"output: \" + format_string(hello_string) ) "
   ]
  },
  {
   "cell_type": "markdown",
   "metadata": {},
   "source": [
    "## Access\n",
    "\n",
    "- \"private\", meaning only that object can access them. \n",
    "- \"protected\", meaning only that class and any subclasses have access. \n",
    "- \"public\", meaning any other object is allowed to access them.\n",
    "\n",
    "In python, we don't enforce laws to do so, instead we prefix an attribute or method with an underscore `_`, this suggests that this is an internal variable, think twice before accessing it directly. But there's nothing stopping them from doing so.\n",
    "\n",
    "Another thing you can do is to prefix the attribute or method with double underscore `__`. This will perform name mangling on it."
   ]
  },
  {
   "cell_type": "code",
   "execution_count": 8,
   "metadata": {
    "collapsed": false
   },
   "outputs": [],
   "source": [
    "class SecretString(object):\n",
    "    \n",
    "    def __init__( self, plain_string, pass_phrase ):\n",
    "        self.__plain_string = plain_string\n",
    "        self.__pass_phrase = pass_phrase\n",
    "    \n",
    "    def decrypt( self, pass_phrase ):\n",
    "        if pass_phrase == self.__pass_phrase:\n",
    "            return self.__plain_string\n",
    "        else:\n",
    "            return ''"
   ]
  },
  {
   "cell_type": "code",
   "execution_count": 9,
   "metadata": {
    "collapsed": false
   },
   "outputs": [
    {
     "name": "stdout",
     "output_type": "stream",
     "text": [
      "ACME: Top Secret\n"
     ]
    }
   ],
   "source": [
    "secret_string = SecretString(\"ACME: Top Secret\", \"antwerp\")\n",
    "print(secret_string.decrypt(\"antwerp\"))\n",
    "# print(secret_string.__plain_text) # this will return an error"
   ]
  },
  {
   "cell_type": "code",
   "execution_count": 10,
   "metadata": {
    "collapsed": false
   },
   "outputs": [
    {
     "name": "stdout",
     "output_type": "stream",
     "text": [
      "ACME: Top Secret\n"
     ]
    }
   ],
   "source": [
    "# we can access the attribute with __ prefix by adding _<classname>\n",
    "print(secret_string._SecretString__plain_string)"
   ]
  },
  {
   "cell_type": "markdown",
   "metadata": {},
   "source": [
    "This shows that the method can still be called by outside objects if they REALLY want to do it, but it requires extra work since they have to do the name mangling themselves. Tis a strong indicator that the attribute or method should remain private. Although, many times, the using single underscore will already serve this purpose."
   ]
  },
  {
   "cell_type": "markdown",
   "metadata": {},
   "source": [
    "## Case Study: Command Line Notebook"
   ]
  },
  {
   "cell_type": "code",
   "execution_count": 11,
   "metadata": {
    "collapsed": true
   },
   "outputs": [],
   "source": [
    "# for reloading the module\n",
    "from importlib import reload"
   ]
  },
  {
   "cell_type": "code",
   "execution_count": 12,
   "metadata": {
    "collapsed": false
   },
   "outputs": [
    {
     "data": {
      "text/plain": [
       "[<notebook.Note at 0x1076a36d8>, <notebook.Note at 0x1076a3668>]"
      ]
     },
     "execution_count": 12,
     "metadata": {},
     "output_type": "execute_result"
    }
   ],
   "source": [
    "from notebook import Note\n",
    "from notebook import Notebook\n",
    "\n",
    "n = Notebook()\n",
    "n.new_note(\"hello world\")\n",
    "n.new_note(\"hello again\")\n",
    "n.notes"
   ]
  },
  {
   "cell_type": "code",
   "execution_count": 13,
   "metadata": {
    "collapsed": false
   },
   "outputs": [
    {
     "name": "stdout",
     "output_type": "stream",
     "text": [
      "[<notebook.Note object at 0x1076a36d8>, <notebook.Note object at 0x1076a3668>]\n",
      "hi world\n"
     ]
    }
   ],
   "source": [
    "print( n.search(\"hello\") )\n",
    "n.modify_memo(1, \"hi world\")\n",
    "print( n.notes[0].memo )"
   ]
  },
  {
   "cell_type": "markdown",
   "metadata": {},
   "source": [
    "`input` for interactive input."
   ]
  },
  {
   "cell_type": "code",
   "execution_count": 14,
   "metadata": {
    "collapsed": false
   },
   "outputs": [
    {
     "name": "stdout",
     "output_type": "stream",
     "text": [
      "Enter an option: 2\n"
     ]
    },
    {
     "data": {
      "text/plain": [
       "'2'"
      ]
     },
     "execution_count": 14,
     "metadata": {},
     "output_type": "execute_result"
    }
   ],
   "source": [
    "# note the the type is returned in string, even if you've enter a integer\n",
    "input( \"Enter an option: \" )"
   ]
  },
  {
   "cell_type": "code",
   "execution_count": 15,
   "metadata": {
    "collapsed": true
   },
   "outputs": [],
   "source": [
    "# empty list will not print\n",
    "notes1 = []\n",
    "for note in notes1:\n",
    "    print(1)\n",
    "\n",
    "# list will not print\n",
    "notes2 = [ 1, 2, 3 ]\n",
    "if not notes2:\n",
    "    print(2)"
   ]
  }
 ],
 "metadata": {
  "kernelspec": {
   "display_name": "Python 3",
   "language": "python",
   "name": "python3"
  },
  "language_info": {
   "codemirror_mode": {
    "name": "ipython",
    "version": 3
   },
   "file_extension": ".py",
   "mimetype": "text/x-python",
   "name": "python",
   "nbconvert_exporter": "python",
   "pygments_lexer": "ipython3",
   "version": "3.5.1"
  }
 },
 "nbformat": 4,
 "nbformat_minor": 0
}
