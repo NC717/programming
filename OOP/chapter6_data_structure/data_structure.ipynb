{
 "cells": [
  {
   "cell_type": "markdown",
   "metadata": {},
   "source": [
    "# Data Structure\n",
    "\n",
    "Side note, not covered. It is possible to restrict arbitrary properties on our own classes using **slots**, which saves memory.\n",
    "\n",
    "1. **Tuples:** They are immutable and generally store values that are somehow different from each other.\n",
    "2. **Named Tuples:** indexing tuples using numbers can be unreadable, since we have no idea what those \"magic\" numbers meant unless we paw through the code to find where the tuple was initially declared. Thus if we know how many attributes we're going to store (if not use a dictionary) and confirmed that they are objects without bahavior, use Named Tuple."
   ]
  },
  {
   "cell_type": "code",
   "execution_count": 1,
   "metadata": {
    "collapsed": false
   },
   "outputs": [
    {
     "name": "stdout",
     "output_type": "stream",
     "text": [
      "625.86\n"
     ]
    }
   ],
   "source": [
    "from collections import namedtuple\n",
    "\n",
    "# the first argument is the identifier for the named tuple and the second is the attributes that \n",
    "# the named tuple can have\n",
    "Stock = namedtuple( \"Stock\", ['symbol', 'current', 'high', 'low'] )\n",
    "\n",
    "# we can use the Stock to create as many instances of this named tuple as we like\n",
    "stock = Stock( symbol = \"GOOG\", current = 613.30, high = 625.86, low = 610.50 )\n",
    "print(stock.high)\n",
    "\n",
    "# stock.current = 609.27 # tuples are immutable, thus we can't set the new value"
   ]
  },
  {
   "cell_type": "markdown",
   "metadata": {},
   "source": [
    "**Dictionary**\n",
    "\n",
    "`.get` provide the optional default value if the key doesn't exist"
   ]
  },
  {
   "cell_type": "code",
   "execution_count": 2,
   "metadata": {
    "collapsed": false
   },
   "outputs": [
    {
     "name": "stdout",
     "output_type": "stream",
     "text": [
      "NOT FOUND\n"
     ]
    }
   ],
   "source": [
    "stocks = {\n",
    "    \"GOOG\": (613.30, 625.86, 610.50),\n",
    "    \"MSFT\": (30.25, 30.70, 30.19)\n",
    "}\n",
    "print( stocks.get(\"RIM\", \"NOT FOUND\") )"
   ]
  },
  {
   "cell_type": "markdown",
   "metadata": {},
   "source": [
    "You can use the index-syntax to set value for any key, regardless whether the key is in the dictionary or not, though we can't use list or mutable objects as keys."
   ]
  },
  {
   "cell_type": "code",
   "execution_count": 3,
   "metadata": {
    "collapsed": false
   },
   "outputs": [
    {
     "name": "stdout",
     "output_type": "stream",
     "text": [
      "(597.63, 610.0, 596.28)\n"
     ]
    }
   ],
   "source": [
    "stocks[\"GOOG\"] = (597.63, 610.00, 596.28)\n",
    "print(stocks[\"GOOG\"])"
   ]
  },
  {
   "cell_type": "markdown",
   "metadata": {},
   "source": [
    "Setting default values if a key doesn't exist using dictionaries' `.setdefault`. The method sets a value in the dictionary only if that value has not previously been set. Then it returns the value in the dictionary, either the one that was already there, or the newly provided default value."
   ]
  },
  {
   "cell_type": "code",
   "execution_count": 4,
   "metadata": {
    "collapsed": false
   },
   "outputs": [
    {
     "name": "stdout",
     "output_type": "stream",
     "text": [
      "(500.0, 600.0, 696.28)\n",
      "{'MSFT': (30.25, 30.7, 30.19), 'GOOG': (597.63, 610.0, 596.28), 'RIM': (500.0, 600.0, 696.28)}\n"
     ]
    }
   ],
   "source": [
    "value = stocks.setdefault( \"RIM\", (500.00, 600.00, 696.28) )\n",
    "print(value)\n",
    "print(stocks) # the \"RIM\"'s default value has been set"
   ]
  },
  {
   "cell_type": "code",
   "execution_count": 5,
   "metadata": {
    "collapsed": true
   },
   "outputs": [],
   "source": [
    "from collections import defaultdict\n",
    "def letter_frequency(sentence):\n",
    "    frequencies = defaultdict(int)\n",
    "    for letter in sentence:\n",
    "        frequencies[letter] += 1\n",
    "    return frequencies"
   ]
  },
  {
   "cell_type": "markdown",
   "metadata": {},
   "source": [
    "**List**\n",
    "\n",
    "The most common methods are `append(element)`, `insert( index, element )`, `count(element)`, `index(element)`."
   ]
  },
  {
   "cell_type": "code",
   "execution_count": 6,
   "metadata": {
    "collapsed": false
   },
   "outputs": [
    {
     "data": {
      "text/plain": [
       "2"
      ]
     },
     "execution_count": 6,
     "metadata": {},
     "output_type": "execute_result"
    }
   ],
   "source": [
    "test_list = [ 1, 1, 2, 3 ]\n",
    "test_list.count(1)"
   ]
  },
  {
   "cell_type": "markdown",
   "metadata": {},
   "source": [
    "`sort()` for sorting lists is quite straightforward. e.g. \n",
    "- If a list of tuples is provided, the list is sorted by the first element in each tuple. \n",
    "- If a mixture of unsortable items is supplied, the sort will raise a TypeError exception.\n",
    "\n",
    "If we want to place objects that we've defined into a list and make them sortable, we have to define the `__lt__` method, which stands for less than. The following example only implements the `__lt__` method to enable sorting, however, the class should normally implement the similar `__gt__`, `__eq__`, `__ne__`,` __ge__`, and `__le__` methods, so that all of the >, ==, !=, >=, and <= also works properly."
   ]
  },
  {
   "cell_type": "code",
   "execution_count": 7,
   "metadata": {
    "collapsed": true
   },
   "outputs": [],
   "source": [
    "class WeirdSortee(object):\n",
    "    \"\"\"the class's object can be sorted based on either a string or a number\"\"\"\n",
    "    \n",
    "    def __init__( self, string, number, sort_num ):\n",
    "        self.string = string\n",
    "        self.number = number\n",
    "        self.sort_num = sort_num\n",
    "\n",
    "    def __lt__( self, other ):\n",
    "        \"\"\"\n",
    "        compares the object to another instance of the same class,\n",
    "        or any duck typed object that has the string, number and sort_num attributes\n",
    "        \"\"\"\n",
    "        if self.sort_num:\n",
    "            return self.number < other.number\n",
    "        return self.string < other.string\n",
    "    \n",
    "    def __repr__(self):\n",
    "        return\"{}:{}\".format( self.string, self.number )"
   ]
  },
  {
   "cell_type": "code",
   "execution_count": 8,
   "metadata": {
    "collapsed": false
   },
   "outputs": [
    {
     "data": {
      "text/plain": [
       "[a:4, b:3, c:2, d:1]"
      ]
     },
     "execution_count": 8,
     "metadata": {},
     "output_type": "execute_result"
    }
   ],
   "source": [
    "a = WeirdSortee( 'a', 4, True )\n",
    "b = WeirdSortee( 'b', 3, True )\n",
    "c = WeirdSortee( 'c', 2, True )\n",
    "d = WeirdSortee( 'd', 1, True )\n",
    "l = [a,b,c,d]\n",
    "l # print out the class information using __repr__"
   ]
  },
  {
   "cell_type": "code",
   "execution_count": 9,
   "metadata": {
    "collapsed": false
   },
   "outputs": [
    {
     "data": {
      "text/plain": [
       "[d:1, c:2, b:3, a:4]"
      ]
     },
     "execution_count": 9,
     "metadata": {},
     "output_type": "execute_result"
    }
   ],
   "source": [
    "l.sort()\n",
    "l"
   ]
  },
  {
   "cell_type": "markdown",
   "metadata": {},
   "source": [
    "Assign the additional `key` argument to the sort method. e.g. This is useful if we have a tuple of values and want to sort on the second item in the tuple rather than the first (which is the default for sorting tuples)."
   ]
  },
  {
   "cell_type": "code",
   "execution_count": 10,
   "metadata": {
    "collapsed": false
   },
   "outputs": [
    {
     "name": "stdout",
     "output_type": "stream",
     "text": [
      "[(1, 'c'), (2, 'a'), (3, 'b')]\n",
      "[(2, 'a'), (3, 'b'), (1, 'c')]\n"
     ]
    }
   ],
   "source": [
    "x = [(1,'c'), (2,'a'), (3, 'b')]\n",
    "x.sort()\n",
    "print(x)\n",
    "x.sort( key = lambda i: i[1] )\n",
    "print(x)"
   ]
  },
  {
   "cell_type": "code",
   "execution_count": 11,
   "metadata": {
    "collapsed": false
   },
   "outputs": [
    {
     "name": "stdout",
     "output_type": "stream",
     "text": [
      "['HELP', 'Helo', 'hello']\n",
      "['hello', 'Helo', 'HELP']\n"
     ]
    }
   ],
   "source": [
    "# another example of key : sort starting from lower case\n",
    "l = [ \"hello\", \"HELP\", \"Helo\" ]\n",
    "l.sort()\n",
    "print(l)\n",
    "l.sort( key = str.lower )\n",
    "print(l)"
   ]
  },
  {
   "cell_type": "markdown",
   "metadata": {},
   "source": [
    "**Set**\n",
    "\n",
    "The primary feature of set is uniqueness, but like dictionary they are unordered. Thus if you want to sort or order them you'll have to convert them back to a list."
   ]
  },
  {
   "cell_type": "code",
   "execution_count": 12,
   "metadata": {
    "collapsed": false
   },
   "outputs": [
    {
     "name": "stdout",
     "output_type": "stream",
     "text": [
      "{\"Guns N' Roses\", 'Sarah Brightman', 'Opeth', 'Vixy and Tony'}\n"
     ]
    }
   ],
   "source": [
    "song_library = [\n",
    "    (\"Phantom Of The Opera\", \"Sarah Brightman\"),\n",
    "    (\"Knocking On Heaven's Door\", \"Guns N' Roses\"),\n",
    "    (\"Captain Nemo\", \"Sarah Brightman\"),\n",
    "    (\"Patterns In The Ivy\", \"Opeth\"),\n",
    "    (\"November Rain\", \"Guns N' Roses\"),\n",
    "    (\"Beautiful\", \"Sarah Brightman\"),\n",
    "    (\"Mal's Song\", \"Vixy and Tony\")\n",
    "]\n",
    "\n",
    "artists = set()\n",
    "for song, artist in song_library:\n",
    "    artists.add(artist)\n",
    "print(artists)"
   ]
  },
  {
   "cell_type": "markdown",
   "metadata": {},
   "source": [
    "But the primary purpose of set is to use them in combination to efficiently combine or compare the itmes in two or more sets."
   ]
  },
  {
   "cell_type": "code",
   "execution_count": 13,
   "metadata": {
    "collapsed": false
   },
   "outputs": [
    {
     "name": "stdout",
     "output_type": "stream",
     "text": [
      "All: {'Savage Garden', 'Opeth', 'Sarah Brightman', 'Nickelback', \"Guns N' Roses\", 'Vixy and Tony'}\n",
      "Both: {\"Guns N' Roses\"}\n",
      "Either but not both: {'Opeth', 'Vixy and Tony', 'Savage Garden', 'Nickelback', 'Sarah Brightman'}\n"
     ]
    }
   ],
   "source": [
    "# set operations\n",
    "my_artists = { \"Sarah Brightman\", \"Guns N' Roses\", \"Opeth\", \"Vixy and Tony\" }\n",
    "auburns_artists = { \"Nickelback\", \"Guns N' Roses\", \"Savage Garden\" }\n",
    "\n",
    "# .union or the | operator, elements that are in either of the two sets\n",
    "print( \"All: {}\".format( my_artists.union(auburns_artists) ) )\n",
    "\n",
    "# .intersection or the & operator, elements that appeared in both sets\n",
    "print( \"Both: {}\".format( auburns_artists.intersection(my_artists) ) )\n",
    "\n",
    "# .symmetric_difference, elements that are in one set or the other\n",
    "print( \"Either but not both: {}\".format( my_artists.symmetric_difference(auburns_artists) ) )"
   ]
  },
  {
   "cell_type": "markdown",
   "metadata": {},
   "source": [
    "The set operation above returns the same result regardless of which set calls the other. The following are methods that return different results depending on who is the caller and who is the argument."
   ]
  },
  {
   "cell_type": "code",
   "execution_count": 14,
   "metadata": {
    "collapsed": false
   },
   "outputs": [
    {
     "name": "stdout",
     "output_type": "stream",
     "text": [
      "my_artists is to bands:\n",
      "issuperset: True\n",
      "issubset: False\n",
      "difference: {'Sarah Brightman', 'Vixy and Tony'}\n",
      "********************\n",
      "bands is to my_artists:\n",
      "issuperset: False\n",
      "issubset: True\n",
      "difference: set()\n"
     ]
    }
   ],
   "source": [
    "my_artists = { \"Sarah Brightman\", \"Guns N' Roses\", \"Opeth\", \"Vixy and Tony\" }\n",
    "bands = {\"Guns N' Roses\", \"Opeth\"}\n",
    "print(\"my_artists is to bands:\")\n",
    "\n",
    "# issuperset : return True if all the element in the argument is also in the calling set\n",
    "# s.issubset(t) == t.issuperset(s)\n",
    "print( \"issuperset: {}\".format(my_artists.issuperset(bands) ) )\n",
    "print( \"issubset: {}\".format(my_artists.issubset(bands) ) )\n",
    "\n",
    "# difference, returns the elements that are in the calling set but not in the argument set\n",
    "print( \"difference: {}\".format(my_artists.difference(bands) ) )\n",
    "print( \"*\"*20)\n",
    "print( \"bands is to my_artists:\")\n",
    "print( \"issuperset: {}\".format(bands.issuperset(my_artists) ) )\n",
    "print( \"issubset: {}\".format(bands.issubset(my_artists) ) )\n",
    "print( \"difference: {}\".format(bands.difference(my_artists) ) )"
   ]
  },
  {
   "cell_type": "markdown",
   "metadata": {},
   "source": [
    "## Extending built-in\n",
    "\n",
    "We can add the `__add__` method to any class and if we use the `+` operator of that class, it will be called. This is how list concatenation works."
   ]
  },
  {
   "cell_type": "code",
   "execution_count": 15,
   "metadata": {
    "collapsed": false
   },
   "outputs": [
    {
     "data": {
      "text/plain": [
       "0"
      ]
     },
     "execution_count": 15,
     "metadata": {},
     "output_type": "execute_result"
    }
   ],
   "source": [
    "# overriding so that two things adds to 0\n",
    "class SillyInt(int):\n",
    "    \n",
    "    def __add__( self, num ):\n",
    "        return 0\n",
    "\n",
    "a = SillyInt(1)\n",
    "b = SillyInt(2)\n",
    "a + b"
   ]
  },
  {
   "cell_type": "markdown",
   "metadata": {},
   "source": [
    "[Blog post](http://www.marinamele.com/2014/04/modifying-add-method-of-python-class.html) on `__add__`.\n",
    "- `__add__` method to be able to add two instances of a custom object. \n",
    "- `__radd__` method to be able to sum a list of instances."
   ]
  },
  {
   "cell_type": "code",
   "execution_count": 16,
   "metadata": {
    "collapsed": false
   },
   "outputs": [
    {
     "name": "stdout",
     "output_type": "stream",
     "text": [
      "Visits: 30, Contacts: 3\n"
     ]
    }
   ],
   "source": [
    "class Day(object):\n",
    "    \"\"\"visits and contacts that a webpage generates per day\"\"\"\n",
    "    \n",
    "    def __init__(self, visits, contacts):\n",
    "        self.visits = visits\n",
    "        self.contacts = contacts\n",
    "        \n",
    "    def __str__(self):\n",
    "        return 'Visits: %d, Contacts: %d' % ( self.visits, self.contacts )\n",
    "    \n",
    "    def __add__( self, other ):\n",
    "        \"\"\"total number of visits and contacts\"\"\"\n",
    "        total_visits = self.visits + other.visits\n",
    "        total_contacts = self.contacts + other.contacts\n",
    "        return Day(total_visits, total_contacts)\n",
    "    \n",
    "    def __radd__( self, other ):\n",
    "        \"\"\"\n",
    "        the sum method starts with 0.__add__(day1),\n",
    "        not knowing how to do that it will fall back to day1.__radd__(0)\n",
    "        so we have to the __radd__ method\n",
    "        \"\"\"\n",
    "        if other == 0:\n",
    "            return self\n",
    "        else:\n",
    "            return self.__add__(other)\n",
    "\n",
    "day1 = Day(10, 1)\n",
    "day2 = Day(20, 2)\n",
    "day3 = day1 + day2\n",
    "print(day3) "
   ]
  },
  {
   "cell_type": "code",
   "execution_count": 17,
   "metadata": {
    "collapsed": false
   },
   "outputs": [
    {
     "name": "stdout",
     "output_type": "stream",
     "text": [
      "Visits: 60, Contacts: 6\n"
     ]
    }
   ],
   "source": [
    "day4 = sum([day1, day2, day3])\n",
    "print(day4)"
   ]
  },
  {
   "cell_type": "code",
   "execution_count": 18,
   "metadata": {
    "collapsed": false,
    "scrolled": true
   },
   "outputs": [],
   "source": [
    "# dir(list) # inspect all the methods"
   ]
  },
  {
   "cell_type": "markdown",
   "metadata": {},
   "source": [
    "This is true of all the special methods. If we want to use `x in myobj `syntax, we can override `__contains__`. If we want to use `myobj[i] = value` syntax, we implement `__setitem__` and if we want to use `something = myobj[i]`, we implement `__getitem__`.\n"
   ]
  },
  {
   "cell_type": "markdown",
   "metadata": {},
   "source": [
    "## Case Study\n",
    "\n",
    "`python3 -m http.server` will start a server running on http://localhost:8000/. \n",
    "\n",
    "Notes on **index.html:**\n",
    "Websites are built inside of directories on a web server, with each web page as a separate file. Sometimes when you go to a URL, there is no file listed in the address. For example: http://webdesign.about.com/ . Even though it's not listed in the URL, there is still a file that the web server delivers so that the browser has something to display. This file is the default page for that directory. On most web servers, the default page in a directory is named **index.html**. In essence, when you go to a URL and do not specify a specific file, the server looks for a default file and displays that automatically - almost as if you had typed in that file name in the URL.\n",
    "\n",
    "`re.compile` [reference](http://chimera.labs.oreilly.com/books/1230000000393/ch02.html#_matching_and_searching_for_text_patterns) and regular expression [reference](http://www.tutorialspoint.com/python/python_reg_expressions.htm)."
   ]
  },
  {
   "cell_type": "code",
   "execution_count": 19,
   "metadata": {
    "collapsed": false
   },
   "outputs": [],
   "source": [
    "# from urllib.request import urlopen\n",
    "from urllib.parse import urlparse # parse the url into different parts\n",
    "import requests\n",
    "import re\n",
    "\n",
    "url = 'http://localhost:8000/'\n",
    "# [^...] Matches any single character not in brackets\n",
    "# .compile the regular expression if you are to use it for multiple times\n",
    "LINK_REGEX = re.compile(\"<a [^>]*href=['\\\"]([^'\\\"]+)['\\\"][^>]*>\")\n",
    "\n",
    "class LinkCollector(object):\n",
    "    \"\"\"\n",
    "    the link collector will only collect links from the network location \n",
    "    localhost:8000; all links that points to external pages are simpled store\n",
    "    \"\"\"\n",
    "    def __init__( self, url ):\n",
    "        \"\"\"\n",
    "        Parameters\n",
    "        ----------\n",
    "        collected_links : dictionary\n",
    "            each key is the webpage's url and the value is the set of links on that page\n",
    "        \"\"\"\n",
    "        # ensure that the url starts with http://\n",
    "        self.url = \"http://\" + urlparse(url).netloc\n",
    "        self.collected_links = {}\n",
    "        self.visited_links = set()\n",
    "    \n",
    "    def collect_links( self, path = '/' ):\n",
    "        full_url = self.url + path\n",
    "        self.visited_links.add(full_url)\n",
    "        \n",
    "        # page = str( urlopen(full_url).read() )\n",
    "        page = str(requests.get(full_url).content)\n",
    "        \n",
    "        # .findall the links and normalize them using set comprehension\n",
    "        links = LINK_REGEX.findall(page)\n",
    "        links = { self.normalize_url(link) for link in links } \n",
    "        \n",
    "        self.collected_links[full_url] = links\n",
    "        unvisited_links = links.difference(self.visited_links) \n",
    "\n",
    "        for link in unvisited_links:\n",
    "            if link.startswith(self.url):\n",
    "                self.collect_links( path = urlparse(link).path )\n",
    "            else:\n",
    "                # set the external links as key and empty set as value\n",
    "                self.collected_links.setdefault( link, set() )\n",
    "\n",
    "    def normalize_url( self, link ):\n",
    "        \"\"\"\n",
    "        Notice that the links may be absolute or relative. e.g. contact.html and /contact.html.\n",
    "        so we have to normalize them (convert them to the same)\n",
    "        \"\"\"\n",
    "        if link.startswith('http://'):\n",
    "            return link\n",
    "        elif link.startswith('/'):\n",
    "            return self.url + link\n",
    "        else:\n",
    "            return self.url + '/' + link"
   ]
  },
  {
   "cell_type": "code",
   "execution_count": 21,
   "metadata": {
    "collapsed": false
   },
   "outputs": [
    {
     "name": "stdout",
     "output_type": "stream",
     "text": [
      "http://en.wikipedia.org/wiki/Cavalier_King_Charles_Spaniel: set()\n",
      "http://localhost:8000/contact.html: {'http://ccphillips.net/', 'http://localhost:8000/', 'http://localhost:8000/blog.html', 'http://localhost:8000/contact.html'}\n",
      "http://archlinux.me/dusty/: set()\n",
      "http://ccphillips.net/: set()\n",
      "http://localhost:8000/taichi.html: {'http://masterhelenwu.com'}\n",
      "http://masterhelenwu.com: set()\n",
      "http://localhost:8000/esme.html: {'http://en.wikipedia.org/wiki/Cavalier_King_Charles_Spaniel', 'http://localhost:8000/hobbies.html'}\n",
      "http://localhost:8000/: {'http://localhost:8000/esme.html', 'http://localhost:8000/contact.html', 'http://localhost:8000/blog.html', 'http://localhost:8000/hobbies.html', 'http://www.archlinux.org/'}\n",
      "http://localhost:8000/blog.html: {'http://localhost:8000/esme.html', 'http://localhost:8000/', 'http://archlinux.me/dusty/', 'http://localhost:8000/contact.html'}\n",
      "http://www.archlinux.org/: set()\n",
      "http://localhost:8000/hobbies.html: {'http://localhost:8000/esme.html', 'http://masterhelenwu.com', 'http://localhost:8000/', 'http://localhost:8000/taichi.html', 'http://localhost:8000/blog.html'}\n"
     ]
    }
   ],
   "source": [
    "collector = LinkCollector(url)\n",
    "collector.collect_links()\n",
    "for link, items in collector.collected_links.items():\n",
    "    print( \"{}: {}\".format(link, items) )"
   ]
  },
  {
   "cell_type": "code",
   "execution_count": 22,
   "metadata": {
    "collapsed": false
   },
   "outputs": [
    {
     "data": {
      "text/plain": [
       "True"
      ]
     },
     "execution_count": 22,
     "metadata": {},
     "output_type": "execute_result"
    }
   ],
   "source": [
    "hasattr( collector, 'normalize_url' )"
   ]
  }
 ],
 "metadata": {
  "kernelspec": {
   "display_name": "Python 3",
   "language": "python",
   "name": "python3"
  },
  "language_info": {
   "codemirror_mode": {
    "name": "ipython",
    "version": 3
   },
   "file_extension": ".py",
   "mimetype": "text/x-python",
   "name": "python",
   "nbconvert_exporter": "python",
   "pygments_lexer": "ipython3",
   "version": "3.5.1"
  }
 },
 "nbformat": 4,
 "nbformat_minor": 0
}
