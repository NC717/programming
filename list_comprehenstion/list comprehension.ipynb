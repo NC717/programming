{
 "cells": [
  {
   "cell_type": "markdown",
   "metadata": {},
   "source": [
    "2016.1.29\n",
    "quick list comprehension tutorial \n",
    "\n",
    "http://www.analyticsvidhya.com/blog/2016/01/python-tutorial-list-comprehension-examples/?utm_source=feedburner&utm_medium=email&utm_campaign=Feed%3A+AnalyticsVidhya+%28Analytics+Vidhya%29\n",
    "\n",
    "\n",
    "\n"
   ]
  },
  {
   "cell_type": "code",
   "execution_count": 1,
   "metadata": {
    "collapsed": false
   },
   "outputs": [
    {
     "name": "stdout",
     "output_type": "stream",
     "text": [
      "[[0, 1, 2, 3, 4], [5, 6, 7, 8, 9], [10, 11, 12, 13, 14]]\n",
      "[0, 1, 2, 3, 4, 5, 6, 7, 8, 9, 10, 11, 12, 13, 14]\n"
     ]
    }
   ],
   "source": [
    "# 1. flatten a matrix \n",
    "matrix = [ range(0,5), range(5,10), range(10,15) ]\n",
    "print matrix\n",
    "\n",
    "# extracting each element of the list \n",
    "print [ x for row in matrix for x in row ]"
   ]
  },
  {
   "cell_type": "code",
   "execution_count": 5,
   "metadata": {
    "collapsed": false
   },
   "outputs": [
    {
     "name": "stdout",
     "output_type": "stream",
     "text": [
      "My nm s Arshy Jn!\n"
     ]
    }
   ],
   "source": [
    "# 2. removing vowels\n",
    "sentence = 'My name is Aarshay Jain!'\n",
    "vowel = \"aeiou\"\n",
    "\n",
    "print \"\".join([ s for s in sentence if s not in vowel ])"
   ]
  },
  {
   "cell_type": "code",
   "execution_count": 7,
   "metadata": {
    "collapsed": false
   },
   "outputs": [
    {
     "name": "stdout",
     "output_type": "stream",
     "text": [
      "{'Pakistan': 'Islamabad', 'Bangladesh': 'Dhaka', 'Bhutan': 'Thimphu', 'Nepal': 'Kathmandu', 'India': 'New Delhi', 'China': 'Beijing'}\n"
     ]
    }
   ],
   "source": [
    "# 3. list comprehension with dictionary\n",
    "country = ['India', 'Pakistan', 'Nepal', 'Bhutan', 'China', 'Bangladesh']\n",
    "capital = ['New Delhi', 'Islamabad','Kathmandu', 'Thimphu', 'Beijing', 'Dhaka']\n",
    "dic = {}\n",
    "\n",
    "print { country[i] : capital[i] for i in range(len(country)) }"
   ]
  },
  {
   "cell_type": "code",
   "execution_count": 9,
   "metadata": {
    "collapsed": false
   },
   "outputs": [
    {
     "data": {
      "text/html": [
       "<div>\n",
       "<table border=\"1\" class=\"dataframe\">\n",
       "  <thead>\n",
       "    <tr style=\"text-align: right;\">\n",
       "      <th></th>\n",
       "      <th>personID</th>\n",
       "      <th>skills</th>\n",
       "    </tr>\n",
       "  </thead>\n",
       "  <tbody>\n",
       "    <tr>\n",
       "      <th>0</th>\n",
       "      <td>1</td>\n",
       "      <td>cricket;tabletennis;football</td>\n",
       "    </tr>\n",
       "    <tr>\n",
       "      <th>1</th>\n",
       "      <td>2</td>\n",
       "      <td>tabletennis;badminton</td>\n",
       "    </tr>\n",
       "    <tr>\n",
       "      <th>2</th>\n",
       "      <td>3</td>\n",
       "      <td>tabletennis</td>\n",
       "    </tr>\n",
       "    <tr>\n",
       "      <th>3</th>\n",
       "      <td>4</td>\n",
       "      <td>cricket;tabletennis;volleyball</td>\n",
       "    </tr>\n",
       "    <tr>\n",
       "      <th>4</th>\n",
       "      <td>5</td>\n",
       "      <td>football;volleyball</td>\n",
       "    </tr>\n",
       "  </tbody>\n",
       "</table>\n",
       "</div>"
      ],
      "text/plain": [
       "   personID                          skills\n",
       "0         1    cricket;tabletennis;football\n",
       "1         2           tabletennis;badminton\n",
       "2         3                     tabletennis\n",
       "3         4  cricket;tabletennis;volleyball\n",
       "4         5             football;volleyball"
      ]
     },
     "execution_count": 9,
     "metadata": {},
     "output_type": "execute_result"
    }
   ],
   "source": [
    "# working with datasets\n",
    "import pandas as pd\n",
    "data = pd.read_csv(\"skills.csv\")\n",
    "data.head(5)"
   ]
  },
  {
   "cell_type": "code",
   "execution_count": 15,
   "metadata": {
    "collapsed": false
   },
   "outputs": [
    {
     "data": {
      "text/html": [
       "<div>\n",
       "<table border=\"1\" class=\"dataframe\">\n",
       "  <thead>\n",
       "    <tr style=\"text-align: right;\">\n",
       "      <th></th>\n",
       "      <th>personID</th>\n",
       "      <th>skills</th>\n",
       "      <th>skills_list</th>\n",
       "    </tr>\n",
       "  </thead>\n",
       "  <tbody>\n",
       "    <tr>\n",
       "      <th>0</th>\n",
       "      <td>1</td>\n",
       "      <td>cricket;tabletennis;football</td>\n",
       "      <td>[cricket, tabletennis, football]</td>\n",
       "    </tr>\n",
       "    <tr>\n",
       "      <th>1</th>\n",
       "      <td>2</td>\n",
       "      <td>tabletennis;badminton</td>\n",
       "      <td>[tabletennis, badminton]</td>\n",
       "    </tr>\n",
       "    <tr>\n",
       "      <th>2</th>\n",
       "      <td>3</td>\n",
       "      <td>tabletennis</td>\n",
       "      <td>[tabletennis]</td>\n",
       "    </tr>\n",
       "    <tr>\n",
       "      <th>3</th>\n",
       "      <td>4</td>\n",
       "      <td>cricket;tabletennis;volleyball</td>\n",
       "      <td>[cricket, tabletennis, volleyball]</td>\n",
       "    </tr>\n",
       "    <tr>\n",
       "      <th>4</th>\n",
       "      <td>5</td>\n",
       "      <td>football;volleyball</td>\n",
       "      <td>[football, volleyball]</td>\n",
       "    </tr>\n",
       "  </tbody>\n",
       "</table>\n",
       "</div>"
      ],
      "text/plain": [
       "   personID                          skills  \\\n",
       "0         1    cricket;tabletennis;football   \n",
       "1         2           tabletennis;badminton   \n",
       "2         3                     tabletennis   \n",
       "3         4  cricket;tabletennis;volleyball   \n",
       "4         5             football;volleyball   \n",
       "\n",
       "                          skills_list  \n",
       "0    [cricket, tabletennis, football]  \n",
       "1            [tabletennis, badminton]  \n",
       "2                       [tabletennis]  \n",
       "3  [cricket, tabletennis, volleyball]  \n",
       "4              [football, volleyball]  "
      ]
     },
     "execution_count": 15,
     "metadata": {},
     "output_type": "execute_result"
    }
   ],
   "source": [
    "# split the skills\n",
    "data[\"skills_list\"] = data[\"skills\"].apply( lambda x : x.split(\";\") )\n",
    "data.head(5)"
   ]
  },
  {
   "cell_type": "code",
   "execution_count": 17,
   "metadata": {
    "collapsed": false
   },
   "outputs": [
    {
     "name": "stdout",
     "output_type": "stream",
     "text": [
      "['badminton', 'cricket', 'football', 'tabletennis', 'volleyball']\n"
     ]
    }
   ],
   "source": [
    "# initialize a unique set\n",
    "unique_skills = set()\n",
    "\n",
    "# set.update( iterable )\n",
    "unique_skills.update( ( sport for l in data[\"skills_list\"] for sport in l ) )\n",
    "unique_skills = list(unique_skills)\n",
    "print unique_skills"
   ]
  },
  {
   "cell_type": "code",
   "execution_count": 25,
   "metadata": {
    "collapsed": false
   },
   "outputs": [
    {
     "name": "stdout",
     "output_type": "stream",
     "text": [
      "[[0, 1, 1, 1, 0], [1, 0, 0, 1, 0], [0, 0, 0, 1, 0], [0, 1, 0, 1, 1], [0, 0, 1, 0, 1], [0, 0, 1, 1, 0], [1, 1, 0, 0, 1], [0, 1, 1, 0, 0], [1, 0, 0, 1, 1], [0, 1, 0, 0, 1], [1, 0, 1, 0, 0], [0, 1, 1, 0, 1], [0, 0, 1, 0, 1], [1, 0, 0, 0, 0], [0, 1, 1, 1, 0]]\n"
     ]
    }
   ],
   "source": [
    "# manual one hot encoding\n",
    "sport_matrix = [ [ 1 if skill in row else 0 for skill in unique_skills ] for row in data[\"skills_list\"] ]\n",
    "print sport_matrix"
   ]
  },
  {
   "cell_type": "code",
   "execution_count": 29,
   "metadata": {
    "collapsed": false
   },
   "outputs": [
    {
     "data": {
      "text/html": [
       "<div>\n",
       "<table border=\"1\" class=\"dataframe\">\n",
       "  <thead>\n",
       "    <tr style=\"text-align: right;\">\n",
       "      <th></th>\n",
       "      <th>personID</th>\n",
       "      <th>skills</th>\n",
       "      <th>skills_list</th>\n",
       "      <th>0</th>\n",
       "      <th>1</th>\n",
       "      <th>2</th>\n",
       "      <th>3</th>\n",
       "      <th>4</th>\n",
       "      <th>0</th>\n",
       "      <th>1</th>\n",
       "      <th>2</th>\n",
       "      <th>3</th>\n",
       "      <th>4</th>\n",
       "      <th>badminton</th>\n",
       "      <th>cricket</th>\n",
       "      <th>football</th>\n",
       "      <th>tabletennis</th>\n",
       "      <th>volleyball</th>\n",
       "    </tr>\n",
       "  </thead>\n",
       "  <tbody>\n",
       "    <tr>\n",
       "      <th>0</th>\n",
       "      <td>1</td>\n",
       "      <td>cricket;tabletennis;football</td>\n",
       "      <td>[cricket, tabletennis, football]</td>\n",
       "      <td>0</td>\n",
       "      <td>1</td>\n",
       "      <td>1</td>\n",
       "      <td>1</td>\n",
       "      <td>0</td>\n",
       "      <td>0</td>\n",
       "      <td>1</td>\n",
       "      <td>1</td>\n",
       "      <td>1</td>\n",
       "      <td>0</td>\n",
       "      <td>0</td>\n",
       "      <td>1</td>\n",
       "      <td>1</td>\n",
       "      <td>1</td>\n",
       "      <td>0</td>\n",
       "    </tr>\n",
       "    <tr>\n",
       "      <th>1</th>\n",
       "      <td>2</td>\n",
       "      <td>tabletennis;badminton</td>\n",
       "      <td>[tabletennis, badminton]</td>\n",
       "      <td>1</td>\n",
       "      <td>0</td>\n",
       "      <td>0</td>\n",
       "      <td>1</td>\n",
       "      <td>0</td>\n",
       "      <td>1</td>\n",
       "      <td>0</td>\n",
       "      <td>0</td>\n",
       "      <td>1</td>\n",
       "      <td>0</td>\n",
       "      <td>1</td>\n",
       "      <td>0</td>\n",
       "      <td>0</td>\n",
       "      <td>1</td>\n",
       "      <td>0</td>\n",
       "    </tr>\n",
       "    <tr>\n",
       "      <th>2</th>\n",
       "      <td>3</td>\n",
       "      <td>tabletennis</td>\n",
       "      <td>[tabletennis]</td>\n",
       "      <td>0</td>\n",
       "      <td>0</td>\n",
       "      <td>0</td>\n",
       "      <td>1</td>\n",
       "      <td>0</td>\n",
       "      <td>0</td>\n",
       "      <td>0</td>\n",
       "      <td>0</td>\n",
       "      <td>1</td>\n",
       "      <td>0</td>\n",
       "      <td>0</td>\n",
       "      <td>0</td>\n",
       "      <td>0</td>\n",
       "      <td>1</td>\n",
       "      <td>0</td>\n",
       "    </tr>\n",
       "    <tr>\n",
       "      <th>3</th>\n",
       "      <td>4</td>\n",
       "      <td>cricket;tabletennis;volleyball</td>\n",
       "      <td>[cricket, tabletennis, volleyball]</td>\n",
       "      <td>0</td>\n",
       "      <td>1</td>\n",
       "      <td>0</td>\n",
       "      <td>1</td>\n",
       "      <td>1</td>\n",
       "      <td>0</td>\n",
       "      <td>1</td>\n",
       "      <td>0</td>\n",
       "      <td>1</td>\n",
       "      <td>1</td>\n",
       "      <td>0</td>\n",
       "      <td>1</td>\n",
       "      <td>0</td>\n",
       "      <td>1</td>\n",
       "      <td>1</td>\n",
       "    </tr>\n",
       "    <tr>\n",
       "      <th>4</th>\n",
       "      <td>5</td>\n",
       "      <td>football;volleyball</td>\n",
       "      <td>[football, volleyball]</td>\n",
       "      <td>0</td>\n",
       "      <td>0</td>\n",
       "      <td>1</td>\n",
       "      <td>0</td>\n",
       "      <td>1</td>\n",
       "      <td>0</td>\n",
       "      <td>0</td>\n",
       "      <td>1</td>\n",
       "      <td>0</td>\n",
       "      <td>1</td>\n",
       "      <td>0</td>\n",
       "      <td>0</td>\n",
       "      <td>1</td>\n",
       "      <td>0</td>\n",
       "      <td>1</td>\n",
       "    </tr>\n",
       "  </tbody>\n",
       "</table>\n",
       "</div>"
      ],
      "text/plain": [
       "   personID                          skills  \\\n",
       "0         1    cricket;tabletennis;football   \n",
       "1         2           tabletennis;badminton   \n",
       "2         3                     tabletennis   \n",
       "3         4  cricket;tabletennis;volleyball   \n",
       "4         5             football;volleyball   \n",
       "\n",
       "                          skills_list  0  1  2  3  4  0  1  2  3  4  \\\n",
       "0    [cricket, tabletennis, football]  0  1  1  1  0  0  1  1  1  0   \n",
       "1            [tabletennis, badminton]  1  0  0  1  0  1  0  0  1  0   \n",
       "2                       [tabletennis]  0  0  0  1  0  0  0  0  1  0   \n",
       "3  [cricket, tabletennis, volleyball]  0  1  0  1  1  0  1  0  1  1   \n",
       "4              [football, volleyball]  0  0  1  0  1  0  0  1  0  1   \n",
       "\n",
       "   badminton  cricket  football  tabletennis  volleyball  \n",
       "0          0        1         1            1           0  \n",
       "1          1        0         0            1           0  \n",
       "2          0        0         0            1           0  \n",
       "3          0        1         0            1           1  \n",
       "4          0        0         1            0           1  "
      ]
     },
     "execution_count": 29,
     "metadata": {},
     "output_type": "execute_result"
    }
   ],
   "source": [
    "# row bind it back to the original dataframe using .concat( axis = 1 )\n",
    "data = pd.concat( [ data, pd.DataFrame( sport_matrix, columns = unique_skills ) ], axis = 1 )\n",
    "data.head(5)"
   ]
  },
  {
   "cell_type": "code",
   "execution_count": 32,
   "metadata": {
    "collapsed": false
   },
   "outputs": [
    {
     "name": "stdout",
     "output_type": "stream",
     "text": [
      "['a_transform', 'b_transform', 'c_transform']\n",
      "['a_transform', 'b_transform', 'c_transform', 'd_power2', 'd_power3', 'd_power4', 'd_power5']\n"
     ]
    }
   ],
   "source": [
    "# filtering column name\n",
    "cols = ['a','b','c','d',\n",
    "        'a_transform','b_transform','c_transform',\n",
    "        'd_power2','d_power3','d_power4','d_power5',\n",
    "        'temp1','temp2']\n",
    "# different filtering\n",
    "col_set1 = [ x for x in cols if x.endswith(\"transform\")]\n",
    "print col_set1\n",
    "col_set2 = [x for x in cols if 'power' in x]\n",
    "col_set3 = [x for x in cols if (x.endswith('transform')) or ('power' in x)]\n",
    "print col_set3\n",
    "col_set4 = [x for x in cols if x not in ['temp1','temp2']]"
   ]
  }
 ],
 "metadata": {
  "kernelspec": {
   "display_name": "Python 2",
   "language": "python",
   "name": "python2"
  },
  "language_info": {
   "codemirror_mode": {
    "name": "ipython",
    "version": 2
   },
   "file_extension": ".py",
   "mimetype": "text/x-python",
   "name": "python",
   "nbconvert_exporter": "python",
   "pygments_lexer": "ipython2",
   "version": "2.7.10"
  }
 },
 "nbformat": 4,
 "nbformat_minor": 0
}
