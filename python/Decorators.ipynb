{
 "cells": [
  {
   "cell_type": "markdown",
   "metadata": {},
   "source": [
    "## Decorators\n",
    "\n",
    "1. http://thecodeship.com/patterns/guide-to-python-function-decorators/\n",
    "2. https://www.youtube.com/watch?v=FsAPt_9Bf3U\n",
    "3. Decorators for clear function wrapping. (http://stackoverflow.com/questions/739654/how-can-i-make-a-chain-of-function-decorators-in-python?rq=1)\n",
    "\n",
    "[Quick summary](https://www.youtube.com/watch?v=kr0mpwqttM0&feature=cards&src_vid=swU3c34d2NQ&annotation_id=98878b78-dceb-4942-8d49-bcbed34e5263): First Class Functions allow us to treat functions like any other objects. e.g. We can pass functions as arguments to other functions ( like map ); we can return functions and we can assign functions to variables.\n",
    "\n",
    "decorators dynamically alters the functionality of a function, method or class without having to directly use subclasses.\n",
    "\n",
    "Some things you should know about functions!!!"
   ]
  },
  {
   "cell_type": "code",
   "execution_count": null,
   "metadata": {
    "collapsed": true
   },
   "outputs": [],
   "source": [
    "# we can assign functions to variables\n",
    "def greet(name) :\n",
    "    return \"hello \" + name\n",
    "\n",
    "greet_someone = greet\n",
    "print greet_someone(\"John\")\n",
    "\n",
    "# we can define functions inside other functions\n",
    "def greet(name) :\n",
    "    def get_message() :\n",
    "        return \"Hello \"\n",
    "\n",
    "    result = get_message() + name\n",
    "    return result\n",
    "\n",
    "print greet(\"John\")\n",
    "\n",
    "# functions can be passed as parameters to other functions\n",
    "def greet(name):\n",
    "    return \"Hello \" + name \n",
    "\n",
    "def call_func(func):\n",
    "    other_name = \"John\"\n",
    "    return func(other_name)  \n",
    "\n",
    "print call_func(greet)\n",
    "\n",
    "# functions can return other functions \n",
    "def compose_greet_func():\n",
    "    def get_message():\n",
    "        return \"Hello John\"\n",
    "\n",
    "    return get_message\n",
    "\n",
    "greet = compose_greet_func()\n",
    "print greet()\n",
    "\n",
    "# scoping, access the inner functions.\n",
    "# note that python only allows read access to the outer scope and not assignment\n",
    "def compose_greet_func(name):\n",
    "    def get_message():\n",
    "        return \"Hello \" + name\n",
    "\n",
    "    return get_message\n",
    "\n",
    "greet = compose_greet_func(\"John\")\n",
    "print greet()"
   ]
  },
  {
   "cell_type": "markdown",
   "metadata": {},
   "source": [
    "Function decorators are simply wrappers to existing functions.\n",
    "\n",
    "In the example below, the `p_decorate` function that takes another function as an argument and generates a new function which augments the work of the original function, and returning the generated function so we can use it anywhere else."
   ]
  },
  {
   "cell_type": "code",
   "execution_count": null,
   "metadata": {
    "collapsed": true
   },
   "outputs": [],
   "source": [
    "def get_text(name):\n",
    "    return \"lorem ipsum, {0} dolor sit amet\".format(name)\n",
    "\n",
    "def p_decorate(func):\n",
    "    def func_wrapper(name):\n",
    "        return \"<p>{0}</p>\".format( func(name) )\n",
    "    return func_wrapper\n",
    "\n",
    "my_get_text = p_decorate(get_text)\n",
    "\n",
    "print my_get_text(\"John\")"
   ]
  },
  {
   "cell_type": "markdown",
   "metadata": {},
   "source": [
    "In python, there's a shortcut for that, which is to mention the name of the decorating function before the function to be decorated. The name of the decorator should start with an @ symbol.\n",
    "\n",
    "So instead of calling `p_decorate(get_text)`. It becomes:"
   ]
  },
  {
   "cell_type": "code",
   "execution_count": null,
   "metadata": {
    "collapsed": true
   },
   "outputs": [],
   "source": [
    "@p_decorate\n",
    "def get_text(name):\n",
    "    return \"lorem ipsum, {0} dolor sit amet\".format(name)\n",
    "\n",
    "print get_text(\"John\")"
   ]
  },
  {
   "cell_type": "markdown",
   "metadata": {},
   "source": [
    "Using multiple decorators. Note the ordering matters."
   ]
  },
  {
   "cell_type": "code",
   "execution_count": null,
   "metadata": {
    "collapsed": true
   },
   "outputs": [],
   "source": [
    "def p_decorate(func):\n",
    "    def func_wrapper(name):\n",
    "        return \"<p>{0}</p>\".format(func(name))\n",
    "    return func_wrapper\n",
    "\n",
    "def strong_decorate(func):\n",
    "    def func_wrapper(name):\n",
    "        return \"<strong>{0}</strong>\".format(func(name))\n",
    "    return func_wrapper\n",
    "\n",
    "def div_decorate(func):\n",
    "    def func_wrapper(name):\n",
    "        return \"<div>{0}</div>\".format(func(name))\n",
    "    return func_wrapper\n",
    "\n",
    "# original way \n",
    "get_text = div_decorate(p_decorate(strong_decorate(get_text)))\n",
    "print get_text(\"John\")\n",
    "\n",
    "# decorator way\n",
    "@div_decorate\n",
    "@p_decorate\n",
    "@strong_decorate\n",
    "def get_text(name):\n",
    "    return \"lorem ipsum, {0} dolor sit amet\".format(name)\n",
    "\n",
    "print get_text(\"John\")\n",
    "\n",
    "# You can also use it with methods.\n",
    "def p_decorate(func):\n",
    "    def func_wrapper(self):\n",
    "        return \"<p>{0}</p>\".format(func(self))\n",
    "    return func_wrapper\n",
    "\n",
    "class Person(object):\n",
    "    def __init__(self):\n",
    "        self.name = \"John\"\n",
    "        self.family = \"Doe\"\n",
    "\n",
    "    @p_decorate\n",
    "    def get_fullname(self):\n",
    "        return self.name + \" \" + self.family\n",
    "\n",
    "my_person = Person()\n",
    "print my_person.get_fullname()"
   ]
  }
 ],
 "metadata": {
  "kernelspec": {
   "display_name": "Python 3",
   "language": "python",
   "name": "python3"
  },
  "language_info": {
   "codemirror_mode": {
    "name": "ipython",
    "version": 3
   },
   "file_extension": ".py",
   "mimetype": "text/x-python",
   "name": "python",
   "nbconvert_exporter": "python",
   "pygments_lexer": "ipython3",
   "version": "3.5.1"
  }
 },
 "nbformat": 4,
 "nbformat_minor": 0
}
